{
 "cells": [
  {
   "cell_type": "markdown",
   "metadata": {},
   "source": [
    "# Spark assignment 1: Pairs\n",
    "Find all the pairs of two consequent words where the first word is “narodnaya”. For each pair, count the number of occurrences in the Wikipedia dump. Print all the pairs with their count in a lexicographical order. Output format is “word_pair <tab> count”, for example:\n",
    "\n",
    "<code>\n",
    "    red_apple\t100500\n",
    "    crazy_zoo\t42\n",
    "</code>\n",
    "\n",
    "Note that two words in a pair are concatenated with the underscore character, and the result is in the lowercase.\n",
    "\n",
    "One motivation for counting these continuations is to get a better understanding of the language. Some words, like “the”, have a lot of continuations, while others, like “San”, have just a few (“San Francisco”, for example). One can build a language model with these statistics. If you are interested to learn more, search for “n-gram language model” in the Internet.\n",
    "\n",
    "Dataset location: /data/wiki/en_articles_part\n",
    "\n",
    "The result on the sample dataset:\n",
    "\n",
    "<code>\n",
    "    narodnaya_gazeta 1\n",
    "    narodnaya_volya 9\n",
    "</code>"
   ]
  },
  {
   "cell_type": "code",
   "execution_count": 1,
   "metadata": {},
   "outputs": [],
   "source": [
    "from pyspark import SparkConf, SparkContext\n",
    "sc = SparkContext(conf=SparkConf().setAppName(\"MyApp\").setMaster(\"local\"))"
   ]
  },
  {
   "cell_type": "code",
   "execution_count": null,
   "metadata": {},
   "outputs": [],
   "source": [
    "# ! cat \"/data/wiki/en_articles_part/articles-part\" | head -1"
   ]
  },
  {
   "cell_type": "code",
   "execution_count": 35,
   "metadata": {},
   "outputs": [
    {
     "name": "stdout",
     "output_type": "stream",
     "text": [
      "narodnaya_gazeta\t1\n",
      "narodnaya_volya\t9\n"
     ]
    }
   ],
   "source": [
    "import re\n",
    "\n",
    "def split_words(line):\n",
    "    try:\n",
    "        article_id, text = unicode(line.rstrip()).split('\\t', 1)\n",
    "        text = re.sub(\"^\\W+|\\W+$\", \"\", text, flags=re.UNICODE)\n",
    "        words = re.split(\"\\W*\\s+\\W*\", text, flags=re.UNICODE)\n",
    "        return words\n",
    "    except ValueError as e:\n",
    "        return []\n",
    "    \n",
    "def make_pairs(words):\n",
    "    last_word = None\n",
    "    for word in words:\n",
    "        word = word.lower()\n",
    "        if last_word and last_word == \"narodnaya\":\n",
    "            yield \"%s_%s\" % (last_word, word)\n",
    "        last_word = word\n",
    "\n",
    "query = sc.textFile(\"/data/wiki/en_articles_part/articles-part\", 16) \\\n",
    "    .map(split_words) \\\n",
    "    .flatMap(make_pairs) \\\n",
    "    .map(lambda x: (str(x), 1)) \\\n",
    "    .reduceByKey(lambda x, y: x + y)\n",
    "\n",
    "result = query.collect()\n",
    "for key, count in result:\n",
    "    print(\"%s\\t%d\" % (key, count))"
   ]
  },
  {
   "cell_type": "code",
   "execution_count": null,
   "metadata": {},
   "outputs": [],
   "source": []
  }
 ],
 "metadata": {
  "kernelspec": {
   "display_name": "Python 2",
   "language": "python",
   "name": "python2"
  },
  "language_info": {
   "codemirror_mode": {
    "name": "ipython",
    "version": 2
   },
   "file_extension": ".py",
   "mimetype": "text/x-python",
   "name": "python",
   "nbconvert_exporter": "python",
   "pygments_lexer": "ipython2",
   "version": "2.7.12"
  }
 },
 "nbformat": 4,
 "nbformat_minor": 2
}
