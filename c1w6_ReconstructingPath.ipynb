{
 "cells": [
  {
   "cell_type": "markdown",
   "metadata": {},
   "source": [
    "# Reconstructing the path\n",
    "In this assignment you will use Spark to compute the shortest path between two vertices. In the video, you have learned how to compute the distances between a source vertex and all other vertices in a graph. Now, your task is to reconstruct the shortest path, that is a sequence of vertices connected by the edges.\n",
    "\n",
    "Dataset location: /data/twitter/twitter_sample_small.txt\n",
    "\n",
    "Format: user_id \\t follower_id\n",
    "\n",
    "You can start with the code described in \"Starter...\" (see the next self-reading).\n",
    "\n",
    "Your task is to find the shortest path between vertices 12 and 34. In case of multiple shortest paths (that is, disjoint paths with the same length), any will suffice. Output format is the sequence of vertices, delimited by a comma, without spaces. For example, the path “12 -> 42 -> 34” should be printed as:\n",
    "\n",
    "<code>12,42,34</code>\n",
    "\n",
    "Hint: before submitting, check your stopping criteria. In BFS, the search was exhaustive, and in this task your program may terminate earlier, thus saving some precious time.\n",
    "\n",
    "The result on the sample dataset:\n",
    "\n",
    "<code>12,422,53,52,107,20,23,274,34</code>\n"
   ]
  },
  {
   "cell_type": "code",
   "execution_count": 2,
   "metadata": {},
   "outputs": [],
   "source": [
    "from pyspark import SparkConf, SparkContext\n",
    "sc = SparkContext(conf=SparkConf().setAppName(\"MyApp\").setMaster(\"local\"))"
   ]
  },
  {
   "cell_type": "code",
   "execution_count": 8,
   "metadata": {},
   "outputs": [
    {
     "name": "stdout",
     "output_type": "stream",
     "text": [
      "12,422,53,52,107,20,23,274,34\n"
     ]
    }
   ],
   "source": [
    "def parse_edge(s):\n",
    "    user, follower = s.split(\"\\t\")\n",
    "    return (int(user), int(follower))\n",
    "\n",
    "def step(item):\n",
    "    print(item)\n",
    "    prev_v, prev_p, next_v = item[0], item[1][0], item[1][1]\n",
    "    return (next_v, prev_p + [next_v])\n",
    "\n",
    "def complete(item):\n",
    "    v, old_p, new_p = item[0], item[1][0], item[1][1]\n",
    "    return (v, old_p if old_p is not None else new_p)\n",
    "\n",
    "n = 4 #00 number of partitions\n",
    "forward_edges = sc.textFile(\"/data/twitter/twitter_sample_small.txt\") \\\n",
    "    .map(parse_edge) \\\n",
    "    .map(lambda x: (x[1], x[0])) \\\n",
    "    .partitionBy(n) \\\n",
    "    .persist()\n",
    "\n",
    "start_v, end_v = 12 , 34\n",
    "paths = sc.parallelize([(start_v, [start_v])]).partitionBy(n)\n",
    "\n",
    "while True:\n",
    "    candidates = paths.join(forward_edges, n).map(step).reduceByKey(min)\n",
    "    paths = paths.fullOuterJoin(candidates, n).map(complete, True).persist()\n",
    "    final_path = paths.lookup(end_v)\n",
    "    if final_path:\n",
    "        print ','.join(map(str,final_path[0]))\n",
    "        break"
   ]
  },
  {
   "cell_type": "code",
   "execution_count": null,
   "metadata": {},
   "outputs": [],
   "source": []
  }
 ],
 "metadata": {
  "kernelspec": {
   "display_name": "Python 2",
   "language": "python",
   "name": "python2"
  },
  "language_info": {
   "codemirror_mode": {
    "name": "ipython",
    "version": 2
   },
   "file_extension": ".py",
   "mimetype": "text/x-python",
   "name": "python",
   "nbconvert_exporter": "python",
   "pygments_lexer": "ipython2",
   "version": "2.7.12"
  }
 },
 "nbformat": 4,
 "nbformat_minor": 2
}
