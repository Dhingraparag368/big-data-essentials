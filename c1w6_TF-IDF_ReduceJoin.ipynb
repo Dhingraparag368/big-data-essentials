{
 "cells": [
  {
   "cell_type": "markdown",
   "metadata": {},
   "source": [
    "# Real-World Applications: TF-IDF\n",
    "In this task Hadoop Streaming is used to process Wikipedia articles dump (/data/wiki/en_articles_part).\n",
    "\n",
    "The purpose of this task is to calculate <code>tf*idf</code> for each pair (word, article) from the Wikipedia dump. Apply the stop words filter to speed up calculations. Term frequency (tf) is a function depending on a term (word) and a document (article):\n",
    "\n",
    "<code>tf(term, doc_id) = Nt/N</code>,\n",
    "\n",
    "where Nt - quantity of particular term in the document, N - the total number of terms in the document (without stop words)\n",
    "\n",
    "Inverse document frequency (idf) is a function depends on a term:\n",
    "\n",
    "<code>idf(term) = 1/log(1 + Dt)</code>,\n",
    "\n",
    "where Dt - number of documents in the dataset with the particular term.\n",
    "\n",
    "You can find more information here: https://en.wikipedia.xn--org/wiki/Tfidf-q82h but use just the formulas mentioned above.\n",
    "\n",
    "Dataset location: /data/wiki/en_articles_part\n",
    "\n",
    "Stop words list is in ‘/datasets/stop_words_en.txt’ file.\n",
    "\n",
    "Format: article_id <i>tab</i> article_text\n",
    "\n",
    "To parse the articles don’t forget about Unicode (even though this is an English Wikipedia dump, there are many characters from other languages), remove punctuation marks and transform words to lowercase to get the correct quantities. To cope with Unicode we recommend to use the following tokenizer:\n",
    "\n",
    "Output: <code>tf*idf</code> for term=’labor’ and article_id=12\n",
    "\n",
    "The result on the sample dataset:\n",
    "\n",
    "<code>0.000351</code>\n",
    "\n",
    "<i>Hint: all Wikipedia article_ids are greater than 0. So you can use a dummy article_id=0 to calculate the number of documents with each term.</i>"
   ]
  },
  {
   "cell_type": "markdown",
   "metadata": {},
   "source": [
    "## Reduce side join solution"
   ]
  },
  {
   "cell_type": "code",
   "execution_count": 37,
   "metadata": {},
   "outputs": [
    {
     "name": "stdout",
     "output_type": "stream",
     "text": [
      "Writing wiki.dat\n"
     ]
    }
   ],
   "source": [
    "%%writefile wiki.dat\n",
    "\n",
    "1\tIn this task Hadoop Streaming is used to process Wikipedia articles dump calculations.\n",
    "2\tThe purpose of this task is to calculate tf*idf for each pair (word, article) from the Wikipedia dump calculations.\n",
    "3\tApply the stop words filter to speed up calculations calculations calculations calculations calculations. \n",
    "4\tTerm frequency (tf) is a function depending on a term (word) and a document (article)\n",
    "5\tTo parse the articles don’t forget about Unicode (even though this is an English Wikipedia dump, there are many characters from other languages), remove punctuation marks and transform words to lowercase to get the correct quantities."
   ]
  },
  {
   "cell_type": "code",
   "execution_count": 38,
   "metadata": {},
   "outputs": [],
   "source": [
    "%%bash\n",
    "cp '/datasets/stop_words_en.txt' 'stop_words_en.txt'"
   ]
  },
  {
   "cell_type": "markdown",
   "metadata": {},
   "source": [
    "### Step 1\n",
    "First mapper calculates TF for each term. There is no reducer. Output is <code>{term}/t{article_id}/t{tf}</code>"
   ]
  },
  {
   "cell_type": "code",
   "execution_count": 3,
   "metadata": {},
   "outputs": [
    {
     "name": "stdout",
     "output_type": "stream",
     "text": [
      "Writing mapper1.py\n"
     ]
    }
   ],
   "source": [
    "%%writefile mapper1.py\n",
    "\n",
    "import sys\n",
    "import re\n",
    "\n",
    "reload(sys)\n",
    "sys.setdefaultencoding('utf-8')\n",
    "\n",
    "with open('stop_words_en.txt', \"r\") as f:\n",
    "    stop_words = set(f.read().splitlines())\n",
    "    \n",
    "for line in sys.stdin:\n",
    "    try:\n",
    "        article_id, text = unicode(line.strip()).split('\\t', 1)\n",
    "    except ValueError as e:\n",
    "        continue\n",
    "\n",
    "    text= re.sub(\"^\\W+|\\W+$\", \"\", text, flags=re.UNICODE)\n",
    "    text = re.split(\"\\W*\\s+\\W*\", text, flags=re.UNICODE)   \n",
    "    \n",
    "    counter = dict()\n",
    "    for w in text:\n",
    "        w = w.lower()\n",
    "        if w in stop_words:\n",
    "            continue\n",
    "            \n",
    "        if w in counter:\n",
    "            counter[w] += 1\n",
    "        else:\n",
    "            counter[w] = 1\n",
    "    \n",
    "    total = sum(counter.values())\n",
    "    \n",
    "    for term, cnt in counter.iteritems():\n",
    "        print \"%s\\t%s\\t%f\" % (term, article_id, float(cnt)/total) "
   ]
  },
  {
   "cell_type": "code",
   "execution_count": 39,
   "metadata": {},
   "outputs": [
    {
     "name": "stdout",
     "output_type": "stream",
     "text": [
      "transform\t5\t0.055556\r\n",
      "unicode\t5\t0.055556\r\n",
      "used\t1\t0.111111\r\n",
      "wikipedia\t1\t0.111111\r\n",
      "wikipedia\t2\t0.100000\r\n",
      "wikipedia\t5\t0.055556\r\n",
      "word\t2\t0.100000\r\n",
      "word\t4\t0.111111\r\n",
      "words\t3\t0.100000\r\n",
      "words\t5\t0.055556\r\n"
     ]
    }
   ],
   "source": [
    "cat wiki.dat | python2 ./mapper1.py | sort | tail"
   ]
  },
  {
   "cell_type": "markdown",
   "metadata": {},
   "source": [
    "### Step2\n",
    "Second mapper does nothing and reducer calculates IDF. Input is output of the previous step. Output is <code>{term}/t0/t{idf}</code>."
   ]
  },
  {
   "cell_type": "code",
   "execution_count": 40,
   "metadata": {},
   "outputs": [
    {
     "name": "stdout",
     "output_type": "stream",
     "text": [
      "Overwriting empty_mapper.py\n"
     ]
    }
   ],
   "source": [
    "%%writefile empty_mapper.py\n",
    "\n",
    "import sys\n",
    "    \n",
    "for line in sys.stdin:\n",
    "    print line"
   ]
  },
  {
   "cell_type": "code",
   "execution_count": 41,
   "metadata": {},
   "outputs": [
    {
     "name": "stdout",
     "output_type": "stream",
     "text": [
      "transform\t5\t0.055556\r\n",
      "unicode\t5\t0.055556\r\n",
      "used\t1\t0.111111\r\n",
      "wikipedia\t1\t0.111111\r\n",
      "wikipedia\t2\t0.100000\r\n",
      "wikipedia\t5\t0.055556\r\n",
      "word\t2\t0.100000\r\n",
      "word\t4\t0.111111\r\n",
      "words\t3\t0.100000\r\n",
      "words\t5\t0.055556\r\n"
     ]
    }
   ],
   "source": [
    "cat wiki.dat | python2 ./mapper1.py | python2 ./empty_mapper.py | sort | tail"
   ]
  },
  {
   "cell_type": "code",
   "execution_count": 42,
   "metadata": {},
   "outputs": [
    {
     "name": "stdout",
     "output_type": "stream",
     "text": [
      "Overwriting reducer2.py\n"
     ]
    }
   ],
   "source": [
    "%%writefile reducer2.py\n",
    "\n",
    "import sys\n",
    "from math import log\n",
    "\n",
    "current_key = None\n",
    "key_sum = 0\n",
    "idf = lambda x: 1/log(1+x)\n",
    "\n",
    "for line in sys.stdin:\n",
    "    try:\n",
    "        term, article_id, tf = line.strip().split('\\t', 2)\n",
    "    except ValueError as e:\n",
    "        continue\n",
    "        \n",
    "    if current_key != term:\n",
    "        if current_key:            \n",
    "            print \"%s\\t%d\\t%f\" % (current_key, 0, idf(key_sum)) # dummy article_id=0   \n",
    "        current_key = term\n",
    "        key_sum = 0\n",
    "    key_sum += 1\n",
    "    \n",
    "if current_key:\n",
    "    print \"%s\\t%d\\t%f\" % (current_key, 0, idf(key_sum))"
   ]
  },
  {
   "cell_type": "code",
   "execution_count": 43,
   "metadata": {},
   "outputs": [
    {
     "name": "stdout",
     "output_type": "stream",
     "text": [
      "task\t0\t0.910239\r\n",
      "term\t0\t1.442695\r\n",
      "tf\t0\t1.442695\r\n",
      "tf*idf\t0\t1.442695\r\n",
      "transform\t0\t1.442695\r\n",
      "unicode\t0\t1.442695\r\n",
      "used\t0\t1.442695\r\n",
      "wikipedia\t0\t0.721348\r\n",
      "word\t0\t0.910239\r\n",
      "words\t0\t0.910239\r\n"
     ]
    }
   ],
   "source": [
    "cat wiki.dat | python2 ./mapper1.py | python2 ./empty_mapper.py | sort | python2 ./reducer2.py | tail"
   ]
  },
  {
   "cell_type": "markdown",
   "metadata": {},
   "source": [
    "### Step 3\n",
    "Multiple inputs from step1 and step2. Mapper does nothing. Reducer calculates tf*idf. For each term idf comes from the first row (article_id=0)."
   ]
  },
  {
   "cell_type": "code",
   "execution_count": 49,
   "metadata": {},
   "outputs": [
    {
     "name": "stdout",
     "output_type": "stream",
     "text": [
      "Overwriting terms.dat\n"
     ]
    }
   ],
   "source": [
    "%%writefile terms.dat\n",
    "\n",
    "wikipedia\t0\t0.721348\n",
    "wikipedia\t1\t0.111111\n",
    "wikipedia\t2\t0.100000\n",
    "wikipedia\t5\t0.055556\n",
    "word\t0\t0.910239\n",
    "word\t2\t0.100000\n",
    "word\t4\t0.111111\n",
    "words\t3\t0.100000\n",
    "words\t0\t0.910239\n",
    "words\t5\t0.055556"
   ]
  },
  {
   "cell_type": "code",
   "execution_count": 65,
   "metadata": {},
   "outputs": [
    {
     "name": "stdout",
     "output_type": "stream",
     "text": [
      "Overwriting reducer3.py\n"
     ]
    }
   ],
   "source": [
    "%%writefile reducer3.py\n",
    "\n",
    "import sys\n",
    "\n",
    "idf = None\n",
    "\n",
    "for line in sys.stdin:\n",
    "    try:\n",
    "        term, article_id, tf = line.strip().split('\\t', 2)\n",
    "        article_id = int(article_id)\n",
    "        tf = float(tf)\n",
    "    except ValueError as e:\n",
    "        continue\n",
    "        \n",
    "    if article_id == 0:\n",
    "        idf = tf\n",
    "        continue\n",
    "    \n",
    "    print \"%s\\t%d\\t%f\" % (term, article_id, tf*idf)"
   ]
  },
  {
   "cell_type": "code",
   "execution_count": 66,
   "metadata": {},
   "outputs": [
    {
     "name": "stdout",
     "output_type": "stream",
     "text": [
      "wikipedia\t1\t0.080150\r\n",
      "wikipedia\t2\t0.072135\r\n",
      "wikipedia\t5\t0.040075\r\n",
      "word\t2\t0.091024\r\n",
      "word\t4\t0.101138\r\n",
      "words\t3\t0.091024\r\n",
      "words\t5\t0.050569\r\n"
     ]
    }
   ],
   "source": [
    "cat terms.dat | python2 ./reducer3.py"
   ]
  },
  {
   "cell_type": "code",
   "execution_count": 67,
   "metadata": {},
   "outputs": [
    {
     "name": "stderr",
     "output_type": "stream",
     "text": [
      "19/05/01 06:22:39 INFO client.RMProxy: Connecting to ResourceManager at /0.0.0.0:8032\n",
      "19/05/01 06:22:39 INFO client.RMProxy: Connecting to ResourceManager at /0.0.0.0:8032\n",
      "19/05/01 06:22:40 INFO mapred.FileInputFormat: Total input files to process : 1\n",
      "19/05/01 06:22:40 INFO mapreduce.JobSubmitter: number of splits:2\n",
      "19/05/01 06:22:40 INFO mapreduce.JobSubmitter: Submitting tokens for job: job_1556667947441_0010\n",
      "19/05/01 06:22:40 INFO impl.YarnClientImpl: Submitted application application_1556667947441_0010\n",
      "19/05/01 06:22:40 INFO mapreduce.Job: The url to track the job: http://e08b01388497:8088/proxy/application_1556667947441_0010/\n",
      "19/05/01 06:22:40 INFO mapreduce.Job: Running job: job_1556667947441_0010\n",
      "19/05/01 06:22:46 INFO mapreduce.Job: Job job_1556667947441_0010 running in uber mode : false\n",
      "19/05/01 06:22:46 INFO mapreduce.Job:  map 0% reduce 0%\n",
      "19/05/01 06:23:02 INFO mapreduce.Job:  map 100% reduce 0%\n",
      "19/05/01 06:23:03 INFO mapreduce.Job: Job job_1556667947441_0010 completed successfully\n",
      "19/05/01 06:23:03 INFO mapreduce.Job: Counters: 30\n",
      "\tFile System Counters\n",
      "\t\tFILE: Number of bytes read=0\n",
      "\t\tFILE: Number of bytes written=278586\n",
      "\t\tFILE: Number of read operations=0\n",
      "\t\tFILE: Number of large read operations=0\n",
      "\t\tFILE: Number of write operations=0\n",
      "\t\tHDFS: Number of bytes read=76874501\n",
      "\t\tHDFS: Number of bytes written=76752215\n",
      "\t\tHDFS: Number of read operations=10\n",
      "\t\tHDFS: Number of large read operations=0\n",
      "\t\tHDFS: Number of write operations=4\n",
      "\tJob Counters \n",
      "\t\tLaunched map tasks=2\n",
      "\t\tData-local map tasks=2\n",
      "\t\tTotal time spent by all maps in occupied slots (ms)=29010\n",
      "\t\tTotal time spent by all reduces in occupied slots (ms)=0\n",
      "\t\tTotal time spent by all map tasks (ms)=29010\n",
      "\t\tTotal vcore-milliseconds taken by all map tasks=29010\n",
      "\t\tTotal megabyte-milliseconds taken by all map tasks=29706240\n",
      "\tMap-Reduce Framework\n",
      "\t\tMap input records=4100\n",
      "\t\tMap output records=3472288\n",
      "\t\tInput split bytes=228\n",
      "\t\tSpilled Records=0\n",
      "\t\tFailed Shuffles=0\n",
      "\t\tMerged Map outputs=0\n",
      "\t\tGC time elapsed (ms)=256\n",
      "\t\tCPU time spent (ms)=29330\n",
      "\t\tPhysical memory (bytes) snapshot=372232192\n",
      "\t\tVirtual memory (bytes) snapshot=4031676416\n",
      "\t\tTotal committed heap usage (bytes)=290979840\n",
      "\tFile Input Format Counters \n",
      "\t\tBytes Read=76874273\n",
      "\tFile Output Format Counters \n",
      "\t\tBytes Written=76752215\n",
      "19/05/01 06:23:03 INFO streaming.StreamJob: Output directory: dir1\n",
      "19/05/01 06:23:05 INFO client.RMProxy: Connecting to ResourceManager at /0.0.0.0:8032\n",
      "19/05/01 06:23:06 INFO client.RMProxy: Connecting to ResourceManager at /0.0.0.0:8032\n",
      "19/05/01 06:23:06 INFO mapred.FileInputFormat: Total input files to process : 2\n",
      "19/05/01 06:23:06 INFO mapreduce.JobSubmitter: number of splits:2\n",
      "19/05/01 06:23:06 INFO mapreduce.JobSubmitter: Submitting tokens for job: job_1556667947441_0011\n",
      "19/05/01 06:23:06 INFO impl.YarnClientImpl: Submitted application application_1556667947441_0011\n",
      "19/05/01 06:23:07 INFO mapreduce.Job: The url to track the job: http://e08b01388497:8088/proxy/application_1556667947441_0011/\n",
      "19/05/01 06:23:07 INFO mapreduce.Job: Running job: job_1556667947441_0011\n",
      "19/05/01 06:23:15 INFO mapreduce.Job: Job job_1556667947441_0011 running in uber mode : false\n",
      "19/05/01 06:23:15 INFO mapreduce.Job:  map 0% reduce 0%\n",
      "19/05/01 06:23:26 INFO mapreduce.Job:  map 100% reduce 0%\n",
      "19/05/01 06:23:32 INFO mapreduce.Job:  map 100% reduce 13%\n",
      "19/05/01 06:23:35 INFO mapreduce.Job:  map 100% reduce 25%\n",
      "19/05/01 06:23:36 INFO mapreduce.Job:  map 100% reduce 38%\n",
      "19/05/01 06:23:37 INFO mapreduce.Job:  map 100% reduce 50%\n",
      "19/05/01 06:23:38 INFO mapreduce.Job:  map 100% reduce 63%\n",
      "19/05/01 06:23:39 INFO mapreduce.Job:  map 100% reduce 75%\n",
      "19/05/01 06:23:40 INFO mapreduce.Job:  map 100% reduce 88%\n",
      "19/05/01 06:23:41 INFO mapreduce.Job:  map 100% reduce 100%\n",
      "19/05/01 06:23:41 INFO mapreduce.Job: Job job_1556667947441_0011 completed successfully\n",
      "19/05/01 06:23:41 INFO mapreduce.Job: Counters: 50\n",
      "\tFile System Counters\n",
      "\t\tFILE: Number of bytes read=195222826\n",
      "\t\tFILE: Number of bytes written=294154528\n",
      "\t\tFILE: Number of read operations=0\n",
      "\t\tFILE: Number of large read operations=0\n",
      "\t\tFILE: Number of write operations=0\n",
      "\t\tHDFS: Number of bytes read=76752417\n",
      "\t\tHDFS: Number of bytes written=9139759\n",
      "\t\tHDFS: Number of read operations=30\n",
      "\t\tHDFS: Number of large read operations=0\n",
      "\t\tHDFS: Number of write operations=16\n",
      "\tJob Counters \n",
      "\t\tKilled map tasks=1\n",
      "\t\tLaunched map tasks=2\n",
      "\t\tLaunched reduce tasks=8\n",
      "\t\tData-local map tasks=2\n",
      "\t\tTotal time spent by all maps in occupied slots (ms)=19205\n",
      "\t\tTotal time spent by all reduces in occupied slots (ms)=40273\n",
      "\t\tTotal time spent by all map tasks (ms)=19205\n",
      "\t\tTotal time spent by all reduce tasks (ms)=40273\n",
      "\t\tTotal vcore-milliseconds taken by all map tasks=19205\n",
      "\t\tTotal vcore-milliseconds taken by all reduce tasks=40273\n",
      "\t\tTotal megabyte-milliseconds taken by all map tasks=19665920\n",
      "\t\tTotal megabyte-milliseconds taken by all reduce tasks=41239552\n",
      "\tMap-Reduce Framework\n",
      "\t\tMap input records=3472288\n",
      "\t\tMap output records=6944576\n",
      "\t\tMap output bytes=83696800\n",
      "\t\tMap output materialized bytes=97586058\n",
      "\t\tInput split bytes=202\n",
      "\t\tCombine input records=0\n",
      "\t\tCombine output records=0\n",
      "\t\tReduce input groups=426242\n",
      "\t\tReduce shuffle bytes=97586058\n",
      "\t\tReduce input records=6944576\n",
      "\t\tReduce output records=426241\n",
      "\t\tSpilled Records=20833728\n",
      "\t\tShuffled Maps =16\n",
      "\t\tFailed Shuffles=0\n",
      "\t\tMerged Map outputs=16\n",
      "\t\tGC time elapsed (ms)=1089\n",
      "\t\tCPU time spent (ms)=49550\n",
      "\t\tPhysical memory (bytes) snapshot=2271387648\n",
      "\t\tVirtual memory (bytes) snapshot=20215648256\n",
      "\t\tTotal committed heap usage (bytes)=1562902528\n",
      "\tShuffle Errors\n",
      "\t\tBAD_ID=0\n",
      "\t\tCONNECTION=0\n",
      "\t\tIO_ERROR=0\n",
      "\t\tWRONG_LENGTH=0\n",
      "\t\tWRONG_MAP=0\n",
      "\t\tWRONG_REDUCE=0\n",
      "\tFile Input Format Counters \n",
      "\t\tBytes Read=76752215\n",
      "\tFile Output Format Counters \n",
      "\t\tBytes Written=9139759\n",
      "19/05/01 06:23:41 INFO streaming.StreamJob: Output directory: dir2\n"
     ]
    }
   ],
   "source": [
    "%%bash\n",
    "\n",
    "OUT_STEP1=\"dir1\"\n",
    "OUT_STEP2=\"dir2\"\n",
    "OUT_STEP3=\"dir3\"\n",
    "\n",
    "hdfs dfs -rm -r -skipTrash ${OUT_STEP1} > /dev/null\n",
    "hdfs dfs -rm -r -skipTrash ${OUT_STEP2} > /dev/null\n",
    "hdfs dfs -rm -r -skipTrash ${OUT_STEP3} > /dev/null\n",
    "\n",
    "yarn jar /opt/cloudera/parcels/CDH/lib/hadoop-mapreduce/hadoop-streaming.jar \\\n",
    "    -D mapred.jab.name=\"Step 1\" \\\n",
    "    -files mapper1.py,/datasets/stop_words_en.txt \\\n",
    "    -mapper \"python mapper1.py\" \\\n",
    "    -numReduceTasks 0 \\\n",
    "    -input /data/wiki/en_articles_part \\\n",
    "    -output ${OUT_STEP1} > /dev/null\n",
    "    \n",
    "yarn jar /opt/cloudera/parcels/CDH/lib/hadoop-mapreduce/hadoop-streaming.jar \\\n",
    "    -D mapred.jab.name=\"Step 2\" \\\n",
    "    -D mapreduce.job.reduces=8 \\\n",
    "    -files empty_mapper.py,reducer2.py \\\n",
    "    -mapper \"python empty_mapper.py\" \\\n",
    "    -reducer \"python reducer2.py\" \\\n",
    "    -input ${OUT_STEP1} \\\n",
    "    -output ${OUT_STEP2} > /dev/null\n",
    "\n",
    "# hdfs dfs -cat ${OUT_STEP3}/* |  grep -P 'labor\\t12\\t' | cut -f3"
   ]
  },
  {
   "cell_type": "code",
   "execution_count": 70,
   "metadata": {},
   "outputs": [
    {
     "name": "stderr",
     "output_type": "stream",
     "text": [
      "rm: `dir3': No such file or directory\n",
      "19/05/01 06:28:38 INFO client.RMProxy: Connecting to ResourceManager at /0.0.0.0:8032\n",
      "19/05/01 06:28:39 INFO client.RMProxy: Connecting to ResourceManager at /0.0.0.0:8032\n",
      "19/05/01 06:28:39 INFO mapred.FileInputFormat: Total input files to process : 10\n",
      "19/05/01 06:28:39 INFO mapreduce.JobSubmitter: number of splits:10\n",
      "19/05/01 06:28:39 INFO mapreduce.JobSubmitter: Submitting tokens for job: job_1556667947441_0012\n",
      "19/05/01 06:28:40 INFO impl.YarnClientImpl: Submitted application application_1556667947441_0012\n",
      "19/05/01 06:28:40 INFO mapreduce.Job: The url to track the job: http://e08b01388497:8088/proxy/application_1556667947441_0012/\n",
      "19/05/01 06:28:40 INFO mapreduce.Job: Running job: job_1556667947441_0012\n",
      "19/05/01 06:28:46 INFO mapreduce.Job: Job job_1556667947441_0012 running in uber mode : false\n",
      "19/05/01 06:28:46 INFO mapreduce.Job:  map 0% reduce 0%\n",
      "19/05/01 06:28:52 INFO mapreduce.Job:  map 40% reduce 0%\n",
      "19/05/01 06:28:56 INFO mapreduce.Job:  map 80% reduce 0%\n",
      "19/05/01 06:28:59 INFO mapreduce.Job:  map 100% reduce 0%\n",
      "19/05/01 06:29:03 INFO mapreduce.Job:  map 100% reduce 38%\n",
      "19/05/01 06:29:06 INFO mapreduce.Job:  map 100% reduce 63%\n",
      "19/05/01 06:29:08 INFO mapreduce.Job: Task Id : attempt_1556667947441_0012_r_000001_0, Status : FAILED\n",
      "Error: java.lang.RuntimeException: PipeMapRed.waitOutputThreads(): subprocess failed with code 1\n",
      "\tat org.apache.hadoop.streaming.PipeMapRed.waitOutputThreads(PipeMapRed.java:325)\n",
      "\tat org.apache.hadoop.streaming.PipeMapRed.mapRedFinished(PipeMapRed.java:538)\n",
      "\tat org.apache.hadoop.streaming.PipeReducer.close(PipeReducer.java:134)\n",
      "\tat org.apache.hadoop.io.IOUtils.cleanup(IOUtils.java:250)\n",
      "\tat org.apache.hadoop.mapred.ReduceTask.runOldReducer(ReduceTask.java:459)\n",
      "\tat org.apache.hadoop.mapred.ReduceTask.run(ReduceTask.java:392)\n",
      "\tat org.apache.hadoop.mapred.YarnChild$2.run(YarnChild.java:175)\n",
      "\tat java.security.AccessController.doPrivileged(Native Method)\n",
      "\tat javax.security.auth.Subject.doAs(Subject.java:422)\n",
      "\tat org.apache.hadoop.security.UserGroupInformation.doAs(UserGroupInformation.java:1807)\n",
      "\tat org.apache.hadoop.mapred.YarnChild.main(YarnChild.java:169)\n",
      "\n",
      "19/05/01 06:29:10 INFO mapreduce.Job:  map 100% reduce 88%\n",
      "19/05/01 06:29:22 INFO mapreduce.Job: Task Id : attempt_1556667947441_0012_r_000001_1, Status : FAILED\n",
      "Error: java.lang.RuntimeException: PipeMapRed.waitOutputThreads(): subprocess failed with code 1\n",
      "\tat org.apache.hadoop.streaming.PipeMapRed.waitOutputThreads(PipeMapRed.java:325)\n",
      "\tat org.apache.hadoop.streaming.PipeMapRed.mapRedFinished(PipeMapRed.java:538)\n",
      "\tat org.apache.hadoop.streaming.PipeReducer.close(PipeReducer.java:134)\n",
      "\tat org.apache.hadoop.io.IOUtils.cleanup(IOUtils.java:250)\n",
      "\tat org.apache.hadoop.mapred.ReduceTask.runOldReducer(ReduceTask.java:459)\n",
      "\tat org.apache.hadoop.mapred.ReduceTask.run(ReduceTask.java:392)\n",
      "\tat org.apache.hadoop.mapred.YarnChild$2.run(YarnChild.java:175)\n",
      "\tat java.security.AccessController.doPrivileged(Native Method)\n",
      "\tat javax.security.auth.Subject.doAs(Subject.java:422)\n",
      "\tat org.apache.hadoop.security.UserGroupInformation.doAs(UserGroupInformation.java:1807)\n",
      "\tat org.apache.hadoop.mapred.YarnChild.main(YarnChild.java:169)\n",
      "\n",
      "19/05/01 06:29:27 INFO mapreduce.Job: Task Id : attempt_1556667947441_0012_r_000001_2, Status : FAILED\n",
      "Error: java.lang.RuntimeException: PipeMapRed.waitOutputThreads(): subprocess failed with code 1\n",
      "\tat org.apache.hadoop.streaming.PipeMapRed.waitOutputThreads(PipeMapRed.java:325)\n",
      "\tat org.apache.hadoop.streaming.PipeMapRed.mapRedFinished(PipeMapRed.java:538)\n",
      "\tat org.apache.hadoop.streaming.PipeReducer.close(PipeReducer.java:134)\n",
      "\tat org.apache.hadoop.io.IOUtils.cleanup(IOUtils.java:250)\n",
      "\tat org.apache.hadoop.mapred.ReduceTask.runOldReducer(ReduceTask.java:459)\n",
      "\tat org.apache.hadoop.mapred.ReduceTask.run(ReduceTask.java:392)\n",
      "\tat org.apache.hadoop.mapred.YarnChild$2.run(YarnChild.java:175)\n",
      "\tat java.security.AccessController.doPrivileged(Native Method)\n",
      "\tat javax.security.auth.Subject.doAs(Subject.java:422)\n",
      "\tat org.apache.hadoop.security.UserGroupInformation.doAs(UserGroupInformation.java:1807)\n",
      "\tat org.apache.hadoop.mapred.YarnChild.main(YarnChild.java:169)\n",
      "\n",
      "19/05/01 06:29:44 INFO mapreduce.Job:  map 100% reduce 100%\n",
      "19/05/01 06:29:44 INFO mapreduce.Job: Job job_1556667947441_0012 failed with state FAILED due to: Task failed task_1556667947441_0012_r_000001\n",
      "Job failed as tasks failed. failedMaps:0 failedReduces:1\n",
      "\n",
      "19/05/01 06:29:44 INFO mapreduce.Job: Counters: 51\n",
      "\tFile System Counters\n",
      "\t\tFILE: Number of bytes read=179653171\n",
      "\t\tFILE: Number of bytes written=291262064\n",
      "\t\tFILE: Number of read operations=0\n",
      "\t\tFILE: Number of large read operations=0\n",
      "\t\tFILE: Number of write operations=0\n",
      "\t\tHDFS: Number of bytes read=85892984\n",
      "\t\tHDFS: Number of bytes written=67197883\n",
      "\t\tHDFS: Number of read operations=51\n",
      "\t\tHDFS: Number of large read operations=0\n",
      "\t\tHDFS: Number of write operations=14\n",
      "\tJob Counters \n",
      "\t\tFailed reduce tasks=4\n",
      "\t\tKilled map tasks=1\n",
      "\t\tLaunched map tasks=10\n",
      "\t\tLaunched reduce tasks=12\n",
      "\t\tData-local map tasks=10\n",
      "\t\tTotal time spent by all maps in occupied slots (ms)=50002\n",
      "\t\tTotal time spent by all reduces in occupied slots (ms)=86844\n",
      "\t\tTotal time spent by all map tasks (ms)=50002\n",
      "\t\tTotal time spent by all reduce tasks (ms)=86844\n",
      "\t\tTotal vcore-milliseconds taken by all map tasks=50002\n",
      "\t\tTotal vcore-milliseconds taken by all reduce tasks=86844\n",
      "\t\tTotal megabyte-milliseconds taken by all map tasks=51202048\n",
      "\t\tTotal megabyte-milliseconds taken by all reduce tasks=88928256\n",
      "\tMap-Reduce Framework\n",
      "\t\tMap input records=3898529\n",
      "\t\tMap output records=7797058\n",
      "\t\tMap output bytes=93689050\n",
      "\t\tMap output materialized bytes=109283666\n",
      "\t\tInput split bytes=1010\n",
      "\t\tCombine input records=0\n",
      "\t\tCombine output records=0\n",
      "\t\tReduce input groups=372791\n",
      "\t\tReduce shuffle bytes=82016733\n",
      "\t\tReduce input records=3413585\n",
      "\t\tReduce output records=3040794\n",
      "\t\tSpilled Records=18155219\n",
      "\t\tShuffled Maps =70\n",
      "\t\tFailed Shuffles=0\n",
      "\t\tMerged Map outputs=70\n",
      "\t\tGC time elapsed (ms)=2497\n",
      "\t\tCPU time spent (ms)=63070\n",
      "\t\tPhysical memory (bytes) snapshot=4296597504\n",
      "\t\tVirtual memory (bytes) snapshot=34254090240\n",
      "\t\tTotal committed heap usage (bytes)=2997354496\n",
      "\tShuffle Errors\n",
      "\t\tBAD_ID=0\n",
      "\t\tCONNECTION=0\n",
      "\t\tIO_ERROR=0\n",
      "\t\tWRONG_LENGTH=0\n",
      "\t\tWRONG_MAP=0\n",
      "\t\tWRONG_REDUCE=0\n",
      "\tFile Input Format Counters \n",
      "\t\tBytes Read=85891974\n",
      "\tFile Output Format Counters \n",
      "\t\tBytes Written=67197883\n",
      "19/05/01 06:29:44 ERROR streaming.StreamJob: Job not successful!\n",
      "Streaming Command Failed!\n",
      "cat: `dir3/*': No such file or directory\n"
     ]
    }
   ],
   "source": [
    "%%bash\n",
    "\n",
    "OUT_STEP1=\"dir1\"\n",
    "OUT_STEP2=\"dir2\"\n",
    "OUT_STEP3=\"dir3\"\n",
    "\n",
    "hdfs dfs -rm -r -skipTrash ${OUT_STEP3} > /dev/null\n",
    "\n",
    "yarn jar /opt/cloudera/parcels/CDH/lib/hadoop-mapreduce/hadoop-streaming.jar \\\n",
    "    -D mapred.jab.name=\"Step 3\" \\\n",
    "    -D mapreduce.job.reduces=8 \\\n",
    "    -files empty_mapper.py,reducer3.py \\\n",
    "    -mapper \"python empty_mapper.py\" \\\n",
    "    -reducer \"python reducer3.py\" \\\n",
    "    -input ${OUT_STEP1} \\\n",
    "    -input ${OUT_STEP2} \\\n",
    "    -output ${OUT_STEP3} > /dev/null\n",
    "\n",
    "hdfs dfs -cat ${OUT_STEP3}/* |  grep -P 'labor\\t12\\t' | cut -f3"
   ]
  },
  {
   "cell_type": "code",
   "execution_count": null,
   "metadata": {},
   "outputs": [],
   "source": []
  }
 ],
 "metadata": {
  "kernelspec": {
   "display_name": "Python 2",
   "language": "python",
   "name": "python2"
  },
  "language_info": {
   "codemirror_mode": {
    "name": "ipython",
    "version": 2
   },
   "file_extension": ".py",
   "mimetype": "text/x-python",
   "name": "python",
   "nbconvert_exporter": "python",
   "pygments_lexer": "ipython2",
   "version": "2.7.12"
  }
 },
 "nbformat": 4,
 "nbformat_minor": 2
}
