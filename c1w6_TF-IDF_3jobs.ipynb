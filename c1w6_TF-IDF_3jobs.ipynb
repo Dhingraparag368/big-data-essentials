{
 "cells": [
  {
   "cell_type": "markdown",
   "metadata": {},
   "source": [
    "# Real-World Applications: TF-IDF\n",
    "In this task Hadoop Streaming is used to process Wikipedia articles dump (/data/wiki/en_articles_part).\n",
    "\n",
    "The purpose of this task is to calculate <code>tf*idf</code> for each pair (word, article) from the Wikipedia dump. Apply the stop words filter to speed up calculations. Term frequency (tf) is a function depending on a term (word) and a document (article):\n",
    "\n",
    "<code>tf(term, doc_id) = Nt/N</code>,\n",
    "\n",
    "where Nt - quantity of particular term in the document, N - the total number of terms in the document (without stop words)\n",
    "\n",
    "Inverse document frequency (idf) is a function depends on a term:\n",
    "\n",
    "<code>idf(term) = 1/log(1 + Dt)</code>,\n",
    "\n",
    "where Dt - number of documents in the dataset with the particular term.\n",
    "\n",
    "You can find more information here: https://en.wikipedia.xn--org/wiki/Tfidf-q82h but use just the formulas mentioned above.\n",
    "\n",
    "Dataset location: /data/wiki/en_articles_part\n",
    "\n",
    "Stop words list is in ‘/datasets/stop_words_en.txt’ file.\n",
    "\n",
    "Format: article_id <i>tab</i> article_text\n",
    "\n",
    "To parse the articles don’t forget about Unicode (even though this is an English Wikipedia dump, there are many characters from other languages), remove punctuation marks and transform words to lowercase to get the correct quantities. To cope with Unicode we recommend to use the following tokenizer:\n",
    "\n",
    "Output: <code>tf*idf</code> for term=’labor’ and article_id=12\n",
    "\n",
    "The result on the sample dataset:\n",
    "\n",
    "<code>0.000351</code>\n",
    "\n",
    "<i>Hint: all Wikipedia article_ids are greater than 0. So you can use a dummy article_id=0 to calculate the number of documents with each term.</i>"
   ]
  },
  {
   "cell_type": "markdown",
   "metadata": {},
   "source": [
    "## Reduce side join solution"
   ]
  },
  {
   "cell_type": "code",
   "execution_count": 1,
   "metadata": {},
   "outputs": [
    {
     "name": "stdout",
     "output_type": "stream",
     "text": [
      "Overwriting wiki.dat\n"
     ]
    }
   ],
   "source": [
    "%%writefile wiki.dat\n",
    "\n",
    "1\tIn this task Hadoop Streaming is used to process Wikipedia articles dump calculations.\n",
    "2\tThe purpose of this task is to calculate tf*idf for each pair (word, article) from the Wikipedia dump calculations.\n",
    "3\tApply the stop words filter to speed up calculations calculations calculations calculations calculations. \n",
    "4\tTerm frequency (tf) is a function depending on a term (word) and a document (article)\n",
    "5\tTo parse the articles don’t forget about Unicode (even though this is an English Wikipedia dump, there are many characters from other languages), remove punctuation marks and transform words to lowercase to get the correct quantities."
   ]
  },
  {
   "cell_type": "code",
   "execution_count": 2,
   "metadata": {},
   "outputs": [],
   "source": [
    "%%bash\n",
    "cp '/datasets/stop_words_en.txt' 'stop_words_en.txt'"
   ]
  },
  {
   "cell_type": "markdown",
   "metadata": {},
   "source": [
    "### Step 1\n",
    "First mapper calculates TF for each term. There is no reducer. Output is <code>{term}/t{article_id}/t{tf}</code>"
   ]
  },
  {
   "cell_type": "code",
   "execution_count": 3,
   "metadata": {},
   "outputs": [
    {
     "name": "stdout",
     "output_type": "stream",
     "text": [
      "Overwriting mapper1.py\n"
     ]
    }
   ],
   "source": [
    "%%writefile mapper1.py\n",
    "\n",
    "import sys\n",
    "import re\n",
    "\n",
    "reload(sys)\n",
    "sys.setdefaultencoding('utf-8')\n",
    "\n",
    "with open('stop_words_en.txt', \"r\") as f:\n",
    "    stop_words = set(f.read().splitlines())\n",
    "    \n",
    "for line in sys.stdin:\n",
    "    try:\n",
    "        article_id, text = unicode(line.strip()).split('\\t', 1)\n",
    "    except ValueError as e:\n",
    "        continue\n",
    "\n",
    "    text= re.sub(\"^\\W+|\\W+$\", \"\", text, flags=re.UNICODE)\n",
    "    text = re.split(\"\\W*\\s+\\W*\", text, flags=re.UNICODE)   \n",
    "    \n",
    "    counter = dict()\n",
    "    for w in text:\n",
    "        w = w.lower()\n",
    "        if w in stop_words:\n",
    "            continue\n",
    "            \n",
    "        if w in counter:\n",
    "            counter[w] += 1\n",
    "        else:\n",
    "            counter[w] = 1\n",
    "    \n",
    "    total = sum(counter.values())\n",
    "    \n",
    "    for term, cnt in counter.iteritems():\n",
    "        print \"%s\\t%s\\t%f\" % (term, article_id, float(cnt)/total) "
   ]
  },
  {
   "cell_type": "code",
   "execution_count": 4,
   "metadata": {},
   "outputs": [
    {
     "name": "stdout",
     "output_type": "stream",
     "text": [
      "transform\t5\t0.055556\r\n",
      "unicode\t5\t0.055556\r\n",
      "used\t1\t0.111111\r\n",
      "wikipedia\t1\t0.111111\r\n",
      "wikipedia\t2\t0.100000\r\n",
      "wikipedia\t5\t0.055556\r\n",
      "word\t2\t0.100000\r\n",
      "word\t4\t0.111111\r\n",
      "words\t3\t0.100000\r\n",
      "words\t5\t0.055556\r\n"
     ]
    }
   ],
   "source": [
    "cat wiki.dat | python2 ./mapper1.py | sort | tail"
   ]
  },
  {
   "cell_type": "markdown",
   "metadata": {},
   "source": [
    "### Step2\n",
    "Second mapper does nothing and reducer calculates IDF. Input is output of the previous step. Output is <code>{term}/t0/t{idf}</code>."
   ]
  },
  {
   "cell_type": "code",
   "execution_count": 5,
   "metadata": {},
   "outputs": [
    {
     "name": "stdout",
     "output_type": "stream",
     "text": [
      "Overwriting empty_mapper.py\n"
     ]
    }
   ],
   "source": [
    "%%writefile empty_mapper.py\n",
    "\n",
    "import sys\n",
    "    \n",
    "for line in sys.stdin:\n",
    "    print line.strip()"
   ]
  },
  {
   "cell_type": "code",
   "execution_count": 6,
   "metadata": {},
   "outputs": [
    {
     "name": "stdout",
     "output_type": "stream",
     "text": [
      "transform\t5\t0.055556\r\n",
      "unicode\t5\t0.055556\r\n",
      "used\t1\t0.111111\r\n",
      "wikipedia\t1\t0.111111\r\n",
      "wikipedia\t2\t0.100000\r\n",
      "wikipedia\t5\t0.055556\r\n",
      "word\t2\t0.100000\r\n",
      "word\t4\t0.111111\r\n",
      "words\t3\t0.100000\r\n",
      "words\t5\t0.055556\r\n"
     ]
    }
   ],
   "source": [
    "cat wiki.dat | python2 ./mapper1.py | python2 ./empty_mapper.py | sort | tail"
   ]
  },
  {
   "cell_type": "code",
   "execution_count": 7,
   "metadata": {},
   "outputs": [
    {
     "name": "stdout",
     "output_type": "stream",
     "text": [
      "Overwriting reducer2.py\n"
     ]
    }
   ],
   "source": [
    "%%writefile reducer2.py\n",
    "\n",
    "import sys\n",
    "from math import log\n",
    "\n",
    "current_key = None\n",
    "key_sum = 0\n",
    "idf = lambda x: 1/log(1+x)\n",
    "\n",
    "for line in sys.stdin:\n",
    "    try:\n",
    "        term, article_id, tf = line.strip().split('\\t', 2)\n",
    "    except ValueError as e:\n",
    "        continue\n",
    "        \n",
    "    if current_key != term:\n",
    "        if current_key:            \n",
    "            print \"%s\\t%d\\t%f\" % (current_key, 0, idf(key_sum)) # dummy article_id=0   \n",
    "        current_key = term\n",
    "        key_sum = 0\n",
    "    key_sum += 1\n",
    "    \n",
    "if current_key:\n",
    "    print \"%s\\t%d\\t%f\" % (current_key, 0, idf(key_sum))"
   ]
  },
  {
   "cell_type": "code",
   "execution_count": 8,
   "metadata": {},
   "outputs": [
    {
     "name": "stdout",
     "output_type": "stream",
     "text": [
      "task\t0\t0.910239\r\n",
      "term\t0\t1.442695\r\n",
      "tf\t0\t1.442695\r\n",
      "tf*idf\t0\t1.442695\r\n",
      "transform\t0\t1.442695\r\n",
      "unicode\t0\t1.442695\r\n",
      "used\t0\t1.442695\r\n",
      "wikipedia\t0\t0.721348\r\n",
      "word\t0\t0.910239\r\n",
      "words\t0\t0.910239\r\n"
     ]
    }
   ],
   "source": [
    "cat wiki.dat | python2 ./mapper1.py | python2 ./empty_mapper.py | sort | python2 ./reducer2.py | tail"
   ]
  },
  {
   "cell_type": "markdown",
   "metadata": {},
   "source": [
    "### Step 3\n",
    "Multiple inputs from step1 and step2. Mapper does nothing. Reducer calculates tf*idf. For each term idf comes from the first row (article_id=0)."
   ]
  },
  {
   "cell_type": "code",
   "execution_count": 9,
   "metadata": {},
   "outputs": [
    {
     "name": "stdout",
     "output_type": "stream",
     "text": [
      "Overwriting terms.dat\n"
     ]
    }
   ],
   "source": [
    "%%writefile terms.dat\n",
    "\n",
    "wikipedia\t0\t0.721348\n",
    "wikipedia\t1\t0.111111\n",
    "wikipedia\t2\t0.100000\n",
    "wikipedia\t5\t0.055556\n",
    "word\t0\t0.910239\n",
    "word\t2\t0.100000\n",
    "word\t4\t0.111111\n",
    "words\t3\t0.100000\n",
    "words\t0\t0.910239\n",
    "words\t5\t0.055556"
   ]
  },
  {
   "cell_type": "code",
   "execution_count": 10,
   "metadata": {},
   "outputs": [
    {
     "name": "stdout",
     "output_type": "stream",
     "text": [
      "Overwriting reducer3.py\n"
     ]
    }
   ],
   "source": [
    "%%writefile reducer3.py\n",
    "\n",
    "import sys\n",
    "\n",
    "idf = None\n",
    "\n",
    "for line in sys.stdin:\n",
    "    try:\n",
    "        term, article_id, tf = line.strip().split('\\t', 2)\n",
    "        article_id = int(article_id)\n",
    "        tf = float(tf)\n",
    "    except ValueError as e:\n",
    "        continue\n",
    "        \n",
    "    if article_id == 0:\n",
    "        idf = tf\n",
    "        continue\n",
    "    \n",
    "    print \"%s\\t%d\\t%f\" % (term, article_id, tf*idf)"
   ]
  },
  {
   "cell_type": "code",
   "execution_count": 11,
   "metadata": {},
   "outputs": [
    {
     "name": "stdout",
     "output_type": "stream",
     "text": [
      "wikipedia\t1\t0.080150\r\n",
      "wikipedia\t2\t0.072135\r\n",
      "wikipedia\t5\t0.040075\r\n",
      "word\t2\t0.091024\r\n",
      "word\t4\t0.101138\r\n",
      "words\t3\t0.091024\r\n",
      "words\t5\t0.050569\r\n"
     ]
    }
   ],
   "source": [
    "cat terms.dat | python2 ./reducer3.py"
   ]
  },
  {
   "cell_type": "code",
   "execution_count": 12,
   "metadata": {},
   "outputs": [
    {
     "name": "stdout",
     "output_type": "stream",
     "text": [
      "0.000351\n"
     ]
    },
    {
     "name": "stderr",
     "output_type": "stream",
     "text": [
      "19/05/01 12:25:31 INFO client.RMProxy: Connecting to ResourceManager at /0.0.0.0:8032\n",
      "19/05/01 12:25:31 INFO client.RMProxy: Connecting to ResourceManager at /0.0.0.0:8032\n",
      "19/05/01 12:25:32 INFO mapred.FileInputFormat: Total input files to process : 1\n",
      "19/05/01 12:25:32 INFO mapreduce.JobSubmitter: number of splits:2\n",
      "19/05/01 12:25:32 INFO mapreduce.JobSubmitter: Submitting tokens for job: job_1556706647780_0011\n",
      "19/05/01 12:25:33 INFO impl.YarnClientImpl: Submitted application application_1556706647780_0011\n",
      "19/05/01 12:25:33 INFO mapreduce.Job: The url to track the job: http://abac251facd0:8088/proxy/application_1556706647780_0011/\n",
      "19/05/01 12:25:33 INFO mapreduce.Job: Running job: job_1556706647780_0011\n",
      "19/05/01 12:25:39 INFO mapreduce.Job: Job job_1556706647780_0011 running in uber mode : false\n",
      "19/05/01 12:25:39 INFO mapreduce.Job:  map 0% reduce 0%\n",
      "19/05/01 12:25:55 INFO mapreduce.Job:  map 96% reduce 0%\n",
      "19/05/01 12:25:56 INFO mapreduce.Job:  map 100% reduce 0%\n",
      "19/05/01 12:25:56 INFO mapreduce.Job: Job job_1556706647780_0011 completed successfully\n",
      "19/05/01 12:25:56 INFO mapreduce.Job: Counters: 30\n",
      "\tFile System Counters\n",
      "\t\tFILE: Number of bytes read=0\n",
      "\t\tFILE: Number of bytes written=278584\n",
      "\t\tFILE: Number of read operations=0\n",
      "\t\tFILE: Number of large read operations=0\n",
      "\t\tFILE: Number of write operations=0\n",
      "\t\tHDFS: Number of bytes read=76874501\n",
      "\t\tHDFS: Number of bytes written=76752215\n",
      "\t\tHDFS: Number of read operations=10\n",
      "\t\tHDFS: Number of large read operations=0\n",
      "\t\tHDFS: Number of write operations=4\n",
      "\tJob Counters \n",
      "\t\tLaunched map tasks=2\n",
      "\t\tData-local map tasks=2\n",
      "\t\tTotal time spent by all maps in occupied slots (ms)=28155\n",
      "\t\tTotal time spent by all reduces in occupied slots (ms)=0\n",
      "\t\tTotal time spent by all map tasks (ms)=28155\n",
      "\t\tTotal vcore-milliseconds taken by all map tasks=28155\n",
      "\t\tTotal megabyte-milliseconds taken by all map tasks=28830720\n",
      "\tMap-Reduce Framework\n",
      "\t\tMap input records=4100\n",
      "\t\tMap output records=3472288\n",
      "\t\tInput split bytes=228\n",
      "\t\tSpilled Records=0\n",
      "\t\tFailed Shuffles=0\n",
      "\t\tMerged Map outputs=0\n",
      "\t\tGC time elapsed (ms)=136\n",
      "\t\tCPU time spent (ms)=18340\n",
      "\t\tPhysical memory (bytes) snapshot=377839616\n",
      "\t\tVirtual memory (bytes) snapshot=4027936768\n",
      "\t\tTotal committed heap usage (bytes)=279969792\n",
      "\tFile Input Format Counters \n",
      "\t\tBytes Read=76874273\n",
      "\tFile Output Format Counters \n",
      "\t\tBytes Written=76752215\n",
      "19/05/01 12:25:56 INFO streaming.StreamJob: Output directory: dir1\n",
      "19/05/01 12:25:58 INFO client.RMProxy: Connecting to ResourceManager at /0.0.0.0:8032\n",
      "19/05/01 12:25:58 INFO client.RMProxy: Connecting to ResourceManager at /0.0.0.0:8032\n",
      "19/05/01 12:25:58 INFO mapred.FileInputFormat: Total input files to process : 2\n",
      "19/05/01 12:25:58 INFO mapreduce.JobSubmitter: number of splits:2\n",
      "19/05/01 12:25:59 INFO mapreduce.JobSubmitter: Submitting tokens for job: job_1556706647780_0012\n",
      "19/05/01 12:25:59 INFO impl.YarnClientImpl: Submitted application application_1556706647780_0012\n",
      "19/05/01 12:25:59 INFO mapreduce.Job: The url to track the job: http://abac251facd0:8088/proxy/application_1556706647780_0012/\n",
      "19/05/01 12:25:59 INFO mapreduce.Job: Running job: job_1556706647780_0012\n",
      "19/05/01 12:26:08 INFO mapreduce.Job: Job job_1556706647780_0012 running in uber mode : false\n",
      "19/05/01 12:26:08 INFO mapreduce.Job:  map 0% reduce 0%\n",
      "19/05/01 12:26:17 INFO mapreduce.Job:  map 50% reduce 0%\n",
      "19/05/01 12:26:18 INFO mapreduce.Job:  map 100% reduce 0%\n",
      "19/05/01 12:26:24 INFO mapreduce.Job:  map 100% reduce 25%\n",
      "19/05/01 12:26:25 INFO mapreduce.Job:  map 100% reduce 50%\n",
      "19/05/01 12:26:26 INFO mapreduce.Job:  map 100% reduce 75%\n",
      "19/05/01 12:26:27 INFO mapreduce.Job:  map 100% reduce 100%\n",
      "19/05/01 12:26:27 INFO mapreduce.Job: Job job_1556706647780_0012 completed successfully\n",
      "19/05/01 12:26:27 INFO mapreduce.Job: Counters: 50\n",
      "\tFile System Counters\n",
      "\t\tFILE: Number of bytes read=83696834\n",
      "\t\tFILE: Number of bytes written=168231450\n",
      "\t\tFILE: Number of read operations=0\n",
      "\t\tFILE: Number of large read operations=0\n",
      "\t\tFILE: Number of write operations=0\n",
      "\t\tHDFS: Number of bytes read=76752417\n",
      "\t\tHDFS: Number of bytes written=9139759\n",
      "\t\tHDFS: Number of read operations=18\n",
      "\t\tHDFS: Number of large read operations=0\n",
      "\t\tHDFS: Number of write operations=8\n",
      "\tJob Counters \n",
      "\t\tKilled reduce tasks=1\n",
      "\t\tLaunched map tasks=2\n",
      "\t\tLaunched reduce tasks=4\n",
      "\t\tData-local map tasks=2\n",
      "\t\tTotal time spent by all maps in occupied slots (ms)=15031\n",
      "\t\tTotal time spent by all reduces in occupied slots (ms)=18077\n",
      "\t\tTotal time spent by all map tasks (ms)=15031\n",
      "\t\tTotal time spent by all reduce tasks (ms)=18077\n",
      "\t\tTotal vcore-milliseconds taken by all map tasks=15031\n",
      "\t\tTotal vcore-milliseconds taken by all reduce tasks=18077\n",
      "\t\tTotal megabyte-milliseconds taken by all map tasks=15391744\n",
      "\t\tTotal megabyte-milliseconds taken by all reduce tasks=18510848\n",
      "\tMap-Reduce Framework\n",
      "\t\tMap input records=3472288\n",
      "\t\tMap output records=3472288\n",
      "\t\tMap output bytes=76752224\n",
      "\t\tMap output materialized bytes=83696858\n",
      "\t\tInput split bytes=202\n",
      "\t\tCombine input records=0\n",
      "\t\tCombine output records=0\n",
      "\t\tReduce input groups=426241\n",
      "\t\tReduce shuffle bytes=83696858\n",
      "\t\tReduce input records=3472288\n",
      "\t\tReduce output records=426241\n",
      "\t\tSpilled Records=6944576\n",
      "\t\tShuffled Maps =8\n",
      "\t\tFailed Shuffles=0\n",
      "\t\tMerged Map outputs=8\n",
      "\t\tGC time elapsed (ms)=458\n",
      "\t\tCPU time spent (ms)=29850\n",
      "\t\tPhysical memory (bytes) snapshot=1444982784\n",
      "\t\tVirtual memory (bytes) snapshot=12135022592\n",
      "\t\tTotal committed heap usage (bytes)=972029952\n",
      "\tShuffle Errors\n",
      "\t\tBAD_ID=0\n",
      "\t\tCONNECTION=0\n",
      "\t\tIO_ERROR=0\n",
      "\t\tWRONG_LENGTH=0\n",
      "\t\tWRONG_MAP=0\n",
      "\t\tWRONG_REDUCE=0\n",
      "\tFile Input Format Counters \n",
      "\t\tBytes Read=76752215\n",
      "\tFile Output Format Counters \n",
      "\t\tBytes Written=9139759\n",
      "19/05/01 12:26:27 INFO streaming.StreamJob: Output directory: dir2\n",
      "19/05/01 12:26:29 INFO client.RMProxy: Connecting to ResourceManager at /0.0.0.0:8032\n",
      "19/05/01 12:26:29 INFO client.RMProxy: Connecting to ResourceManager at /0.0.0.0:8032\n",
      "19/05/01 12:26:30 INFO mapred.FileInputFormat: Total input files to process : 6\n",
      "19/05/01 12:26:30 INFO mapreduce.JobSubmitter: number of splits:6\n",
      "19/05/01 12:26:30 INFO mapreduce.JobSubmitter: Submitting tokens for job: job_1556706647780_0013\n",
      "19/05/01 12:26:30 INFO impl.YarnClientImpl: Submitted application application_1556706647780_0013\n",
      "19/05/01 12:26:30 INFO mapreduce.Job: The url to track the job: http://abac251facd0:8088/proxy/application_1556706647780_0013/\n",
      "19/05/01 12:26:30 INFO mapreduce.Job: Running job: job_1556706647780_0013\n",
      "19/05/01 12:26:39 INFO mapreduce.Job: Job job_1556706647780_0013 running in uber mode : false\n",
      "19/05/01 12:26:39 INFO mapreduce.Job:  map 0% reduce 0%\n",
      "19/05/01 12:26:45 INFO mapreduce.Job:  map 67% reduce 0%\n",
      "19/05/01 12:26:51 INFO mapreduce.Job:  map 100% reduce 0%\n",
      "19/05/01 12:26:56 INFO mapreduce.Job:  map 100% reduce 50%\n",
      "19/05/01 12:26:57 INFO mapreduce.Job:  map 100% reduce 75%\n",
      "19/05/01 12:26:58 INFO mapreduce.Job:  map 100% reduce 100%\n",
      "19/05/01 12:26:58 INFO mapreduce.Job: Job job_1556706647780_0013 completed successfully\n",
      "19/05/01 12:26:58 INFO mapreduce.Job: Counters: 50\n",
      "\tFile System Counters\n",
      "\t\tFILE: Number of bytes read=93689103\n",
      "\t\tFILE: Number of bytes written=188780158\n",
      "\t\tFILE: Number of read operations=0\n",
      "\t\tFILE: Number of large read operations=0\n",
      "\t\tFILE: Number of write operations=0\n",
      "\t\tHDFS: Number of bytes read=85892580\n",
      "\t\tHDFS: Number of bytes written=76752215\n",
      "\t\tHDFS: Number of read operations=30\n",
      "\t\tHDFS: Number of large read operations=0\n",
      "\t\tHDFS: Number of write operations=8\n",
      "\tJob Counters \n",
      "\t\tKilled map tasks=1\n",
      "\t\tLaunched map tasks=6\n",
      "\t\tLaunched reduce tasks=4\n",
      "\t\tData-local map tasks=6\n",
      "\t\tTotal time spent by all maps in occupied slots (ms)=34038\n",
      "\t\tTotal time spent by all reduces in occupied slots (ms)=30943\n",
      "\t\tTotal time spent by all map tasks (ms)=34038\n",
      "\t\tTotal time spent by all reduce tasks (ms)=30943\n",
      "\t\tTotal vcore-milliseconds taken by all map tasks=34038\n",
      "\t\tTotal vcore-milliseconds taken by all reduce tasks=30943\n",
      "\t\tTotal megabyte-milliseconds taken by all map tasks=34854912\n",
      "\t\tTotal megabyte-milliseconds taken by all reduce tasks=31685632\n",
      "\tMap-Reduce Framework\n",
      "\t\tMap input records=3898529\n",
      "\t\tMap output records=3898529\n",
      "\t\tMap output bytes=85891997\n",
      "\t\tMap output materialized bytes=93689223\n",
      "\t\tInput split bytes=606\n",
      "\t\tCombine input records=0\n",
      "\t\tCombine output records=0\n",
      "\t\tReduce input groups=3898529\n",
      "\t\tReduce shuffle bytes=93689223\n",
      "\t\tReduce input records=3898529\n",
      "\t\tReduce output records=3472288\n",
      "\t\tSpilled Records=7797058\n",
      "\t\tShuffled Maps =24\n",
      "\t\tFailed Shuffles=0\n",
      "\t\tMerged Map outputs=24\n",
      "\t\tGC time elapsed (ms)=1365\n",
      "\t\tCPU time spent (ms)=46510\n",
      "\t\tPhysical memory (bytes) snapshot=2550763520\n",
      "\t\tVirtual memory (bytes) snapshot=20146794496\n",
      "\t\tTotal committed heap usage (bytes)=1769472000\n",
      "\tShuffle Errors\n",
      "\t\tBAD_ID=0\n",
      "\t\tCONNECTION=0\n",
      "\t\tIO_ERROR=0\n",
      "\t\tWRONG_LENGTH=0\n",
      "\t\tWRONG_MAP=0\n",
      "\t\tWRONG_REDUCE=0\n",
      "\tFile Input Format Counters \n",
      "\t\tBytes Read=85891974\n",
      "\tFile Output Format Counters \n",
      "\t\tBytes Written=76752215\n",
      "19/05/01 12:26:58 INFO streaming.StreamJob: Output directory: dir3\n"
     ]
    }
   ],
   "source": [
    "%%bash\n",
    "\n",
    "OUT_STEP1=\"dir1\"\n",
    "OUT_STEP2=\"dir2\"\n",
    "OUT_STEP3=\"dir3\"\n",
    "\n",
    "hdfs dfs -rm -r -skipTrash ${OUT_STEP1} > /dev/null\n",
    "hdfs dfs -rm -r -skipTrash ${OUT_STEP2} > /dev/null\n",
    "hdfs dfs -rm -r -skipTrash ${OUT_STEP3} > /dev/null\n",
    "\n",
    "yarn jar /opt/cloudera/parcels/CDH/lib/hadoop-mapreduce/hadoop-streaming.jar \\\n",
    "    -D mapred.jab.name=\"Step 1\" \\\n",
    "    -files mapper1.py,/datasets/stop_words_en.txt \\\n",
    "    -mapper \"python mapper1.py\" \\\n",
    "    -numReduceTasks 0 \\\n",
    "    -input /data/wiki/en_articles_part \\\n",
    "    -output ${OUT_STEP1} > /dev/null\n",
    "    \n",
    "yarn jar /opt/cloudera/parcels/CDH/lib/hadoop-mapreduce/hadoop-streaming.jar \\\n",
    "    -D mapred.jab.name=\"Step 2\" \\\n",
    "    -D mapreduce.job.reduces=4 \\\n",
    "    -files empty_mapper.py,reducer2.py \\\n",
    "    -mapper \"python empty_mapper.py\" \\\n",
    "    -reducer \"python reducer2.py\" \\\n",
    "    -input ${OUT_STEP1} \\\n",
    "    -output ${OUT_STEP2} > /dev/null\n",
    "\n",
    "yarn jar /opt/cloudera/parcels/CDH/lib/hadoop-mapreduce/hadoop-streaming.jar \\\n",
    "    -D mapred.jab.name=\"Step 3\" \\\n",
    "    -D mapreduce.job.reduces=4 \\\n",
    "    -D mapreduce.partition.keypartitioner.options=\"-k1,1\"\\\n",
    "    -D stream.num.map.output.key.fields=2 \\\n",
    "    -files empty_mapper.py,reducer3.py \\\n",
    "    -mapper \"python empty_mapper.py\" \\\n",
    "    -reducer \"python reducer3.py\" \\\n",
    "    -input ${OUT_STEP1},${OUT_STEP2} \\\n",
    "    -output ${OUT_STEP3} \\\n",
    "    -partitioner org.apache.hadoop.mapred.lib.KeyFieldBasedPartitioner > /dev/null\n",
    "\n",
    "hdfs dfs -cat ${OUT_STEP3}/* |  grep -P 'labor\\t12\\t' | cut -f3"
   ]
  },
  {
   "cell_type": "code",
   "execution_count": null,
   "metadata": {},
   "outputs": [],
   "source": []
  }
 ],
 "metadata": {
  "kernelspec": {
   "display_name": "Python 2",
   "language": "python",
   "name": "python2"
  },
  "language_info": {
   "codemirror_mode": {
    "name": "ipython",
    "version": 2
   },
   "file_extension": ".py",
   "mimetype": "text/x-python",
   "name": "python",
   "nbconvert_exporter": "python",
   "pygments_lexer": "ipython2",
   "version": "2.7.12"
  }
 },
 "nbformat": 4,
 "nbformat_minor": 2
}
