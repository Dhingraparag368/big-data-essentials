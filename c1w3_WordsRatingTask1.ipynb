{
 "cells": [
  {
   "cell_type": "markdown",
   "metadata": {
    "colab_type": "text",
    "id": "Ebk-YqgqEOw1"
   },
   "source": [
    "# Hadoop Streaming assignment 1: Words Rating"
   ]
  },
  {
   "cell_type": "markdown",
   "metadata": {
    "colab_type": "text",
    "id": "XDLjl7hGEOw2"
   },
   "source": [
    "The purpose of this task is to create your own WordCount program for Wikipedia dump processing and learn basic concepts of the MapReduce.\n",
    "\n",
    "In this task you have to find the 7th word by popularity and its quantity in the reverse order (most popular first) in Wikipedia data (`/data/wiki/en_articles_part`).\n",
    "\n",
    "There are several points for this task:\n",
    "\n",
    "1) As an output, you have to get the 7th word and its quantity separated by a tab character.\n",
    "\n",
    "2) You must use the second job to obtain a totally ordered result.\n",
    "\n",
    "3) Do not forget to redirect all trash and output to /dev/null.\n",
    "\n",
    "Here you can find the draft of the task main steps. You can use other methods for solution obtaining."
   ]
  },
  {
   "cell_type": "markdown",
   "metadata": {
    "colab_type": "text",
    "id": "lIUikVIDEOw2"
   },
   "source": [
    "## Step 1. Create mapper and reducer.\n",
    "\n",
    "<b>Hint:</b>  Demo task contains almost all the necessary pieces to complete this assignment. You may use the demo to implement the first MapReduce Job."
   ]
  },
  {
   "cell_type": "code",
   "execution_count": 1,
   "metadata": {
    "colab": {
     "autoexec": {
      "startup": false,
      "wait_interval": 0
     }
    },
    "colab_type": "code",
    "id": "A7T5mxDwEOw4"
   },
   "outputs": [
    {
     "name": "stdout",
     "output_type": "stream",
     "text": [
      "Writing mapper1.py\n"
     ]
    }
   ],
   "source": [
    "%%writefile mapper1.py\n",
    "\n",
    "import sys\n",
    "import re\n",
    "\n",
    "reload(sys)\n",
    "sys.setdefaultencoding('utf-8') # required to convert to unicode\n",
    "\n",
    "for line in sys.stdin:\n",
    "    try:\n",
    "        article_id, text = unicode(line.strip()).split('\\t', 1)\n",
    "    except ValueError as e:\n",
    "        continue\n",
    "    text = re.sub(\"^\\W+|\\W+$\", \"\", text, flags=re.UNICODE)\n",
    "    words = re.split(\"\\W*\\s+\\W*\", text, flags=re.UNICODE)\n",
    "    for word in words:\n",
    "        # print >> sys.stderr, \"reporter:counter:Wiki stats,Total words,%d\" % 1\n",
    "        print \"%s\\t%d\" % (word.lower(), 1)"
   ]
  },
  {
   "cell_type": "code",
   "execution_count": 2,
   "metadata": {
    "colab": {
     "autoexec": {
      "startup": false,
      "wait_interval": 0
     }
    },
    "colab_type": "code",
    "id": "oE8KFKqpEOw5"
   },
   "outputs": [
    {
     "name": "stdout",
     "output_type": "stream",
     "text": [
      "Writing reducer1.py\n"
     ]
    }
   ],
   "source": [
    "%%writefile reducer1.py\n",
    "\n",
    "import sys\n",
    "\n",
    "current_key = None\n",
    "word_sum = 0\n",
    "\n",
    "for line in sys.stdin:\n",
    "    try:\n",
    "        key, count = line.strip().split('\\t', 1)\n",
    "        count = int(count)\n",
    "    except ValueError as e:\n",
    "        continue\n",
    "    if current_key != key:\n",
    "        if current_key:\n",
    "            print \"%s\\t%d\" % (current_key, word_sum)\n",
    "        word_sum = 0\n",
    "        current_key = key\n",
    "    word_sum += count\n",
    "\n",
    "if current_key:\n",
    "    print \"%s\\t%d\" % (current_key, word_sum)"
   ]
  },
  {
   "cell_type": "code",
   "execution_count": 3,
   "metadata": {
    "colab": {
     "autoexec": {
      "startup": false,
      "wait_interval": 0
     }
    },
    "colab_type": "code",
    "id": "LJtc3_u0uXSz"
   },
   "outputs": [
    {
     "name": "stdout",
     "output_type": "stream",
     "text": [
      "Writing test.dat\n"
     ]
    }
   ],
   "source": [
    "%%writefile test.dat\n",
    "\n",
    "1\thello world\n",
    "2\thello again\n",
    "42\tПривет мир!\n",
    "3\tAnother example with heLLo\n",
    "4\tFor The Horde!\n",
    "5\tHello again"
   ]
  },
  {
   "cell_type": "code",
   "execution_count": 4,
   "metadata": {},
   "outputs": [
    {
     "name": "stdout",
     "output_type": "stream",
     "text": [
      "again\t2\r\n",
      "another\t1\r\n",
      "example\t1\r\n",
      "for\t1\r\n",
      "hello\t4\r\n",
      "horde\t1\r\n",
      "the\t1\r\n",
      "with\t1\r\n",
      "world\t1\r\n",
      "мир\t1\r\n",
      "привет\t1\r\n"
     ]
    }
   ],
   "source": [
    "cat test.dat | python2 ./mapper1.py | sort | python2 ./reducer1.py"
   ]
  },
  {
   "cell_type": "markdown",
   "metadata": {
    "colab_type": "text",
    "id": "KYZpcwY9EOw6"
   },
   "source": [
    "## Step 2. Create sort job.\n",
    "\n",
    "<b>Hint:</b> You may use MapReduce comparator to solve this step. Make sure that the keys are sorted in ascending order."
   ]
  },
  {
   "cell_type": "code",
   "execution_count": 5,
   "metadata": {
    "colab": {
     "autoexec": {
      "startup": false,
      "wait_interval": 0
     }
    },
    "colab_type": "code",
    "id": "g-NMzQ79EOw7"
   },
   "outputs": [
    {
     "name": "stdout",
     "output_type": "stream",
     "text": [
      "Writing mapper2.py\n"
     ]
    }
   ],
   "source": [
    "%%writefile mapper2.py\n",
    "\n",
    "import sys\n",
    "import re\n",
    "\n",
    "reload(sys)\n",
    "sys.setdefaultencoding('utf-8') # required to convert to unicode\n",
    "\n",
    "for line in sys.stdin:\n",
    "    try:\n",
    "        word, cnt = line.strip().split('\\t', 1)\n",
    "        cnt = int(cnt)\n",
    "    except ValueError as e:\n",
    "        continue    \n",
    "    print \"%d\\t%s\" % (cnt, word)"
   ]
  },
  {
   "cell_type": "code",
   "execution_count": 6,
   "metadata": {},
   "outputs": [
    {
     "name": "stdout",
     "output_type": "stream",
     "text": [
      "Writing reducer2.py\n"
     ]
    }
   ],
   "source": [
    "%%writefile reducer2.py\n",
    "\n",
    "import sys\n",
    "\n",
    "for line in sys.stdin:\n",
    "    try:\n",
    "        cnt, word = line.strip().split('\\t', 1)\n",
    "        cnt = int(cnt)\n",
    "    except ValueError as e:\n",
    "        continue\n",
    "    print \"%s\\t%d\" % (word, cnt)"
   ]
  },
  {
   "cell_type": "code",
   "execution_count": 7,
   "metadata": {
    "colab": {
     "autoexec": {
      "startup": false,
      "wait_interval": 0
     }
    },
    "colab_type": "code",
    "id": "qs6SKs7wO4be"
   },
   "outputs": [
    {
     "name": "stdout",
     "output_type": "stream",
     "text": [
      "hello\t4\r\n",
      "again\t2\r\n",
      "привет\t1\r\n",
      "мир\t1\r\n",
      "world\t1\r\n",
      "with\t1\r\n",
      "the\t1\r\n",
      "horde\t1\r\n",
      "for\t1\r\n",
      "example\t1\r\n",
      "another\t1\r\n"
     ]
    }
   ],
   "source": [
    "cat test.dat | python2 ./mapper1.py | sort | python2 ./reducer1.py | python2 ./mapper2.py | sort -r | python2 ./reducer2.py"
   ]
  },
  {
   "cell_type": "markdown",
   "metadata": {
    "colab_type": "text",
    "id": "4OBE81GZEOw8"
   },
   "source": [
    "## Step 3. Bash commands\n",
    "\n",
    "<b> Hint: </b> For printing the exact row you may use basic UNIX commands. For instance, sed/head/tail/... (if you know other commands, you can use them).\n",
    "\n",
    "To run both jobs, you must use two consecutive yarn-commands. Remember that the input for the second job is the ouput for the first job."
   ]
  },
  {
   "cell_type": "code",
   "execution_count": 8,
   "metadata": {
    "colab": {
     "autoexec": {
      "startup": false,
      "wait_interval": 0
     }
    },
    "colab_type": "code",
    "id": "1q9NczdIEOw9"
   },
   "outputs": [
    {
     "name": "stdout",
     "output_type": "stream",
     "text": [
      "is\t126420\n"
     ]
    },
    {
     "name": "stderr",
     "output_type": "stream",
     "text": [
      "rm: `wordCount_*': No such file or directory\n",
      "rm: `wordsRaiting_*': No such file or directory\n",
      "19/04/15 03:30:39 INFO client.RMProxy: Connecting to ResourceManager at /0.0.0.0:8032\n",
      "19/04/15 03:30:39 INFO client.RMProxy: Connecting to ResourceManager at /0.0.0.0:8032\n",
      "19/04/15 03:30:41 INFO mapred.FileInputFormat: Total input files to process : 1\n",
      "19/04/15 03:30:41 INFO mapreduce.JobSubmitter: number of splits:2\n",
      "19/04/15 03:30:41 INFO mapreduce.JobSubmitter: Submitting tokens for job: job_1555291247429_0001\n",
      "19/04/15 03:30:41 INFO impl.YarnClientImpl: Submitted application application_1555291247429_0001\n",
      "19/04/15 03:30:41 INFO mapreduce.Job: The url to track the job: http://67c08c68fb41:8088/proxy/application_1555291247429_0001/\n",
      "19/04/15 03:30:41 INFO mapreduce.Job: Running job: job_1555291247429_0001\n",
      "19/04/15 03:30:48 INFO mapreduce.Job: Job job_1555291247429_0001 running in uber mode : false\n",
      "19/04/15 03:30:48 INFO mapreduce.Job:  map 0% reduce 0%\n",
      "19/04/15 03:31:05 INFO mapreduce.Job:  map 46% reduce 0%\n",
      "19/04/15 03:31:11 INFO mapreduce.Job:  map 51% reduce 0%\n",
      "19/04/15 03:31:17 INFO mapreduce.Job:  map 67% reduce 0%\n",
      "19/04/15 03:31:20 INFO mapreduce.Job:  map 83% reduce 0%\n",
      "19/04/15 03:31:21 INFO mapreduce.Job:  map 100% reduce 0%\n",
      "19/04/15 03:31:26 INFO mapreduce.Job:  map 100% reduce 13%\n",
      "19/04/15 03:31:27 INFO mapreduce.Job:  map 100% reduce 25%\n",
      "19/04/15 03:31:28 INFO mapreduce.Job:  map 100% reduce 38%\n",
      "19/04/15 03:31:29 INFO mapreduce.Job:  map 100% reduce 50%\n",
      "19/04/15 03:31:30 INFO mapreduce.Job:  map 100% reduce 63%\n",
      "19/04/15 03:31:31 INFO mapreduce.Job:  map 100% reduce 75%\n",
      "19/04/15 03:31:32 INFO mapreduce.Job:  map 100% reduce 100%\n",
      "19/04/15 03:31:33 INFO mapreduce.Job: Job job_1555291247429_0001 completed successfully\n",
      "19/04/15 03:31:33 INFO mapreduce.Job: Counters: 50\n",
      "\tFile System Counters\n",
      "\t\tFILE: Number of bytes read=17941178\n",
      "\t\tFILE: Number of bytes written=28232165\n",
      "\t\tFILE: Number of read operations=0\n",
      "\t\tFILE: Number of large read operations=0\n",
      "\t\tFILE: Number of write operations=0\n",
      "\t\tHDFS: Number of bytes read=76874501\n",
      "\t\tHDFS: Number of bytes written=5363834\n",
      "\t\tHDFS: Number of read operations=30\n",
      "\t\tHDFS: Number of large read operations=0\n",
      "\t\tHDFS: Number of write operations=16\n",
      "\tJob Counters \n",
      "\t\tKilled reduce tasks=1\n",
      "\t\tLaunched map tasks=2\n",
      "\t\tLaunched reduce tasks=8\n",
      "\t\tData-local map tasks=2\n",
      "\t\tTotal time spent by all maps in occupied slots (ms)=58366\n",
      "\t\tTotal time spent by all reduces in occupied slots (ms)=22374\n",
      "\t\tTotal time spent by all map tasks (ms)=58366\n",
      "\t\tTotal time spent by all reduce tasks (ms)=22374\n",
      "\t\tTotal vcore-milliseconds taken by all map tasks=58366\n",
      "\t\tTotal vcore-milliseconds taken by all reduce tasks=22374\n",
      "\t\tTotal megabyte-milliseconds taken by all map tasks=59766784\n",
      "\t\tTotal megabyte-milliseconds taken by all reduce tasks=22910976\n",
      "\tMap-Reduce Framework\n",
      "\t\tMap input records=4100\n",
      "\t\tMap output records=11937317\n",
      "\t\tMap output bytes=97841276\n",
      "\t\tMap output materialized bytes=8944117\n",
      "\t\tInput split bytes=228\n",
      "\t\tCombine input records=11937317\n",
      "\t\tCombine output records=639325\n",
      "\t\tReduce input groups=426552\n",
      "\t\tReduce shuffle bytes=8944117\n",
      "\t\tReduce input records=639325\n",
      "\t\tReduce output records=426552\n",
      "\t\tSpilled Records=1917975\n",
      "\t\tShuffled Maps =16\n",
      "\t\tFailed Shuffles=0\n",
      "\t\tMerged Map outputs=16\n",
      "\t\tGC time elapsed (ms)=770\n",
      "\t\tCPU time spent (ms)=72150\n",
      "\t\tPhysical memory (bytes) snapshot=2304012288\n",
      "\t\tVirtual memory (bytes) snapshot=20238356480\n",
      "\t\tTotal committed heap usage (bytes)=1572864000\n",
      "\tShuffle Errors\n",
      "\t\tBAD_ID=0\n",
      "\t\tCONNECTION=0\n",
      "\t\tIO_ERROR=0\n",
      "\t\tWRONG_LENGTH=0\n",
      "\t\tWRONG_MAP=0\n",
      "\t\tWRONG_REDUCE=0\n",
      "\tFile Input Format Counters \n",
      "\t\tBytes Read=76874273\n",
      "\tFile Output Format Counters \n",
      "\t\tBytes Written=5363834\n",
      "19/04/15 03:31:33 INFO streaming.StreamJob: Output directory: wordCount_1555299034170184\n",
      "19/04/15 03:31:35 INFO client.RMProxy: Connecting to ResourceManager at /0.0.0.0:8032\n",
      "19/04/15 03:31:35 INFO client.RMProxy: Connecting to ResourceManager at /0.0.0.0:8032\n",
      "19/04/15 03:31:36 INFO mapred.FileInputFormat: Total input files to process : 8\n",
      "19/04/15 03:31:36 INFO mapreduce.JobSubmitter: number of splits:8\n",
      "19/04/15 03:31:36 INFO mapreduce.JobSubmitter: Submitting tokens for job: job_1555291247429_0002\n",
      "19/04/15 03:31:36 INFO impl.YarnClientImpl: Submitted application application_1555291247429_0002\n",
      "19/04/15 03:31:36 INFO mapreduce.Job: The url to track the job: http://67c08c68fb41:8088/proxy/application_1555291247429_0002/\n",
      "19/04/15 03:31:36 INFO mapreduce.Job: Running job: job_1555291247429_0002\n",
      "19/04/15 03:31:44 INFO mapreduce.Job: Job job_1555291247429_0002 running in uber mode : false\n",
      "19/04/15 03:31:44 INFO mapreduce.Job:  map 0% reduce 0%\n",
      "19/04/15 03:31:50 INFO mapreduce.Job:  map 75% reduce 0%\n",
      "19/04/15 03:31:54 INFO mapreduce.Job:  map 100% reduce 0%\n",
      "19/04/15 03:31:56 INFO mapreduce.Job:  map 100% reduce 100%\n",
      "19/04/15 03:31:57 INFO mapreduce.Job: Job job_1555291247429_0002 completed successfully\n",
      "19/04/15 03:31:58 INFO mapreduce.Job: Counters: 49\n",
      "\tFile System Counters\n",
      "\t\tFILE: Number of bytes read=6216963\n",
      "\t\tFILE: Number of bytes written=13694363\n",
      "\t\tFILE: Number of read operations=0\n",
      "\t\tFILE: Number of large read operations=0\n",
      "\t\tFILE: Number of write operations=0\n",
      "\t\tHDFS: Number of bytes read=5364818\n",
      "\t\tHDFS: Number of bytes written=5363834\n",
      "\t\tHDFS: Number of read operations=27\n",
      "\t\tHDFS: Number of large read operations=0\n",
      "\t\tHDFS: Number of write operations=2\n",
      "\tJob Counters \n",
      "\t\tLaunched map tasks=8\n",
      "\t\tLaunched reduce tasks=1\n",
      "\t\tData-local map tasks=8\n",
      "\t\tTotal time spent by all maps in occupied slots (ms)=25279\n",
      "\t\tTotal time spent by all reduces in occupied slots (ms)=3891\n",
      "\t\tTotal time spent by all map tasks (ms)=25279\n",
      "\t\tTotal time spent by all reduce tasks (ms)=3891\n",
      "\t\tTotal vcore-milliseconds taken by all map tasks=25279\n",
      "\t\tTotal vcore-milliseconds taken by all reduce tasks=3891\n",
      "\t\tTotal megabyte-milliseconds taken by all map tasks=25885696\n",
      "\t\tTotal megabyte-milliseconds taken by all reduce tasks=3984384\n",
      "\tMap-Reduce Framework\n",
      "\t\tMap input records=426552\n",
      "\t\tMap output records=426552\n",
      "\t\tMap output bytes=5363843\n",
      "\t\tMap output materialized bytes=6217005\n",
      "\t\tInput split bytes=984\n",
      "\t\tCombine input records=0\n",
      "\t\tCombine output records=0\n",
      "\t\tReduce input groups=2048\n",
      "\t\tReduce shuffle bytes=6217005\n",
      "\t\tReduce input records=426552\n",
      "\t\tReduce output records=426552\n",
      "\t\tSpilled Records=853104\n",
      "\t\tShuffled Maps =8\n",
      "\t\tFailed Shuffles=0\n",
      "\t\tMerged Map outputs=8\n",
      "\t\tGC time elapsed (ms)=1066\n",
      "\t\tCPU time spent (ms)=14830\n",
      "\t\tPhysical memory (bytes) snapshot=2530426880\n",
      "\t\tVirtual memory (bytes) snapshot=18108882944\n",
      "\t\tTotal committed heap usage (bytes)=1746927616\n",
      "\tShuffle Errors\n",
      "\t\tBAD_ID=0\n",
      "\t\tCONNECTION=0\n",
      "\t\tIO_ERROR=0\n",
      "\t\tWRONG_LENGTH=0\n",
      "\t\tWRONG_MAP=0\n",
      "\t\tWRONG_REDUCE=0\n",
      "\tFile Input Format Counters \n",
      "\t\tBytes Read=5363834\n",
      "\tFile Output Format Counters \n",
      "\t\tBytes Written=5363834\n",
      "19/04/15 03:31:58 INFO streaming.StreamJob: Output directory: wordsRaiting_1555299034171809\n",
      "cat: Unable to write to output stream.\n"
     ]
    }
   ],
   "source": [
    "%%bash\n",
    "\n",
    "DIR1=\"wordCount_\"$(date +\"%s%6N\")\n",
    "DIR2=\"wordsRaiting_\"$(date +\"%s%6N\")\n",
    "\n",
    "hdfs dfs -rm -r -skipTrash \"wordCount_\"* > /dev/null\n",
    "hdfs dfs -rm -r -skipTrash \"wordsRaiting_\"* > /dev/null\n",
    "\n",
    "yarn jar /opt/cloudera/parcels/CDH/lib/hadoop-mapreduce/hadoop-streaming.jar \\\n",
    "    -D mapred.jab.name=\"Streaming wordCount\" \\\n",
    "    -D mapreduce.job.reduces=8 \\\n",
    "    -files mapper1.py,reducer1.py \\\n",
    "    -mapper \"python mapper1.py\" \\\n",
    "    -combiner \"python reducer1.py\" \\\n",
    "    -reducer \"python reducer1.py\" \\\n",
    "    -input /data/wiki/en_articles_part \\\n",
    "    -output ${DIR1} > /dev/null\n",
    "\n",
    "yarn jar /opt/cloudera/parcels/CDH/lib/hadoop-mapreduce/hadoop-streaming.jar \\\n",
    "    -D mapred.jab.name=\"Streaming wordsRaiting\" \\\n",
    "    -D mapreduce.job.reduces=1 \\\n",
    "    -D mapreduce.job.output.key.comparator.class=org.apache.hadoop.mapreduce.lib.partition.KeyFieldBasedComparator \\\n",
    "    -D mapreduce.partition.keycomparator.options=\"-nr\" \\\n",
    "    -files mapper2.py,reducer2.py \\\n",
    "    -mapper \"python mapper2.py\" \\\n",
    "    -reducer \"python reducer2.py\" \\\n",
    "    -input ${DIR1} \\\n",
    "    -output ${DIR2} > /dev/null\n",
    "\n",
    "hdfs dfs -cat ${DIR2}/part-00000 | sed -n '7p;8q'"
   ]
  },
  {
   "cell_type": "code",
   "execution_count": null,
   "metadata": {},
   "outputs": [],
   "source": []
  }
 ],
 "metadata": {
  "colab": {
   "collapsed_sections": [],
   "default_view": {},
   "name": "701_to_students.ipynb",
   "provenance": [],
   "version": "0.3.2",
   "views": {}
  },
  "kernelspec": {
   "display_name": "Python 2",
   "language": "python",
   "name": "python2"
  },
  "language_info": {
   "codemirror_mode": {
    "name": "ipython",
    "version": 2
   },
   "file_extension": ".py",
   "mimetype": "text/x-python",
   "name": "python",
   "nbconvert_exporter": "python",
   "pygments_lexer": "ipython2",
   "version": "2.7.12"
  }
 },
 "nbformat": 4,
 "nbformat_minor": 1
}
