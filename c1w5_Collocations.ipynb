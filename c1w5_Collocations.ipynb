{
 "cells": [
  {
   "cell_type": "markdown",
   "metadata": {},
   "source": [
    "# Spark assignment 2: Collocations\n",
    "As for the second part of the assignment, your task is to extract collocations: that is word combinations that occur together. For example, “high school” or “roman empire”.\n",
    "\n",
    "To find collocations, you will use NPMI (normalized pointwise mutual information) metric.\n",
    "\n",
    "PMI of two words, a & b, is defined as “PMI(a, b) = ln (P(ab) / (P(a) * P(b))”, where P(ab) is the probability of two words coming one after the other, and P(a) and P(b) are probabilities of words a & b respectively.\n",
    "\n",
    "You will estimate probabilities with occurrence counts, that is “P(a) = # of occurrences of word a / total number of words”, and “P(ab) = # of occurrences of words ‘a b’ / total number of word pairs”.\n",
    "\n",
    "To build an intuition behind the definition, see Reading material.\n",
    "\n",
    "Therefore, rare combinations of coupled words have large PMI.\n",
    "\n",
    "NPMI is computed as “NPMI(a, b) = PMI(a, b) / -ln P(ab)”. This normalizes the quantity to be within the range [-1; 1].\n",
    "\n",
    "You task is a bit more complicated now:\n",
    "\n",
    "* Extract all the words, as in the previous task.\n",
    "* Filter out stopwords using the dictionary (/datasets/stop_words_en.txt ) (do not forget to convert words to the lowercase!)\n",
    "* Compute all bigrams (that is, pairs of consequent words)\n",
    "* Leave only bigrams with at least 500 occurrences\n",
    "* Compute NPMI for every bigram (note: when computing probabilities, you need unpruned counts!)\n",
    "* Sort word pairs by NPMI in the descending order\n",
    "* Print top 39 word pairs, with words delimited by the underscore “_”\n",
    "\n",
    "For example,\n",
    "\n",
    "<code>\n",
    "roman_empire\n",
    "south_africa\n",
    "</code>\n",
    "\n",
    "Dataset location: /data/wiki/en_articles_part\n",
    "\n",
    "The part of the result on the sample dataset:\n",
    "\n",
    "<code>...\n",
    "references_reading\n",
    "notes_references\n",
    "award_best\n",
    "north_america\n",
    "new_zealand\n",
    "...</code>\n",
    "\n",
    "Hint: if you did everything right, “roman_empire” and “south_africa” are going to be in the result."
   ]
  },
  {
   "cell_type": "markdown",
   "metadata": {},
   "source": [
<<<<<<< HEAD
    "### Hint from slack\n",
    "Counts after filters.\n",
    "* total words count: 6971026\n",
    "* total bigrams count: 6966926\n",
    "\n",
    "Take 3 word probabilities\n",
    "* biennials    1.43450906653e-06\n",
    "* underlyingly    1.43450906653e-07\n",
    "* ancyra    6.16838898607e-06\n",
    "\n",
    "Take 3 bigram probabilities\n",
    "* (u'york', u'city')    8.97095792319e-05\n",
    "* (u'north', u'american')    7.32030166533e-05\n",
    "* (u'new', u'york')    0.000601843625151\n",
    "\n",
    "Take 3 bigram PMI\n",
    "* york city\n",
    " - bigram probability: 8.97095792319e-05\n",
    " - \"york\" probability: 0.000639504141858\n",
    " - \"city\" probability: 0.00146033022973\n",
    "* north american\n",
    " - bigram probability: 7.32030166533e-05\n",
    " - \"north\" probability: 0.000812936288001\n",
    " - \"american\" probability: 0.00246993771075\n",
    "* new york\n",
=======
    "### Counts after filters.\n",
    "total words count: 6971026\n",
    "total bigrams count: 6966926\n",
    "\n",
    "### Take 3 word probabilities\n",
    "biennials    1.43450906653e-06\n",
    "underlyingly    1.43450906653e-07\n",
    "ancyra    6.16838898607e-06\n",
    "\n",
    "### Take 3 bigram probabilities\n",
    "(u'york', u'city')    8.97095792319e-05\n",
    "(u'north', u'american')    7.32030166533e-05\n",
    "(u'new', u'york')    0.000601843625151\n",
    "\n",
    "### Take 3 bigram PMI\n",
    "york city\n",
    " - bigram probability: 8.97095792319e-05\n",
    " - \"york\" probability: 0.000639504141858\n",
    " - \"city\" probability: 0.00146033022973\n",
    "north american\n",
    " - bigram probability: 7.32030166533e-05\n",
    " - \"north\" probability: 0.000812936288001\n",
    " - \"american\" probability: 0.00246993771075\n",
    "new york\n",
>>>>>>> 5fa282f3d593ddbd2f13daf89d19aa7b05aca71e
    " - bigram probability: 0.000601843625151\n",
    " - \"new\" probability: 0.0027470848624\n",
    " - \"york\" probability: 0.000639504141858"
   ]
  },
  {
   "cell_type": "code",
   "execution_count": 1,
   "metadata": {},
   "outputs": [],
   "source": [
    "from pyspark import SparkConf, SparkContext\n",
<<<<<<< HEAD
    "sc = SparkContext(conf=SparkConf().setAppName(\"MyApp\").setMaster(\"local\"))"
=======
    "\n",
    "try:\n",
    "    sc = SparkContext(conf=SparkConf().setAppName(\"MyApp\").setMaster(\"local\").set(\"spark.cores.max\", \"4\"))\n",
    "except:\n",
    "    pass"
>>>>>>> 5fa282f3d593ddbd2f13daf89d19aa7b05aca71e
   ]
  },
  {
   "cell_type": "code",
<<<<<<< HEAD
   "execution_count": 2,
=======
   "execution_count": 3,
>>>>>>> 5fa282f3d593ddbd2f13daf89d19aa7b05aca71e
   "metadata": {},
   "outputs": [],
   "source": [
    "import re\n",
    "\n",
    "def split_words(line):\n",
    "    try:\n",
    "        article_id, text = unicode(line.rstrip()).split('\\t', 1)\n",
    "        text = re.sub(\"^\\W+|\\W+$\", \"\", text, flags=re.UNICODE)\n",
    "        words = re.split(\"\\W*\\s+\\W*\", text, flags=re.UNICODE)\n",
    "        return words\n",
    "    except ValueError as e:\n",
    "        return []\n",
    "    \n",
<<<<<<< HEAD
    "with open('/datasets/stop_words_en.txt') as f:\n",
    "    stop_words = set(f.read().splitlines())\n",
    "\n",
    "#stop_words_broadcasted = sc.broadcast(stop_words)\n",
    "        \n",
    "filtered_articles = sc.textFile(\"/data/wiki/en_articles_part/articles-part\", 16) \\\n",
    "    .map(split_words) \\\n",
    "    .map(lambda x: [i.lower() for i in x]) \\\n",
    "    .map(lambda x: [i for i in x if i not in stop_words]) \\\n",
=======
    "def make_pairs(words):\n",
    "    last_word = None\n",
    "    for word in words:\n",
    "        if last_word:\n",
    "            yield \"%s_%s\" % (last_word, word)\n",
    "        last_word = word\n",
    "        \n",
    "with open('/datasets/stop_words_en.txt') as f:\n",
    "    stop_words = f.read().splitlines()\n",
    "\n",
    "stop_words_broadcasted = sc.broadcast(stop_words)\n",
    "        \n",
    "query = sc.textFile(\"/data/wiki/en_articles_part/articles-part\", 16) \\\n",
    "    .map(split_words) \\\n",
    "    .map(lambda arr: [word.lower() for word in arr]) \\\n",
    "    .map(lambda arr: [word for word in arr if word not in stop_words_broadcasted.value]) \\\n",
>>>>>>> 5fa282f3d593ddbd2f13daf89d19aa7b05aca71e
    "    .cache()"
   ]
  },
  {
   "cell_type": "code",
<<<<<<< HEAD
   "execution_count": 3,
   "metadata": {},
   "outputs": [],
   "source": [
    "words_count = filtered_articles.map(lambda x: len(x)).reduce(lambda x,y: x+y)\n",
    "bigrams_count = words_count - filtered_articles.count()"
=======
   "execution_count": null,
   "metadata": {},
   "outputs": [],
   "source": [
    "%%time\n",
    "words_count = query.map(lambda x: len(x)).reduce(lambda x,y: x+y)\n",
    "print words_count"
>>>>>>> 5fa282f3d593ddbd2f13daf89d19aa7b05aca71e
   ]
  },
  {
   "cell_type": "code",
   "execution_count": null,
   "metadata": {},
   "outputs": [],
   "source": [
<<<<<<< HEAD
    "def make_pairs(words):\n",
    "    last_word = None\n",
    "    for word in words:\n",
    "        if last_word:\n",
    "            yield \"%s_%s\" % (last_word, word)\n",
    "        last_word = word\n",
    "\n",
    "filtered_bigrams = filtered_articles \\\n",
    "    .flatMap(make_pairs) \\\n",
    "    .map(lambda x: (x, 1)) \\\n",
    "    .reduceByKey(lambda x,y: x+y) \\\n",
    "    .filter(lambda x: x[1]>=500) \\\n",
    "    .cache()"
=======
    "%%time\n",
    "bigrams_count = query.map(lambda x: len(x) - 1).reduce(lambda x,y: x+y)\n",
    "print bigrams_count"
>>>>>>> 5fa282f3d593ddbd2f13daf89d19aa7b05aca71e
   ]
  },
  {
   "cell_type": "code",
   "execution_count": null,
   "metadata": {},
   "outputs": [],
   "source": [
<<<<<<< HEAD
    "# TODO try to use join between RDDs instead of in-memory dict\n",
    "bigram_words = set(filtered_bigrams.flatMap(lambda x: x[0].split('_')).collect())\n",
    "\n",
    "#bigram_words_broadcasted = sc.broadcast(bigram_words)\n",
    "\n",
    "words = filtered_articles \\\n",
    "    .flatMap(lambda x: [i for i in x if i in bigram_words]) \\\n",
    "    .map(lambda x: (x, 1)) \\\n",
    "    .reduceByKey(lambda x, y: x + y) \\\n",
    "    .collectAsMap()"
=======
    "%%time\n",
    "bigrams = query.flatMap(make_pairs) \\\n",
    "    .map(lambda x: (x, 1)) \\\n",
    "    .reduceByKey(lambda x, y: x + y) \\\n",
    "    .filter(lambda x: x[1]>500) \\\n",
    "    .collect()"
>>>>>>> 5fa282f3d593ddbd2f13daf89d19aa7b05aca71e
   ]
  },
  {
   "cell_type": "code",
   "execution_count": null,
   "metadata": {},
<<<<<<< HEAD
   "outputs": [
    {
     "name": "stdout",
     "output_type": "stream",
     "text": [
      "los_angeles\n",
      "external_links\n",
      "united_states\n",
      "prime_minister\n",
      "san_francisco\n",
      "et_al\n",
      "new_york\n",
      "supreme_court\n",
      "19th_century\n",
      "20th_century\n",
      "references_external\n",
      "soviet_union\n",
      "air_force\n",
      "baseball_player\n",
      "university_press\n",
      "roman_catholic\n",
      "united_kingdom\n",
      "references_reading\n",
      "notes_references\n",
      "award_best\n",
      "north_america\n",
      "new_zealand\n",
      "civil_war\n",
      "catholic_church\n",
      "world_war\n",
      "war_ii\n",
      "south_africa\n",
      "took_place\n",
      "roman_empire\n",
      "united_nations\n",
      "american_singer-songwriter\n",
      "high_school\n",
      "american_actor\n",
      "american_actress\n",
      "american_baseball\n",
      "york_city\n",
      "american_football\n",
      "years_later\n",
      "north_american\n"
     ]
    }
   ],
   "source": [
    "from math import log\n",
    "\n",
    "def calc_npmi(bigram):\n",
    "    w1, w2 = bigram[0].split('_')\n",
    "    P_a, P_b = float(words[w1])/words_count, float(words[w2])/words_count\n",
    "    P_ab = float(bigram[1])/bigrams_count\n",
    "    pmi = log(P_ab/(P_a*P_b))\n",
    "    npmi = -pmi/log(P_ab)\n",
    "    return (npmi, bigram[0])\n",
    "\n",
    "bigrams = filtered_bigrams \\\n",
    "    .map(calc_npmi) \\\n",
    "    .sortByKey(ascending=False) \\\n",
    "    .map(lambda x: x[1].encode()) \\\n",
    "    .take(39)\n",
    "    \n",
    "for i in bigrams:\n",
    "    print i"
=======
   "outputs": [],
   "source": [
    "bigrams"
>>>>>>> 5fa282f3d593ddbd2f13daf89d19aa7b05aca71e
   ]
  },
  {
   "cell_type": "code",
   "execution_count": null,
   "metadata": {},
   "outputs": [],
   "source": []
  }
 ],
 "metadata": {
  "kernelspec": {
   "display_name": "Python 2",
   "language": "python",
   "name": "python2"
  },
  "language_info": {
   "codemirror_mode": {
    "name": "ipython",
    "version": 2
   },
   "file_extension": ".py",
   "mimetype": "text/x-python",
   "name": "python",
   "nbconvert_exporter": "python",
   "pygments_lexer": "ipython2",
   "version": "2.7.12"
  }
 },
 "nbformat": 4,
 "nbformat_minor": 2
}
