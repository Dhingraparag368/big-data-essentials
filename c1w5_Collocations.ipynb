{
 "cells": [
  {
   "cell_type": "markdown",
   "metadata": {},
   "source": [
    "# Spark assignment 2: Collocations\n",
    "As for the second part of the assignment, your task is to extract collocations: that is word combinations that occur together. For example, “high school” or “roman empire”.\n",
    "\n",
    "To find collocations, you will use NPMI (normalized pointwise mutual information) metric.\n",
    "\n",
    "PMI of two words, a & b, is defined as “PMI(a, b) = ln (P(ab) / (P(a) * P(b))”, where P(ab) is the probability of two words coming one after the other, and P(a) and P(b) are probabilities of words a & b respectively.\n",
    "\n",
    "You will estimate probabilities with occurrence counts, that is “P(a) = # of occurrences of word a / total number of words”, and “P(ab) = # of occurrences of words ‘a b’ / total number of word pairs”.\n",
    "\n",
    "To build an intuition behind the definition, see Reading material.\n",
    "\n",
    "Therefore, rare combinations of coupled words have large PMI.\n",
    "\n",
    "NPMI is computed as “NPMI(a, b) = PMI(a, b) / -ln P(ab)”. This normalizes the quantity to be within the range [-1; 1].\n",
    "\n",
    "You task is a bit more complicated now:\n",
    "\n",
    "* Extract all the words, as in the previous task.\n",
    "* Filter out stopwords using the dictionary (/datasets/stop_words_en.txt ) (do not forget to convert words to the lowercase!)\n",
    "* Compute all bigrams (that is, pairs of consequent words)\n",
    "* Leave only bigrams with at least 500 occurrences\n",
    "* Compute NPMI for every bigram (note: when computing probabilities, you need unpruned counts!)\n",
    "* Sort word pairs by NPMI in the descending order\n",
    "* Print top 39 word pairs, with words delimited by the underscore “_”\n",
    "\n",
    "For example,\n",
    "\n",
    "<code>\n",
    "roman_empire\n",
    "south_africa\n",
    "</code>\n",
    "\n",
    "Dataset location: /data/wiki/en_articles_part\n",
    "\n",
    "The part of the result on the sample dataset:\n",
    "\n",
    "<code>...\n",
    "references_reading\n",
    "notes_references\n",
    "award_best\n",
    "north_america\n",
    "new_zealand\n",
    "...</code>\n",
    "\n",
    "Hint: if you did everything right, “roman_empire” and “south_africa” are going to be in the result."
   ]
  },
  {
   "cell_type": "markdown",
   "metadata": {},
   "source": [
    "### Counts after filters.\n",
    "total words count: 6971026\n",
    "total bigrams count: 6966926\n",
    "\n",
    "### Take 3 word probabilities\n",
    "biennials    1.43450906653e-06\n",
    "underlyingly    1.43450906653e-07\n",
    "ancyra    6.16838898607e-06\n",
    "\n",
    "### Take 3 bigram probabilities\n",
    "(u'york', u'city')    8.97095792319e-05\n",
    "(u'north', u'american')    7.32030166533e-05\n",
    "(u'new', u'york')    0.000601843625151\n",
    "\n",
    "### Take 3 bigram PMI\n",
    "york city\n",
    " - bigram probability: 8.97095792319e-05\n",
    " - \"york\" probability: 0.000639504141858\n",
    " - \"city\" probability: 0.00146033022973\n",
    "north american\n",
    " - bigram probability: 7.32030166533e-05\n",
    " - \"north\" probability: 0.000812936288001\n",
    " - \"american\" probability: 0.00246993771075\n",
    "new york\n",
    " - bigram probability: 0.000601843625151\n",
    " - \"new\" probability: 0.0027470848624\n",
    " - \"york\" probability: 0.000639504141858"
   ]
  },
  {
   "cell_type": "code",
   "execution_count": 1,
   "metadata": {},
   "outputs": [],
   "source": [
    "from pyspark import SparkConf, SparkContext\n",
    "\n",
    "try:\n",
    "    sc = SparkContext(conf=SparkConf().setAppName(\"MyApp\").setMaster(\"local\").set(\"spark.cores.max\", \"4\"))\n",
    "except:\n",
    "    pass"
   ]
  },
  {
   "cell_type": "code",
   "execution_count": 3,
   "metadata": {},
   "outputs": [],
   "source": [
    "import re\n",
    "\n",
    "def split_words(line):\n",
    "    try:\n",
    "        article_id, text = unicode(line.rstrip()).split('\\t', 1)\n",
    "        text = re.sub(\"^\\W+|\\W+$\", \"\", text, flags=re.UNICODE)\n",
    "        words = re.split(\"\\W*\\s+\\W*\", text, flags=re.UNICODE)\n",
    "        return words\n",
    "    except ValueError as e:\n",
    "        return []\n",
    "    \n",
    "def make_pairs(words):\n",
    "    last_word = None\n",
    "    for word in words:\n",
    "        if last_word:\n",
    "            yield \"%s_%s\" % (last_word, word)\n",
    "        last_word = word\n",
    "        \n",
    "with open('/datasets/stop_words_en.txt') as f:\n",
    "    stop_words = f.read().splitlines()\n",
    "\n",
    "stop_words_broadcasted = sc.broadcast(stop_words)\n",
    "        \n",
    "query = sc.textFile(\"/data/wiki/en_articles_part/articles-part\", 16) \\\n",
    "    .map(split_words) \\\n",
    "    .map(lambda arr: [word.lower() for word in arr]) \\\n",
    "    .map(lambda arr: [word for word in arr if word not in stop_words_broadcasted.value]) \\\n",
    "    .cache()"
   ]
  },
  {
   "cell_type": "code",
   "execution_count": null,
   "metadata": {},
   "outputs": [],
   "source": [
    "%%time\n",
    "words_count = query.map(lambda x: len(x)).reduce(lambda x,y: x+y)\n",
    "print words_count"
   ]
  },
  {
   "cell_type": "code",
   "execution_count": null,
   "metadata": {},
   "outputs": [],
   "source": [
    "%%time\n",
    "bigrams_count = query.map(lambda x: len(x) - 1).reduce(lambda x,y: x+y)\n",
    "print bigrams_count"
   ]
  },
  {
   "cell_type": "code",
   "execution_count": null,
   "metadata": {},
   "outputs": [],
   "source": [
    "%%time\n",
    "bigrams = query.flatMap(make_pairs) \\\n",
    "    .map(lambda x: (x, 1)) \\\n",
    "    .reduceByKey(lambda x, y: x + y) \\\n",
    "    .filter(lambda x: x[1]>500) \\\n",
    "    .collect()"
   ]
  },
  {
   "cell_type": "code",
   "execution_count": null,
   "metadata": {},
   "outputs": [],
   "source": [
    "bigrams"
   ]
  },
  {
   "cell_type": "code",
   "execution_count": null,
   "metadata": {},
   "outputs": [],
   "source": []
  }
 ],
 "metadata": {
  "kernelspec": {
   "display_name": "Python 2",
   "language": "python",
   "name": "python2"
  },
  "language_info": {
   "codemirror_mode": {
    "name": "ipython",
    "version": 2
   },
   "file_extension": ".py",
   "mimetype": "text/x-python",
   "name": "python",
   "nbconvert_exporter": "python",
   "pygments_lexer": "ipython2",
   "version": "2.7.12"
  }
 },
 "nbformat": 4,
 "nbformat_minor": 2
}
