{
  "nbformat": 4,
  "nbformat_minor": 0,
  "metadata": {
    "colab": {
      "name": "SampleEstimates.ipynb",
      "version": "0.3.2",
      "provenance": [],
      "collapsed_sections": [],
      "toc_visible": true
    },
    "language_info": {
      "codemirror_mode": {
        "name": "ipython",
        "version": 3
      },
      "file_extension": ".py",
      "mimetype": "text/x-python",
      "name": "python",
      "nbconvert_exporter": "python",
      "pygments_lexer": "ipython3",
      "version": "3.6.1"
    },
    "kernelspec": {
      "display_name": "Python 2",
      "language": "python",
      "name": "python2"
    }
  },
  "cells": [
    {
      "metadata": {
        "id": "YM_a2ENWhxbq",
        "colab_type": "text"
      },
      "cell_type": "markdown",
      "source": [
        "# Sample estimates"
      ]
    },
    {
      "metadata": {
        "id": "W_RwqMZ_brjt",
        "colab_type": "code",
        "colab": {
          "base_uri": "https://localhost:8080/",
          "height": 576
        },
        "outputId": "9ce68be7-5519-4f46-fe20-f6608d851a05"
      },
      "cell_type": "code",
      "source": [
        "import pandas as pd\n",
        "import numpy as np\n",
        "\n",
        "ds = pd.read_csv('10000.csv', parse_dates=[1,2])\n",
        "ds.head().T"
      ],
      "execution_count": 1,
      "outputs": [
        {
          "output_type": "execute_result",
          "data": {
            "text/html": [
              "<div>\n",
              "<style scoped>\n",
              "    .dataframe tbody tr th:only-of-type {\n",
              "        vertical-align: middle;\n",
              "    }\n",
              "\n",
              "    .dataframe tbody tr th {\n",
              "        vertical-align: top;\n",
              "    }\n",
              "\n",
              "    .dataframe thead th {\n",
              "        text-align: right;\n",
              "    }\n",
              "</style>\n",
              "<table border=\"1\" class=\"dataframe\">\n",
              "  <thead>\n",
              "    <tr style=\"text-align: right;\">\n",
              "      <th></th>\n",
              "      <th>0</th>\n",
              "      <th>1</th>\n",
              "      <th>2</th>\n",
              "      <th>3</th>\n",
              "      <th>4</th>\n",
              "    </tr>\n",
              "  </thead>\n",
              "  <tbody>\n",
              "    <tr>\n",
              "      <th>VendorID</th>\n",
              "      <td>2</td>\n",
              "      <td>1</td>\n",
              "      <td>1</td>\n",
              "      <td>1</td>\n",
              "      <td>2</td>\n",
              "    </tr>\n",
              "    <tr>\n",
              "      <th>tpep_pickup_datetime</th>\n",
              "      <td>2016-12-19 20:13:04</td>\n",
              "      <td>2016-12-27 19:28:48</td>\n",
              "      <td>2016-12-17 00:57:37</td>\n",
              "      <td>2016-12-01 20:32:54</td>\n",
              "      <td>2016-12-12 19:25:14</td>\n",
              "    </tr>\n",
              "    <tr>\n",
              "      <th>tpep_dropoff_datetime</th>\n",
              "      <td>2016-12-19 20:16:58</td>\n",
              "      <td>2016-12-27 19:30:31</td>\n",
              "      <td>2016-12-17 01:10:37</td>\n",
              "      <td>2016-12-01 20:52:17</td>\n",
              "      <td>2016-12-12 19:34:15</td>\n",
              "    </tr>\n",
              "    <tr>\n",
              "      <th>passenger_count</th>\n",
              "      <td>1</td>\n",
              "      <td>1</td>\n",
              "      <td>3</td>\n",
              "      <td>1</td>\n",
              "      <td>2</td>\n",
              "    </tr>\n",
              "    <tr>\n",
              "      <th>trip_distance</th>\n",
              "      <td>0.87</td>\n",
              "      <td>0.1</td>\n",
              "      <td>2.3</td>\n",
              "      <td>5</td>\n",
              "      <td>1.43</td>\n",
              "    </tr>\n",
              "    <tr>\n",
              "      <th>RatecodeID</th>\n",
              "      <td>1</td>\n",
              "      <td>1</td>\n",
              "      <td>1</td>\n",
              "      <td>1</td>\n",
              "      <td>1</td>\n",
              "    </tr>\n",
              "    <tr>\n",
              "      <th>store_and_fwd_flag</th>\n",
              "      <td>N</td>\n",
              "      <td>N</td>\n",
              "      <td>N</td>\n",
              "      <td>N</td>\n",
              "      <td>N</td>\n",
              "    </tr>\n",
              "    <tr>\n",
              "      <th>PULocationID</th>\n",
              "      <td>238</td>\n",
              "      <td>231</td>\n",
              "      <td>90</td>\n",
              "      <td>13</td>\n",
              "      <td>164</td>\n",
              "    </tr>\n",
              "    <tr>\n",
              "      <th>DOLocationID</th>\n",
              "      <td>142</td>\n",
              "      <td>144</td>\n",
              "      <td>233</td>\n",
              "      <td>143</td>\n",
              "      <td>79</td>\n",
              "    </tr>\n",
              "    <tr>\n",
              "      <th>payment_type</th>\n",
              "      <td>1</td>\n",
              "      <td>2</td>\n",
              "      <td>1</td>\n",
              "      <td>1</td>\n",
              "      <td>1</td>\n",
              "    </tr>\n",
              "    <tr>\n",
              "      <th>fare_amount</th>\n",
              "      <td>5</td>\n",
              "      <td>3</td>\n",
              "      <td>11</td>\n",
              "      <td>18.5</td>\n",
              "      <td>7.5</td>\n",
              "    </tr>\n",
              "    <tr>\n",
              "      <th>extra</th>\n",
              "      <td>0.5</td>\n",
              "      <td>1</td>\n",
              "      <td>0.5</td>\n",
              "      <td>0.5</td>\n",
              "      <td>1</td>\n",
              "    </tr>\n",
              "    <tr>\n",
              "      <th>mta_tax</th>\n",
              "      <td>0.5</td>\n",
              "      <td>0.5</td>\n",
              "      <td>0.5</td>\n",
              "      <td>0.5</td>\n",
              "      <td>0.5</td>\n",
              "    </tr>\n",
              "    <tr>\n",
              "      <th>tip_amount</th>\n",
              "      <td>1.5</td>\n",
              "      <td>0</td>\n",
              "      <td>2.45</td>\n",
              "      <td>3.95</td>\n",
              "      <td>1</td>\n",
              "    </tr>\n",
              "    <tr>\n",
              "      <th>tolls_amount</th>\n",
              "      <td>0</td>\n",
              "      <td>0</td>\n",
              "      <td>0</td>\n",
              "      <td>0</td>\n",
              "      <td>0</td>\n",
              "    </tr>\n",
              "    <tr>\n",
              "      <th>improvement_surcharge</th>\n",
              "      <td>0.3</td>\n",
              "      <td>0.3</td>\n",
              "      <td>0.3</td>\n",
              "      <td>0.3</td>\n",
              "      <td>0.3</td>\n",
              "    </tr>\n",
              "    <tr>\n",
              "      <th>total_amount</th>\n",
              "      <td>7.8</td>\n",
              "      <td>4.8</td>\n",
              "      <td>14.75</td>\n",
              "      <td>23.75</td>\n",
              "      <td>10.3</td>\n",
              "    </tr>\n",
              "  </tbody>\n",
              "</table>\n",
              "</div>"
            ],
            "text/plain": [
              "                                         0                    1  \\\n",
              "VendorID                                 2                    1   \n",
              "tpep_pickup_datetime   2016-12-19 20:13:04  2016-12-27 19:28:48   \n",
              "tpep_dropoff_datetime  2016-12-19 20:16:58  2016-12-27 19:30:31   \n",
              "passenger_count                          1                    1   \n",
              "trip_distance                         0.87                  0.1   \n",
              "RatecodeID                               1                    1   \n",
              "store_and_fwd_flag                       N                    N   \n",
              "PULocationID                           238                  231   \n",
              "DOLocationID                           142                  144   \n",
              "payment_type                             1                    2   \n",
              "fare_amount                              5                    3   \n",
              "extra                                  0.5                    1   \n",
              "mta_tax                                0.5                  0.5   \n",
              "tip_amount                             1.5                    0   \n",
              "tolls_amount                             0                    0   \n",
              "improvement_surcharge                  0.3                  0.3   \n",
              "total_amount                           7.8                  4.8   \n",
              "\n",
              "                                         2                    3  \\\n",
              "VendorID                                 1                    1   \n",
              "tpep_pickup_datetime   2016-12-17 00:57:37  2016-12-01 20:32:54   \n",
              "tpep_dropoff_datetime  2016-12-17 01:10:37  2016-12-01 20:52:17   \n",
              "passenger_count                          3                    1   \n",
              "trip_distance                          2.3                    5   \n",
              "RatecodeID                               1                    1   \n",
              "store_and_fwd_flag                       N                    N   \n",
              "PULocationID                            90                   13   \n",
              "DOLocationID                           233                  143   \n",
              "payment_type                             1                    1   \n",
              "fare_amount                             11                 18.5   \n",
              "extra                                  0.5                  0.5   \n",
              "mta_tax                                0.5                  0.5   \n",
              "tip_amount                            2.45                 3.95   \n",
              "tolls_amount                             0                    0   \n",
              "improvement_surcharge                  0.3                  0.3   \n",
              "total_amount                         14.75                23.75   \n",
              "\n",
              "                                         4  \n",
              "VendorID                                 2  \n",
              "tpep_pickup_datetime   2016-12-12 19:25:14  \n",
              "tpep_dropoff_datetime  2016-12-12 19:34:15  \n",
              "passenger_count                          2  \n",
              "trip_distance                         1.43  \n",
              "RatecodeID                               1  \n",
              "store_and_fwd_flag                       N  \n",
              "PULocationID                           164  \n",
              "DOLocationID                            79  \n",
              "payment_type                             1  \n",
              "fare_amount                            7.5  \n",
              "extra                                    1  \n",
              "mta_tax                                0.5  \n",
              "tip_amount                               1  \n",
              "tolls_amount                             0  \n",
              "improvement_surcharge                  0.3  \n",
              "total_amount                          10.3  "
            ]
          },
          "metadata": {
            "tags": []
          },
          "execution_count": 1
        }
      ]
    },
    {
      "metadata": {
        "id": "gFJ6_4A30fIZ",
        "colab_type": "text"
      },
      "cell_type": "markdown",
      "source": [
        "**payment_type**\n",
        "1. Credit card\n",
        "2. Cash\n",
        "3. No charge\n",
        "4. Dispute\n",
        "5. Unknown\n",
        "6. Voided trip"
      ]
    },
    {
      "metadata": {
        "id": "ZjyuO2XFcvJm",
        "colab_type": "code",
        "colab": {
          "base_uri": "https://localhost:8080/",
          "height": 34
        },
        "outputId": "a24f04dd-dd4c-4ca4-b47e-77b07b94db37"
      },
      "cell_type": "code",
      "source": [
        "# how many passengers in the sample paid for their ride with cash?\n",
        "cash = ds.payment_type==2\n",
        "print sum(cash)"
      ],
      "execution_count": 2,
      "outputs": [
        {
          "output_type": "stream",
          "text": [
            "3543\n"
          ],
          "name": "stdout"
        }
      ]
    },
    {
      "metadata": {
        "id": "b3CkfmBOcvMm",
        "colab_type": "code",
        "colab": {
          "base_uri": "https://localhost:8080/",
          "height": 34
        },
        "outputId": "4e46750f-42ec-455d-8520-dee1502dacce"
      },
      "cell_type": "code",
      "source": [
        "# build a 99% confidence interval for the proportion of cash payers. What is its' lower boundary?\n",
        "from statsmodels.stats.proportion import proportion_confint\n",
        "proportion_confint(sum(cash), len(cash), alpha=0.01)[0]"
      ],
      "execution_count": 3,
      "outputs": [
        {
          "output_type": "execute_result",
          "data": {
            "text/plain": [
              "0.34197979174644566"
            ]
          },
          "metadata": {
            "tags": []
          },
          "execution_count": 3
        }
      ]
    },
    {
      "metadata": {
        "id": "xlyZuVEJgajC",
        "colab_type": "code",
        "colab": {
          "base_uri": "https://localhost:8080/",
          "height": 34
        },
        "outputId": "23a009ce-1fd8-4d55-c91b-47510bed3e1c"
      },
      "cell_type": "code",
      "source": [
        "# estimate the average trip distance in miles\n",
        "m = ds.trip_distance.mean()\n",
        "print m"
      ],
      "execution_count": 4,
      "outputs": [
        {
          "output_type": "stream",
          "text": [
            "2.881264\n"
          ],
          "name": "stdout"
        }
      ]
    },
    {
      "metadata": {
        "id": "blPSYKRpxkUW",
        "colab_type": "code",
        "colab": {
          "base_uri": "https://localhost:8080/",
          "height": 34
        },
        "outputId": "83e9f7d3-7edc-4cb2-9d63-aab13caa4bbd"
      },
      "cell_type": "code",
      "source": [
        "# what is the standard deviation of the estimator from the previous question?\n",
        "s = ds.trip_distance.std(ddof=1)/np.sqrt(len(ds))\n",
        "print s"
      ],
      "execution_count": 5,
      "outputs": [
        {
          "output_type": "stream",
          "text": [
            "0.03583925411394529\n"
          ],
          "name": "stdout"
        }
      ]
    },
    {
      "metadata": {
        "id": "U6eaws5DhLo0",
        "colab_type": "code",
        "colab": {
          "base_uri": "https://localhost:8080/",
          "height": 34
        },
        "outputId": "700e10f7-7444-48bb-a41c-88854945b26f"
      },
      "cell_type": "code",
      "source": [
        "# calculate 95% confidence interval for the mean trip distance. What is the upper boundary?\n",
        "from statsmodels.stats.weightstats import _tconfint_generic\n",
        "_tconfint_generic(m, s, len(ds)-1, 0.05, 'two-sided')[1]"
      ],
      "execution_count": 6,
      "outputs": [
        {
          "output_type": "execute_result",
          "data": {
            "text/plain": [
              "2.9515161512014023"
            ]
          },
          "metadata": {
            "tags": []
          },
          "execution_count": 6
        }
      ]
    }
  ]
}