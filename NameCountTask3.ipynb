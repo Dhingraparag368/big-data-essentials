{
 "cells": [
  {
   "cell_type": "markdown",
   "metadata": {},
   "source": [
    "# Hadoop Streaming assignment 3: Name Count\n",
    "Make WordCount program for all the names in the dataset. Name is a word with the following properties:\n",
    "\n",
    "* The first character is not a digit (other characters can be digits).\n",
    "* The first character is uppercase, all the other characters that are letters are lowercase.\n",
    "* There are less than 0.5% occurrences of this word, when this word regardless to its case appears in the dataset and the condition (2) is not met.\n",
    "\n",
    "Order by quantity, most popular first, output format:\n",
    "\n",
    "<code>name <tab> count</code>\n",
    "\n",
    "The result is the 5th line in the output.\n",
    "\n",
    "The result on the sample dataset:\n",
    "\n",
    "<code>french 5742</code>\n",
    "\n",
    "If you want to deploy the environment on your own machine, please use bigdatateam/yarn-notebook Docker container."
   ]
  },
  {
   "cell_type": "code",
   "execution_count": 1,
   "metadata": {},
   "outputs": [
    {
     "name": "stdout",
     "output_type": "stream",
     "text": [
      "Overwriting test.dat\n"
     ]
    }
   ],
   "source": [
    "%%writefile test.dat\n",
    "\n",
    "1\tFor The Horde! For The Horde! For The Horde! For The Horde! For The Horde! For The Horde! For The Horde!\n",
    "1\tFor The Horde! For The Horde! For The Horde! For The Horde! For The Horde! For The Horde! For The Horde!\n",
    "1\tFor The Horde! For The Horde! For The Horde! For The Horde! For The Horde! For The Horde! For The Horde!\n",
    "1\tFor The Horde! For The Horde! For The Horde! For The Horde! For The Horde! For The Horde! For The Horde!\n",
    "1\tFor The Horde! For The Horde! For The Horde! For The Horde! For The Horde! For The Horde! For The Horde!\n",
    "1\tFor The Horde! For The Horde! For The Horde! For The Horde! For The Horde! For The Horde! For The Horde!\n",
    "2\tfor the horde\n",
    "3\tFoR$ ^THe HoRde!!!\n",
    "42\tGood OR baD "
   ]
  },
  {
   "cell_type": "code",
   "execution_count": 2,
   "metadata": {},
   "outputs": [
    {
     "name": "stdout",
     "output_type": "stream",
     "text": [
      "1\tFor The Horde! For The Horde! For The Horde! For The Horde! For The Horde! For The Horde! For The Horde!\r\n",
      "1\tFor The Horde! For The Horde! For The Horde! For The Horde! For The Horde! For The Horde! For The Horde!\r\n",
      "2\tfor the horde\r\n",
      "3\tFoR$ ^THe HoRde!!!\r\n",
      "42\tGood OR baD "
     ]
    }
   ],
   "source": [
    "cat test.dat | tail -5"
   ]
  },
  {
   "cell_type": "code",
   "execution_count": 3,
   "metadata": {},
   "outputs": [
    {
     "name": "stdout",
     "output_type": "stream",
     "text": [
      "Overwriting mapper1.py\n"
     ]
    }
   ],
   "source": [
    "%%writefile mapper1.py\n",
    "\n",
    "import sys\n",
    "import re\n",
    "\n",
    "reload(sys)\n",
    "sys.setdefaultencoding('utf-8')\n",
    "\n",
    "total = 0\n",
    "\n",
    "for line in sys.stdin:\n",
    "    try:\n",
    "        article_id, text = unicode(line.strip()).split('\\t', 1)\n",
    "    except ValueError as e:\n",
    "        continue\n",
    "    text = re.sub(\"^\\W+|\\W+$\", \"\", text, flags=re.UNICODE)\n",
    "    words = re.split(\"\\W*\\s+\\W*\", text, flags=re.UNICODE)\n",
    "    for word in words:\n",
    "        total += 1       \n",
    "        cond1 = word[0].isalpha()\n",
    "        cond2 = not word[0].islower() and word[1:].islower()        \n",
    "        if (cond1):\n",
    "            print \"%s\\t%d\\t%d\" % (word, 1, cond2)\n",
    "        \n",
    "print >> sys.stderr, \"reporter:counter:Wiki stats,Total words,%d\" % total"
   ]
  },
  {
   "cell_type": "code",
   "execution_count": 4,
   "metadata": {},
   "outputs": [
    {
     "name": "stdout",
     "output_type": "stream",
     "text": [
      "reporter:counter:Wiki stats,Total words,135\r\n",
      "baD\t1\t0\r\n",
      "for\t1\t0\r\n",
      "FoR\t1\t0\r\n",
      "For\t1\t1\r\n",
      "For\t1\t1\r\n",
      "For\t1\t1\r\n",
      "For\t1\t1\r\n",
      "For\t1\t1\r\n",
      "For\t1\t1\r\n",
      "For\t1\t1\r\n"
     ]
    }
   ],
   "source": [
    "cat test.dat | python2 ./mapper1.py | sort | head"
   ]
  },
  {
   "cell_type": "code",
   "execution_count": 5,
   "metadata": {},
   "outputs": [
    {
     "name": "stdout",
     "output_type": "stream",
     "text": [
      "Overwriting reducer1.py\n"
     ]
    }
   ],
   "source": [
    "%%writefile reducer1.py\n",
    "\n",
    "import sys\n",
    "\n",
    "current_key=None\n",
    "current_group = []\n",
    "\n",
    "for line in sys.stdin:\n",
    "    try:\n",
    "        key, count, cond2 = line.strip().split('\\t', 2)\n",
    "        count = int(count)\n",
    "        cond2 = int(cond2)        \n",
    "    except ValueError as e:\n",
    "        continue\n",
    "    \n",
    "    if current_key != key: # the next case sensitive word \n",
    "        if current_key:\n",
    "            current_group.append([current_key, key_sum, current_cond2])\n",
    "            \n",
    "            if current_key.lower() != key.lower(): # next not case sensitive word\n",
    "                def print_group(arr):\n",
    "                    word_sum = 0\n",
    "                    for i in arr:\n",
    "                        word_sum += i[1]\n",
    "                    for i in arr:\n",
    "                        print \"%s\\t%d\\t%d\\t%d\" % (i[0], i[1], i[2], word_sum)                \n",
    "                \n",
    "                print_group(current_group)\n",
    "                current_group = []\n",
    "        \n",
    "        current_key = key\n",
    "        key_sum = 0\n",
    "        current_cond2 = cond2    \n",
    "    key_sum += count\n",
    "\n",
    "if current_key:\n",
    "    print_group(current_group)"
   ]
  },
  {
   "cell_type": "code",
   "execution_count": 6,
   "metadata": {},
   "outputs": [
    {
     "name": "stdout",
     "output_type": "stream",
     "text": [
      "reporter:counter:Wiki stats,Total words,135\r\n",
      "baD\t1\t0\t1\r\n",
      "for\t1\t0\t44\r\n",
      "FoR\t1\t0\t44\r\n",
      "For\t42\t1\t44\r\n",
      "Good\t1\t1\t1\r\n",
      "horde\t1\t0\t44\r\n",
      "HoRde\t1\t0\t44\r\n",
      "Horde\t42\t1\t44\r\n",
      "OR\t1\t0\t1\r\n",
      "the\t1\t0\t2\r\n",
      "THe\t1\t0\t2\r\n"
     ]
    }
   ],
   "source": [
    "cat test.dat | python2 ./mapper1.py | sort | python2 ./reducer1.py"
   ]
  },
  {
   "cell_type": "code",
   "execution_count": 7,
   "metadata": {},
   "outputs": [
    {
     "name": "stdout",
     "output_type": "stream",
     "text": [
      "Overwriting total_counter.py\n"
     ]
    }
   ],
   "source": [
    "%%writefile total_counter.py\n",
    "\n",
    "import sys\n",
    "\n",
    "if __name__ == '__main__':\n",
    "    for line in sys.stdin:\n",
    "        try:\n",
    "            key, value = line.strip().split('=', 1)            \n",
    "            if (key == \"Total words\"):\n",
    "                print \"%d\" % int(value)\n",
    "                break;\n",
    "        except ValueError as e:\n",
    "            continue"
   ]
  },
  {
   "cell_type": "code",
   "execution_count": 8,
   "metadata": {},
   "outputs": [
    {
     "name": "stdout",
     "output_type": "stream",
     "text": [
      "Overwriting mapper2.py\n"
     ]
    }
   ],
   "source": [
    "%%writefile mapper2.py\n",
    "\n",
    "import sys\n",
    "\n",
    "reload(sys)\n",
    "sys.setdefaultencoding('utf-8')\n",
    "\n",
    "total = float(sys.argv[1])\n",
    "\n",
    "for line in sys.stdin:\n",
    "    try:\n",
    "        key, key_sum, cond2, group_sum = unicode(line.strip()).split('\\t', 3)\n",
    "        key_sum = int(key_sum)\n",
    "        cond2 = int(cond2)\n",
    "        group_sum = float(group_sum)\n",
    "    except ValueError as e:\n",
    "        continue\n",
    "    \n",
    "    cond3 = (group_sum/total)*100 < 0.5  \n",
    "    if (cond2 or cond3):    \n",
    "        print \"%d\\t%s\" % (key_sum, key)        "
   ]
  },
  {
   "cell_type": "code",
   "execution_count": 9,
   "metadata": {},
   "outputs": [
    {
     "name": "stdout",
     "output_type": "stream",
     "text": [
      "reporter:counter:Wiki stats,Total words,135\r\n",
      "1\tbaD\r\n",
      "42\tFor\r\n",
      "1\tGood\r\n",
      "42\tHorde\r\n",
      "1\tOR\r\n",
      "1\tthe\r\n",
      "1\tTHe\r\n"
     ]
    }
   ],
   "source": [
    "cat test.dat | python2 ./mapper1.py | sort | python2 ./reducer1.py | python2 ./mapper2.py \"3371\""
   ]
  },
  {
   "cell_type": "code",
   "execution_count": 10,
   "metadata": {},
   "outputs": [
    {
     "name": "stdout",
     "output_type": "stream",
     "text": [
      "Overwriting reducer2.py\n"
     ]
    }
   ],
   "source": [
    "%%writefile reducer2.py\n",
    "\n",
    "import sys\n",
    "\n",
    "for line in sys.stdin:\n",
    "    try:\n",
    "        cnt, key = line.strip().split('\\t', 1)\n",
    "        cnt = int(cnt)\n",
    "    except ValueError as e:\n",
    "        continue\n",
    "    print \"%s\\t%d\" % (key, cnt)"
   ]
  },
  {
   "cell_type": "code",
   "execution_count": 11,
   "metadata": {},
   "outputs": [
    {
     "name": "stdout",
     "output_type": "stream",
     "text": [
      "reporter:counter:Wiki stats,Total words,135\r\n",
      "Horde\t42\r\n",
      "For\t42\r\n",
      "THe\t1\r\n",
      "the\t1\r\n",
      "OR\t1\r\n",
      "Good\t1\r\n",
      "baD\t1\r\n"
     ]
    }
   ],
   "source": [
    "cat test.dat | python2 ./mapper1.py | sort | python2 ./reducer1.py | python2 ./mapper2.py \"3371\" | sort -nr | python2 ./reducer2.py"
   ]
  },
  {
   "cell_type": "code",
   "execution_count": 12,
   "metadata": {},
   "outputs": [
    {
     "name": "stderr",
     "output_type": "stream",
     "text": [
      "rm: `word_groups_*': No such file or directory\n",
      "19/04/17 13:58:46 INFO client.RMProxy: Connecting to ResourceManager at /0.0.0.0:8032\n",
      "19/04/17 13:58:47 INFO client.RMProxy: Connecting to ResourceManager at /0.0.0.0:8032\n",
      "19/04/17 13:58:47 INFO mapred.FileInputFormat: Total input files to process : 1\n",
      "19/04/17 13:58:47 INFO mapreduce.JobSubmitter: number of splits:2\n",
      "19/04/17 13:58:47 INFO mapreduce.JobSubmitter: Submitting tokens for job: job_1555502073095_0020\n",
      "19/04/17 13:58:47 INFO impl.YarnClientImpl: Submitted application application_1555502073095_0020\n",
      "19/04/17 13:58:47 INFO mapreduce.Job: The url to track the job: http://05a41fc46e82:8088/proxy/application_1555502073095_0020/\n",
      "19/04/17 13:58:47 INFO mapreduce.Job: Running job: job_1555502073095_0020\n",
      "19/04/17 13:58:53 INFO mapreduce.Job: Job job_1555502073095_0020 running in uber mode : false\n",
      "19/04/17 13:58:53 INFO mapreduce.Job:  map 0% reduce 0%\n",
      "19/04/17 13:59:09 INFO mapreduce.Job:  map 41% reduce 0%\n",
      "19/04/17 13:59:15 INFO mapreduce.Job:  map 56% reduce 0%\n",
      "19/04/17 13:59:21 INFO mapreduce.Job:  map 68% reduce 0%\n",
      "19/04/17 13:59:24 INFO mapreduce.Job:  map 83% reduce 0%\n",
      "19/04/17 13:59:25 INFO mapreduce.Job:  map 100% reduce 0%\n",
      "19/04/17 13:59:33 INFO mapreduce.Job:  map 100% reduce 13%\n",
      "19/04/17 13:59:34 INFO mapreduce.Job:  map 100% reduce 25%\n",
      "19/04/17 13:59:36 INFO mapreduce.Job:  map 100% reduce 38%\n",
      "19/04/17 13:59:37 INFO mapreduce.Job:  map 100% reduce 75%\n",
      "19/04/17 13:59:40 INFO mapreduce.Job:  map 100% reduce 88%\n",
      "19/04/17 13:59:41 INFO mapreduce.Job:  map 100% reduce 100%\n",
      "19/04/17 13:59:41 INFO mapreduce.Job: Job job_1555502073095_0020 completed successfully\n",
      "19/04/17 13:59:41 INFO mapreduce.Job: Counters: 51\n",
      "\tFile System Counters\n",
      "\t\tFILE: Number of bytes read=281496670\n",
      "\t\tFILE: Number of bytes written=423553095\n",
      "\t\tFILE: Number of read operations=0\n",
      "\t\tFILE: Number of large read operations=0\n",
      "\t\tFILE: Number of write operations=0\n",
      "\t\tHDFS: Number of bytes read=76874501\n",
      "\t\tHDFS: Number of bytes written=7028658\n",
      "\t\tHDFS: Number of read operations=30\n",
      "\t\tHDFS: Number of large read operations=0\n",
      "\t\tHDFS: Number of write operations=16\n",
      "\tJob Counters \n",
      "\t\tKilled reduce tasks=1\n",
      "\t\tLaunched map tasks=2\n",
      "\t\tLaunched reduce tasks=8\n",
      "\t\tData-local map tasks=2\n",
      "\t\tTotal time spent by all maps in occupied slots (ms)=57507\n",
      "\t\tTotal time spent by all reduces in occupied slots (ms)=53185\n",
      "\t\tTotal time spent by all map tasks (ms)=57507\n",
      "\t\tTotal time spent by all reduce tasks (ms)=53185\n",
      "\t\tTotal vcore-milliseconds taken by all map tasks=57507\n",
      "\t\tTotal vcore-milliseconds taken by all reduce tasks=53185\n",
      "\t\tTotal megabyte-milliseconds taken by all map tasks=58887168\n",
      "\t\tTotal megabyte-milliseconds taken by all reduce tasks=54461440\n",
      "\tMap-Reduce Framework\n",
      "\t\tMap input records=4100\n",
      "\t\tMap output records=11493173\n",
      "\t\tMap output bytes=117732436\n",
      "\t\tMap output materialized bytes=140718887\n",
      "\t\tInput split bytes=228\n",
      "\t\tCombine input records=0\n",
      "\t\tCombine output records=0\n",
      "\t\tReduce input groups=420634\n",
      "\t\tReduce shuffle bytes=140718887\n",
      "\t\tReduce input records=11493173\n",
      "\t\tReduce output records=420626\n",
      "\t\tSpilled Records=34479519\n",
      "\t\tShuffled Maps =16\n",
      "\t\tFailed Shuffles=0\n",
      "\t\tMerged Map outputs=16\n",
      "\t\tGC time elapsed (ms)=910\n",
      "\t\tCPU time spent (ms)=100150\n",
      "\t\tPhysical memory (bytes) snapshot=2364207104\n",
      "\t\tVirtual memory (bytes) snapshot=20214374400\n",
      "\t\tTotal committed heap usage (bytes)=1539309568\n",
      "\tShuffle Errors\n",
      "\t\tBAD_ID=0\n",
      "\t\tCONNECTION=0\n",
      "\t\tIO_ERROR=0\n",
      "\t\tWRONG_LENGTH=0\n",
      "\t\tWRONG_MAP=0\n",
      "\t\tWRONG_REDUCE=0\n",
      "\tWiki stats\n",
      "\t\tTotal words=11937317\n",
      "\tFile Input Format Counters \n",
      "\t\tBytes Read=76874273\n",
      "\tFile Output Format Counters \n",
      "\t\tBytes Written=7028658\n",
      "19/04/17 13:59:41 INFO streaming.StreamJob: Output directory: word_groups_\n"
     ]
    }
   ],
   "source": [
    "%%bash\n",
    "\n",
    "OUT_DIR=\"word_groups_\"\n",
    "LOGS=\"stderr_logs.txt\"\n",
    "\n",
    "hdfs dfs -rm -r -skipTrash ${OUT_DIR}* > /dev/null\n",
    "\n",
    "yarn jar /opt/cloudera/parcels/CDH/lib/hadoop-mapreduce/hadoop-streaming.jar \\\n",
    "    -D mapred.jab.name=\"Streaming wordGroups\" \\\n",
    "    -D mapreduce.job.reduces=8 \\\n",
    "    -files mapper1.py,reducer1.py \\\n",
    "    -mapper \"python mapper1.py\" \\\n",
    "    -reducer \"python reducer1.py\" \\\n",
    "    -input /data/wiki/en_articles_part \\\n",
    "    -output ${OUT_DIR} > /dev/null 2> $LOGS\n",
    "    \n",
    "cat $LOGS >&2"
   ]
  },
  {
   "cell_type": "code",
   "execution_count": 13,
   "metadata": {},
   "outputs": [
    {
     "name": "stdout",
     "output_type": "stream",
     "text": [
      "A\t18574\t0\t18574\r\n",
      "A\".Two\t1\t0\t1\r\n",
      "A$1.18\t1\t0\t1\r\n",
      "A$38,850\t1\t0\t1\r\n",
      "A$4\t1\t0\t1\r\n",
      "A$480\t1\t0\t1\r\n",
      "A(0\t29\t0\t29\r\n",
      "A(2,A(3,2\t1\t0\t1\r\n",
      "A(3,1\t1\t0\t1\r\n",
      "A(3,A(4,0\t1\t0\t1\r\n",
      "cat: Unable to write to output stream.\r\n"
     ]
    }
   ],
   "source": [
    "!hdfs dfs -cat \"word_groups_/part-00000\" | head"
   ]
  },
  {
   "cell_type": "code",
   "execution_count": 14,
   "metadata": {},
   "outputs": [
    {
     "name": "stdout",
     "output_type": "stream",
     "text": [
      "11937317\n"
     ]
    }
   ],
   "source": [
    "%%bash\n",
    "TOTAL=$(cat stderr_logs.txt | python2 ./total_counter.py)\n",
    "echo $TOTAL"
   ]
  },
  {
   "cell_type": "code",
   "execution_count": 15,
   "metadata": {},
   "outputs": [
    {
     "name": "stderr",
     "output_type": "stream",
     "text": [
      "rm: `name_counts_*': No such file or directory\n",
      "19/04/17 13:59:46 INFO client.RMProxy: Connecting to ResourceManager at /0.0.0.0:8032\n",
      "19/04/17 13:59:47 INFO client.RMProxy: Connecting to ResourceManager at /0.0.0.0:8032\n",
      "19/04/17 13:59:47 INFO mapred.FileInputFormat: Total input files to process : 8\n",
      "19/04/17 13:59:47 INFO mapreduce.JobSubmitter: number of splits:8\n",
      "19/04/17 13:59:47 INFO mapreduce.JobSubmitter: Submitting tokens for job: job_1555502073095_0021\n",
      "19/04/17 13:59:47 INFO impl.YarnClientImpl: Submitted application application_1555502073095_0021\n",
      "19/04/17 13:59:47 INFO mapreduce.Job: The url to track the job: http://05a41fc46e82:8088/proxy/application_1555502073095_0021/\n",
      "19/04/17 13:59:47 INFO mapreduce.Job: Running job: job_1555502073095_0021\n",
      "19/04/17 13:59:52 INFO mapreduce.Job: Job job_1555502073095_0021 running in uber mode : false\n",
      "19/04/17 13:59:52 INFO mapreduce.Job:  map 0% reduce 0%\n",
      "19/04/17 13:59:59 INFO mapreduce.Job:  map 75% reduce 0%\n",
      "19/04/17 14:00:02 INFO mapreduce.Job:  map 100% reduce 0%\n",
      "19/04/17 14:00:05 INFO mapreduce.Job:  map 100% reduce 100%\n",
      "19/04/17 14:00:05 INFO mapreduce.Job: Job job_1555502073095_0021 completed successfully\n",
      "19/04/17 14:00:05 INFO mapreduce.Job: Counters: 49\n",
      "\tFile System Counters\n",
      "\t\tFILE: Number of bytes read=6125765\n",
      "\t\tFILE: Number of bytes written=13511724\n",
      "\t\tFILE: Number of read operations=0\n",
      "\t\tFILE: Number of large read operations=0\n",
      "\t\tFILE: Number of write operations=0\n",
      "\t\tHDFS: Number of bytes read=7029530\n",
      "\t\tHDFS: Number of bytes written=5284517\n",
      "\t\tHDFS: Number of read operations=27\n",
      "\t\tHDFS: Number of large read operations=0\n",
      "\t\tHDFS: Number of write operations=2\n",
      "\tJob Counters \n",
      "\t\tLaunched map tasks=8\n",
      "\t\tLaunched reduce tasks=1\n",
      "\t\tData-local map tasks=8\n",
      "\t\tTotal time spent by all maps in occupied slots (ms)=23466\n",
      "\t\tTotal time spent by all reduces in occupied slots (ms)=3518\n",
      "\t\tTotal time spent by all map tasks (ms)=23466\n",
      "\t\tTotal time spent by all reduce tasks (ms)=3518\n",
      "\t\tTotal vcore-milliseconds taken by all map tasks=23466\n",
      "\t\tTotal vcore-milliseconds taken by all reduce tasks=3518\n",
      "\t\tTotal megabyte-milliseconds taken by all map tasks=24029184\n",
      "\t\tTotal megabyte-milliseconds taken by all reduce tasks=3602432\n",
      "\tMap-Reduce Framework\n",
      "\t\tMap input records=420626\n",
      "\t\tMap output records=420612\n",
      "\t\tMap output bytes=5284526\n",
      "\t\tMap output materialized bytes=6125807\n",
      "\t\tInput split bytes=872\n",
      "\t\tCombine input records=0\n",
      "\t\tCombine output records=0\n",
      "\t\tReduce input groups=1916\n",
      "\t\tReduce shuffle bytes=6125807\n",
      "\t\tReduce input records=420612\n",
      "\t\tReduce output records=420612\n",
      "\t\tSpilled Records=841224\n",
      "\t\tShuffled Maps =8\n",
      "\t\tFailed Shuffles=0\n",
      "\t\tMerged Map outputs=8\n",
      "\t\tGC time elapsed (ms)=883\n",
      "\t\tCPU time spent (ms)=14040\n",
      "\t\tPhysical memory (bytes) snapshot=2560770048\n",
      "\t\tVirtual memory (bytes) snapshot=18101252096\n",
      "\t\tTotal committed heap usage (bytes)=1756364800\n",
      "\tShuffle Errors\n",
      "\t\tBAD_ID=0\n",
      "\t\tCONNECTION=0\n",
      "\t\tIO_ERROR=0\n",
      "\t\tWRONG_LENGTH=0\n",
      "\t\tWRONG_MAP=0\n",
      "\t\tWRONG_REDUCE=0\n",
      "\tFile Input Format Counters \n",
      "\t\tBytes Read=7028658\n",
      "\tFile Output Format Counters \n",
      "\t\tBytes Written=5284517\n",
      "19/04/17 14:00:05 INFO streaming.StreamJob: Output directory: name_counts_\n"
     ]
    }
   ],
   "source": [
    "%%bash\n",
    "\n",
    "TOTAL=$(cat stderr_logs.txt | python2 ./total_counter.py)\n",
    "DIR1=\"word_groups_\"\n",
    "DIR2=\"name_counts_\"\n",
    "\n",
    "hdfs dfs -rm -r -skipTrash \"name_counts_\"* > /dev/null\n",
    "\n",
    "yarn jar /opt/cloudera/parcels/CDH/lib/hadoop-mapreduce/hadoop-streaming.jar \\\n",
    "    -D mapred.jab.name=\"Streaming nameCount\" \\\n",
    "    -D mapreduce.job.reduces=1 \\\n",
    "    -D mapreduce.job.output.key.comparator.class=org.apache.hadoop.mapreduce.lib.partition.KeyFieldBasedComparator \\\n",
    "    -D mapreduce.partition.keycomparator.options=\"-nr\" \\\n",
    "    -files mapper2.py,reducer2.py \\\n",
    "    -mapper \"python mapper2.py $TOTAL\" \\\n",
    "    -reducer \"python reducer2.py\" \\\n",
    "    -input ${DIR1} \\\n",
    "    -output ${DIR2} > /dev/null"
   ]
  },
  {
   "cell_type": "code",
   "execution_count": 16,
   "metadata": {},
   "outputs": [
    {
     "name": "stdout",
     "output_type": "stream",
     "text": [
      "The\t104250\r\n",
      "are\t57225\r\n",
      "from\t56252\r\n",
      "or\t49258\r\n",
      "be\t43262\r\n",
      "an\t43198\r\n",
      "which\t42144\r\n",
      "his\t41530\r\n",
      "at\t41140\r\n",
      "it\t35840\r\n",
      "were\t34321\r\n",
      "In\t34308\r\n",
      "also\t30380\r\n",
      "not\t30027\r\n",
      "have\t29707\r\n",
      "has\t28756\r\n",
      "he\t25551\r\n",
      "had\t23892\r\n",
      "this\t23673\r\n",
      "their\t23521\r\n",
      "but\t23343\r\n",
      "its\t22348\r\n",
      "one\t21164\r\n",
      "been\t20443\r\n",
      "other\t20355\r\n",
      "first\t20168\r\n",
      "such\t18874\r\n",
      "A\t18574\r\n",
      "used\t18130\r\n",
      "can\t17953\r\n",
      "more\t17632\r\n",
      "American\t17215\r\n",
      "who\t16371\r\n",
      "they\t15741\r\n",
      "two\t15689\r\n",
      "into\t15569\r\n",
      "all\t15465\r\n",
      "most\t15348\r\n",
      "than\t14596\r\n",
      "This\t14576\r\n",
      "some\t14169\r\n",
      "only\t13828\r\n",
      "It\t13664\r\n",
      "would\t12746\r\n",
      "time\t12596\r\n",
      "between\t12488\r\n",
      "after\t12378\r\n",
      "many\t12325\r\n",
      "when\t12102\r\n",
      "may\t11931\r\n",
      "over\t10756\r\n",
      "He\t10643\r\n",
      "use\t10498\r\n",
      "about\t10393\r\n",
      "known\t10231\r\n",
      "years\t9996\r\n",
      "these\t9938\r\n",
      "there\t9932\r\n",
      "during\t9741\r\n",
      "United\t9674\r\n",
      "new\t9621\r\n",
      "New\t9526\r\n",
      "where\t9390\r\n",
      "called\t9251\r\n",
      "number\t9241\r\n",
      "no\t9069\r\n",
      "made\t8834\r\n",
      "being\t8593\r\n",
      "both\t8483\r\n",
      "through\t8429\r\n",
      "including\t8353\r\n",
      "then\t8193\r\n",
      "I\t7958\r\n",
      "b\t7914\r\n",
      "up\t7884\r\n",
      "any\t7870\r\n",
      "often\t7842\r\n",
      "later\t7841\r\n",
      "them\t7835\r\n",
      "English\t7794\r\n",
      "system\t7767\r\n",
      "out\t7736\r\n",
      "while\t7709\r\n",
      "century\t7674\r\n",
      "under\t7530\r\n",
      "three\t7525\r\n",
      "will\t7496\r\n",
      "him\t7476\r\n",
      "well\t7473\r\n",
      "part\t7442\r\n",
      "her\t7441\r\n",
      "became\t7315\r\n",
      "so\t7263\r\n",
      "States\t7178\r\n",
      "same\t7107\r\n",
      "people\t7100\r\n",
      "early\t6961\r\n",
      "if\t6886\r\n",
      "city\t6877\r\n",
      "d\t6872\r\n",
      "cat: Unable to write to output stream.\r\n"
     ]
    }
   ],
   "source": [
    "!hdfs dfs -cat \"name_counts_/part-00000\" | head -100"
   ]
  },
  {
   "cell_type": "code",
   "execution_count": null,
   "metadata": {},
   "outputs": [],
   "source": []
  }
 ],
 "metadata": {
  "kernelspec": {
   "display_name": "Python 2",
   "language": "python",
   "name": "python2"
  },
  "language_info": {
   "codemirror_mode": {
    "name": "ipython",
    "version": 2
   },
   "file_extension": ".py",
   "mimetype": "text/x-python",
   "name": "python",
   "nbconvert_exporter": "python",
   "pygments_lexer": "ipython2",
   "version": "2.7.12"
  }
 },
 "nbformat": 4,
 "nbformat_minor": 2
}
