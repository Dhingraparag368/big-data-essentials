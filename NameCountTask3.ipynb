{
 "cells": [
  {
   "cell_type": "markdown",
   "metadata": {},
   "source": [
    "# Hadoop Streaming assignment 3: Name Count\n",
    "Make WordCount program for all the names in the dataset. Name is a word with the following properties:\n",
    "\n",
    "* The first character is not a digit (other characters can be digits).\n",
    "* The first character is uppercase, all the other characters that are letters are lowercase.\n",
    "* There are less than 0.5% occurrences of this word, when this word regardless to its case appears in the dataset and the condition (2) is not met.\n",
    "\n",
    "Order by quantity, most popular first, output format:\n",
    "\n",
    "<code>name <tab> count</code>\n",
    "\n",
    "The result is the 5th line in the output.\n",
    "\n",
    "The result on the sample dataset:\n",
    "\n",
    "<code>french 5742</code>\n",
    "\n",
    "If you want to deploy the environment on your own machine, please use bigdatateam/yarn-notebook Docker container."
   ]
  },
  {
   "cell_type": "code",
   "execution_count": 180,
   "metadata": {},
   "outputs": [
    {
     "name": "stdout",
     "output_type": "stream",
     "text": [
      "Overwriting test.dat\n"
     ]
    }
   ],
   "source": [
    "%%writefile test.dat\n",
    "\n",
    "1\tFor The Horde!\n",
    "2\tfor the horde\n",
    "3\tFor$ #THe HoRde!!!\n",
    "42\tA A A A A A A A rare Iam the the\n",
    "1\tFor For for for\n",
    "2\t1for 1The 1Horde!\n",
    "3\tHorde Horde Horde!"
   ]
  },
  {
   "cell_type": "markdown",
   "metadata": {},
   "source": [
    "cat test.dat"
   ]
  },
  {
   "cell_type": "code",
   "execution_count": 181,
   "metadata": {},
   "outputs": [
    {
     "name": "stdout",
     "output_type": "stream",
     "text": [
      "Overwriting mapper1.py\n"
     ]
    }
   ],
   "source": [
    "%%writefile mapper1.py\n",
    "\n",
    "import sys\n",
    "import re\n",
    "\n",
    "reload(sys)\n",
    "sys.setdefaultencoding('utf-8')\n",
    "\n",
    "total = 0\n",
    "\n",
    "for line in sys.stdin:\n",
    "    try:\n",
    "        article_id, text = unicode(line.strip()).split('\\t', 1)\n",
    "    except ValueError as e:\n",
    "        continue\n",
    "    text = re.sub(\"^\\W+|\\W+$\", \"\", text, flags=re.UNICODE)\n",
    "    words = re.split(\"\\W*\\s+\\W*\", text, flags=re.UNICODE)\n",
    "    for word in words:\n",
    "        total += 1       \n",
    "        cond1 = word[0].isalpha()\n",
    "        cond2 = not word[0].islower() and word[1:].islower()        \n",
    "        if (cond1):\n",
    "            print \"%s\\t%d\\t%d\" % (word, 1, cond2)\n",
    "        \n",
    "print >> sys.stderr, \"reporter:counter:Wiki stats,Total words,%d\" % total"
   ]
  },
  {
   "cell_type": "code",
   "execution_count": 182,
   "metadata": {},
   "outputs": [
    {
     "name": "stdout",
     "output_type": "stream",
     "text": [
      "reporter:counter:Wiki stats,Total words,31\r\n",
      "A\t1\t0\r\n",
      "A\t1\t0\r\n",
      "A\t1\t0\r\n",
      "A\t1\t0\r\n",
      "A\t1\t0\r\n",
      "A\t1\t0\r\n",
      "A\t1\t0\r\n",
      "A\t1\t0\r\n",
      "for\t1\t0\r\n",
      "for\t1\t0\r\n",
      "for\t1\t0\r\n",
      "For\t1\t1\r\n",
      "For\t1\t1\r\n",
      "For\t1\t1\r\n",
      "For\t1\t1\r\n",
      "horde\t1\t0\r\n",
      "HoRde\t1\t0\r\n",
      "Horde\t1\t1\r\n",
      "Horde\t1\t1\r\n",
      "Horde\t1\t1\r\n",
      "Horde\t1\t1\r\n",
      "Iam\t1\t1\r\n",
      "rare\t1\t0\r\n",
      "the\t1\t0\r\n",
      "the\t1\t0\r\n",
      "the\t1\t0\r\n",
      "THe\t1\t0\r\n",
      "The\t1\t1\r\n"
     ]
    }
   ],
   "source": [
    "cat test.dat | python2 ./mapper1.py | sort"
   ]
  },
  {
   "cell_type": "code",
   "execution_count": 183,
   "metadata": {},
   "outputs": [
    {
     "name": "stdout",
     "output_type": "stream",
     "text": [
      "Overwriting reducer1.py\n"
     ]
    }
   ],
   "source": [
    "%%writefile reducer1.py\n",
    "\n",
    "import sys\n",
    "\n",
    "current_key = None\n",
    "current_cond2=None\n",
    "word_sum = None\n",
    "\n",
    "for line in sys.stdin:\n",
    "    try:\n",
    "        word, count, cond2 = line.strip().split('\\t', 2)\n",
    "        count = int(count)\n",
    "        cond2 = int(cond2)        \n",
    "    except ValueError as e:\n",
    "        continue\n",
    " \n",
    "    if current_key != word:\n",
    "        if current_key:\n",
    "            print \"%s\\t%d\\t%d\" % (current_key, word_sum, current_cond2)\n",
    "        word_sum = 0\n",
    "        current_key = word\n",
    "        current_cond2 = cond2\n",
    "    word_sum += count\n",
    "\n",
    "if current_key:\n",
    "    print \"%s\\t%d\\t%d\" % (current_key, word_sum, current_cond2)"
   ]
  },
  {
   "cell_type": "code",
   "execution_count": 184,
   "metadata": {},
   "outputs": [
    {
     "name": "stdout",
     "output_type": "stream",
     "text": [
      "reporter:counter:Wiki stats,Total words,31\r\n",
      "A\t8\t0\r\n",
      "for\t3\t0\r\n",
      "For\t4\t1\r\n",
      "horde\t1\t0\r\n",
      "HoRde\t1\t0\r\n",
      "Horde\t4\t1\r\n",
      "Iam\t1\t1\r\n",
      "rare\t1\t0\r\n",
      "the\t3\t0\r\n",
      "THe\t1\t0\r\n",
      "The\t1\t1\r\n"
     ]
    }
   ],
   "source": [
    "cat test.dat | python2 ./mapper1.py | sort | python2 ./reducer1.py"
   ]
  },
  {
   "cell_type": "code",
   "execution_count": null,
   "metadata": {},
   "outputs": [],
   "source": []
  },
  {
   "cell_type": "code",
   "execution_count": null,
   "metadata": {},
   "outputs": [],
   "source": []
  }
 ],
 "metadata": {
  "kernelspec": {
   "display_name": "Python 2",
   "language": "python",
   "name": "python2"
  },
  "language_info": {
   "codemirror_mode": {
    "name": "ipython",
    "version": 2
   },
   "file_extension": ".py",
   "mimetype": "text/x-python",
   "name": "python",
   "nbconvert_exporter": "python",
   "pygments_lexer": "ipython2",
   "version": "2.7.12"
  }
 },
 "nbformat": 4,
 "nbformat_minor": 2
}
