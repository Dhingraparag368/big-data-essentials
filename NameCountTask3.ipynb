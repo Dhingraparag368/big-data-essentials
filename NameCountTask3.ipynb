{
 "cells": [
  {
   "cell_type": "markdown",
   "metadata": {},
   "source": [
    "# Hadoop Streaming assignment 3: Name Count\n",
    "Make WordCount program for all the names in the dataset. Name is a word with the following properties:\n",
    "\n",
    "* The first character is not a digit (other characters can be digits).\n",
    "* The first character is uppercase, all the other characters that are letters are lowercase.\n",
    "* There are less than 0.5% occurrences of this word, when this word regardless to its case appears in the dataset and the condition (2) is not met.\n",
    "\n",
    "Order by quantity, most popular first, output format:\n",
    "\n",
    "<code>name <tab> count</code>\n",
    "\n",
    "The result is the 5th line in the output.\n",
    "\n",
    "The result on the sample dataset:\n",
    "\n",
    "<code>french 5742</code>\n",
    "\n",
    "If you want to deploy the environment on your own machine, please use bigdatateam/yarn-notebook Docker container."
   ]
  },
  {
   "cell_type": "code",
   "execution_count": 106,
   "metadata": {},
   "outputs": [
    {
     "name": "stdout",
     "output_type": "stream",
     "text": [
      "Overwriting test.dat\n"
     ]
    }
   ],
   "source": [
    "%%writefile test.dat\n",
    "\n",
    "1\thello 2world\n",
    "2\tA hello Again2\n",
    "42\tПривет мир!\n",
    "3\tAnother example with HeLLo\n",
    "4\tFor The Horde!\n",
    "4\tFor The Ho2rde!\n",
    "4\tFor The hor4de!\n",
    "4\tFor The 5Horde!\n",
    "5\tHello, my name is! THe the tHe\n",
    "1\t$934h)) ,)34%%%0@\n",
    "43\tनमस्ते दुनिया!\n",
    "4\tHorde Horde Horde!"
   ]
  },
  {
   "cell_type": "markdown",
   "metadata": {},
   "source": [
    "cat test.dat"
   ]
  },
  {
   "cell_type": "code",
   "execution_count": 107,
   "metadata": {},
   "outputs": [
    {
     "name": "stdout",
     "output_type": "stream",
     "text": [
      "Overwriting mapper1.py\n"
     ]
    }
   ],
   "source": [
    "%%writefile mapper1.py\n",
    "\n",
    "import sys\n",
    "import re\n",
    "\n",
    "reload(sys)\n",
    "sys.setdefaultencoding('utf-8')\n",
    "\n",
    "total = 0\n",
    "\n",
    "for line in sys.stdin:\n",
    "    try:\n",
    "        article_id, text = unicode(line.strip()).split('\\t', 1)\n",
    "    except ValueError as e:\n",
    "        continue\n",
    "    text = re.sub(\"^\\W+|\\W+$\", \"\", text, flags=re.UNICODE)\n",
    "    words = re.split(\"\\W*\\s+\\W*\", text, flags=re.UNICODE)\n",
    "    for word in words:\n",
    "        total += 1       \n",
    "        cond1 = word[0].isalpha()\n",
    "        cond2 = not word[0].islower() and word[1:].islower()        \n",
    "        print \"%s\\t%d\\t%d\\t%d\" % (word.lower(), 1, cond1, cond2)\n",
    "        \n",
    "print >> sys.stderr, \"reporter:counter:Wiki stats,Total words,%d\" % total"
   ]
  },
  {
   "cell_type": "code",
   "execution_count": 115,
   "metadata": {},
   "outputs": [
    {
     "name": "stdout",
     "output_type": "stream",
     "text": [
      "reporter:counter:Wiki stats,Total words,37\r\n",
      "2world\t1\t0\t1\r\n",
      "34%%%0\t1\t0\t0\r\n",
      "5horde\t1\t0\t0\r\n",
      "934h\t1\t0\t1\r\n",
      "a\t1\t1\t0\r\n",
      "again2\t1\t1\t1\r\n",
      "another\t1\t1\t1\r\n",
      "example\t1\t1\t0\r\n",
      "for\t1\t1\t1\r\n",
      "for\t1\t1\t1\r\n",
      "for\t1\t1\t1\r\n",
      "for\t1\t1\t1\r\n",
      "hello\t1\t1\t0\r\n",
      "hello\t1\t1\t0\r\n",
      "hello\t1\t1\t0\r\n",
      "hello\t1\t1\t1\r\n",
      "ho2rde\t1\t1\t1\r\n",
      "hor4de\t1\t1\t0\r\n",
      "horde\t1\t1\t1\r\n",
      "horde\t1\t1\t1\r\n",
      "horde\t1\t1\t1\r\n",
      "horde\t1\t1\t1\r\n",
      "is\t1\t1\t0\r\n",
      "my\t1\t1\t0\r\n",
      "name\t1\t1\t0\r\n",
      "the\t1\t1\t0\r\n",
      "the\t1\t1\t0\r\n",
      "the\t1\t1\t0\r\n",
      "the\t1\t1\t1\r\n",
      "the\t1\t1\t1\r\n",
      "the\t1\t1\t1\r\n",
      "the\t1\t1\t1\r\n",
      "with\t1\t1\t0\r\n",
      "мир\t1\t1\t0\r\n",
      "привет\t1\t1\t1\r\n",
      "दुनिय\t1\t1\t0\r\n",
      "नमस्त\t1\t1\t0\r\n"
     ]
    }
   ],
   "source": [
    "cat test.dat | python2 ./mapper1.py | sort"
   ]
  },
  {
   "cell_type": "code",
   "execution_count": 116,
   "metadata": {},
   "outputs": [
    {
     "name": "stdout",
     "output_type": "stream",
     "text": [
      "Overwriting reducer1.py\n"
     ]
    }
   ],
   "source": [
    "%%writefile reducer1.py\n",
    "\n",
    "import sys\n",
    "\n",
    "key = None\n",
    "word_sum = 0\n",
    "\n",
    "for line in sys.stdin:\n",
    "    try:\n",
    "        word, count, cond1, cond2 = line.strip().split('\\t', 3)\n",
    "        count = int(count)\n",
    "        cond1 = int(cond1)\n",
    "        cond2 = int(cond2)\n",
    "    except ValueError as e:\n",
    "        continue\n",
    "    \n",
    "    if key != word:\n",
    "        if key:\n",
    "            print \"%s\\t%d\\t%d\\t%d\" % (key, word_sum, cond1, cond2) # ERROR: cond1 and cond2 are taken only for the last word\n",
    "        word_sum = 0\n",
    "        key = word\n",
    "    word_sum += count\n",
    "\n",
    "if key:\n",
    "    print \"%s\\t%d\\t%d\\t%d\" % (key, word_sum, cond1, cond2)"
   ]
  },
  {
   "cell_type": "code",
   "execution_count": 117,
   "metadata": {},
   "outputs": [
    {
     "name": "stdout",
     "output_type": "stream",
     "text": [
      "reporter:counter:Wiki stats,Total words,37\r\n",
      "2world\t1\t0\t0\r\n",
      "34%%%0\t1\t0\t0\r\n",
      "5horde\t1\t0\t1\r\n",
      "934h\t1\t1\t0\r\n",
      "a\t1\t1\t1\r\n",
      "again2\t1\t1\t1\r\n",
      "another\t1\t1\t0\r\n",
      "example\t1\t1\t1\r\n",
      "for\t4\t1\t0\r\n",
      "hello\t4\t1\t1\r\n",
      "ho2rde\t1\t1\t0\r\n",
      "hor4de\t1\t1\t1\r\n",
      "horde\t4\t1\t0\r\n",
      "is\t1\t1\t0\r\n",
      "my\t1\t1\t0\r\n",
      "name\t1\t1\t0\r\n",
      "the\t7\t1\t0\r\n",
      "with\t1\t1\t0\r\n",
      "мир\t1\t1\t1\r\n",
      "привет\t1\t1\t0\r\n",
      "दुनिय\t1\t1\t0\r\n",
      "नमस्त\t1\t1\t0\r\n"
     ]
    }
   ],
   "source": [
    "cat test.dat | python2 ./mapper1.py | sort | python2 ./reducer1.py"
   ]
  },
  {
   "cell_type": "code",
   "execution_count": 111,
   "metadata": {},
   "outputs": [
    {
     "name": "stdout",
     "output_type": "stream",
     "text": [
      "Overwriting mapper2.py\n"
     ]
    }
   ],
   "source": [
    "%%writefile mapper2.py\n",
    "\n",
    "import sys\n",
    "import re\n",
    "\n",
    "reload(sys)\n",
    "sys.setdefaultencoding('utf-8')\n",
    "\n",
    "for line in sys.stdin:\n",
    "    try:\n",
    "        word, cnt = line.strip().split('\\t', 1)\n",
    "        cnt = int(cnt)\n",
    "    except ValueError as e:\n",
    "        continue    \n",
    "    print \"%d\\t%s\" % (cnt, word)"
   ]
  },
  {
   "cell_type": "code",
   "execution_count": 112,
   "metadata": {},
   "outputs": [
    {
     "name": "stdout",
     "output_type": "stream",
     "text": [
      "Overwriting reducer2.py\n"
     ]
    }
   ],
   "source": [
    "%%writefile reducer2.py\n",
    "\n",
    "import sys\n",
    "\n",
    "for line in sys.stdin:\n",
    "    try:\n",
    "        cnt, word = line.strip().split('\\t', 1)\n",
    "        cnt = int(cnt)\n",
    "    except ValueError as e:\n",
    "        continue\n",
    "    print \"%s\\t%d\" % (word, cnt)"
   ]
  },
  {
   "cell_type": "code",
   "execution_count": 113,
   "metadata": {},
   "outputs": [
    {
     "name": "stdout",
     "output_type": "stream",
     "text": [
      "reporter:counter:Wiki stats,Total words,37\r\n"
     ]
    }
   ],
   "source": [
    "cat test.dat | python2 ./mapper1.py | sort | python2 ./reducer1.py | python2 ./mapper2.py | sort -r | python2 ./reducer2.py"
   ]
  },
  {
   "cell_type": "code",
   "execution_count": null,
   "metadata": {},
   "outputs": [],
   "source": []
  }
 ],
 "metadata": {
  "kernelspec": {
   "display_name": "Python 2",
   "language": "python",
   "name": "python2"
  },
  "language_info": {
   "codemirror_mode": {
    "name": "ipython",
    "version": 2
   },
   "file_extension": ".py",
   "mimetype": "text/x-python",
   "name": "python",
   "nbconvert_exporter": "python",
   "pygments_lexer": "ipython2",
   "version": "2.7.12"
  }
 },
 "nbformat": 4,
 "nbformat_minor": 2
}
