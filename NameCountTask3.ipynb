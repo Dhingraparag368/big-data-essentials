{
 "cells": [
  {
   "cell_type": "markdown",
   "metadata": {},
   "source": [
    "# Hadoop Streaming assignment 3: Name Count\n",
    "Make WordCount program for all the names in the dataset. Name is a word with the following properties:\n",
    "\n",
    "* The first character is not a digit (other characters can be digits).\n",
    "* The first character is uppercase, all the other characters that are letters are lowercase.\n",
    "* There are less than 0.5% occurrences of this word, when this word regardless to its case appears in the dataset and the condition (2) is not met.\n",
    "\n",
    "Order by quantity, most popular first, output format:\n",
    "\n",
    "<code>name <tab> count</code>\n",
    "\n",
    "The result is the 5th line in the output.\n",
    "\n",
    "The result on the sample dataset:\n",
    "\n",
    "<code>french 5742</code>\n",
    "\n",
    "If you want to deploy the environment on your own machine, please use bigdatateam/yarn-notebook Docker container."
   ]
  },
  {
   "cell_type": "code",
   "execution_count": 162,
   "metadata": {},
   "outputs": [
    {
     "name": "stdout",
     "output_type": "stream",
     "text": [
      "Overwriting test.dat\n"
     ]
    }
   ],
   "source": [
    "%%writefile test.dat\n",
    "\n",
    "1\tFor The Horde! For The Horde! For The Horde! For The Horde! For The Horde! For The Horde! For The Horde!\n",
    "1\tFor The Horde! For The Horde! For The Horde! For The Horde! For The Horde! For The Horde! For The Horde!\n",
    "1\tFor The Horde! For The Horde! For The Horde! For The Horde! For The Horde! For The Horde! For The Horde!\n",
    "1\tFor The Horde! For The Horde! For The Horde! For The Horde! For The Horde! For The Horde! For The Horde!\n",
    "1\tFor The Horde! For The Horde! For The Horde! For The Horde! For The Horde! For The Horde! For The Horde!\n",
    "1\tFor The Horde! For The Horde! For The Horde! For The Horde! For The Horde! For The Horde! For The Horde!\n",
    "1\tFor The Horde! For The Horde! For The Horde! For The Horde! For The Horde! For The Horde! For The Horde!\n",
    "1\tFor The Horde! For The Horde! For The Horde! For The Horde! For The Horde! For The Horde! For The Horde!\n",
    "1\tFor The Horde! For The Horde! For The Horde! For The Horde! For The Horde! For The Horde! For The Horde!\n",
    "1\tFor The Horde! For The Horde! For The Horde! For The Horde! For The Horde! For The Horde! For The Horde!\n",
    "1\tFor The Horde! For The Horde! For The Horde! For The Horde! For The Horde! For The Horde! For The Horde!\n",
    "1\tFor The Horde! For The Horde! For The Horde! For The Horde! For The Horde! For The Horde! For The Horde!\n",
    "1\tFor The Horde! For The Horde! For The Horde! For The Horde! For The Horde! For The Horde! For The Horde!\n",
    "1\tFor The Horde! For The Horde! For The Horde! For The Horde! For The Horde! For The Horde! For The Horde!\n",
    "1\tFor The Horde! For The Horde! For The Horde! For The Horde! For The Horde! For The Horde! For The Horde!\n",
    "1\tFor The Horde! For The Horde! For The Horde! For The Horde! For The Horde! For The Horde! For The Horde!\n",
    "1\tFor The Horde! For The Horde! For The Horde! For The Horde! For The Horde! For The Horde! For The Horde!\n",
    "1\tFor The Horde! For The Horde! For The Horde! For The Horde! For The Horde! For The Horde! For The Horde!\n",
    "1\tFor The Horde! For The Horde! For The Horde! For The Horde! For The Horde! For The Horde! For The Horde!\n",
    "1\tFor The Horde! For The Horde! For The Horde! For The Horde! For The Horde! For The Horde! For The Horde!\n",
    "1\tFor The Horde! For The Horde! For The Horde! For The Horde! For The Horde! For The Horde! For The Horde!\n",
    "1\tFor The Horde! For The Horde! For The Horde! For The Horde! For The Horde! For The Horde! For The Horde!\n",
    "1\tFor The Horde! For The Horde! For The Horde! For The Horde! For The Horde! For The Horde! For The Horde!\n",
    "1\tFor The Horde! For The Horde! For The Horde! For The Horde! For The Horde! For The Horde! For The Horde!\n",
    "1\tFor The Horde! For The Horde! For The Horde! For The Horde! For The Horde! For The Horde! For The Horde!\n",
    "1\tFor The Horde! For The Horde! For The Horde! For The Horde! For The Horde! For The Horde! For The Horde!\n",
    "1\tFor The Horde! For The Horde! For The Horde! For The Horde! For The Horde! For The Horde! For The Horde!\n",
    "1\tFor The Horde! For The Horde! For The Horde! For The Horde! For The Horde! For The Horde! For The Horde!\n",
    "1\tFor The Horde! For The Horde! For The Horde! For The Horde! For The Horde! For The Horde! For The Horde!\n",
    "1\tFor The Horde! For The Horde! For The Horde! For The Horde! For The Horde! For The Horde! For The Horde!\n",
    "1\tFor The Horde! For The Horde! For The Horde! For The Horde! For The Horde! For The Horde! For The Horde!\n",
    "1\tFor The Horde! For The Horde! For The Horde! For The Horde! For The Horde! For The Horde! For The Horde!\n",
    "1\tFor The Horde! For The Horde! For The Horde! For The Horde! For The Horde! For The Horde! For The Horde!\n",
    "1\tFor The Horde! For The Horde! For The Horde! For The Horde! For The Horde! For The Horde! For The Horde!\n",
    "1\tFor The Horde! For The Horde! For The Horde! For The Horde! For The Horde! For The Horde! For The Horde!\n",
    "1\tFor Horde! For Horde! For Horde! For Horde! For Horde! For Horde! For Horde!\n",
    "2\tfor the horde HoRde hordE\n",
    "3\t1one 2two"
   ]
  },
  {
   "cell_type": "code",
   "execution_count": 164,
   "metadata": {},
   "outputs": [
    {
     "name": "stdout",
     "output_type": "stream",
     "text": [
      "Overwriting mapper1.py\n"
     ]
    }
   ],
   "source": [
    "%%writefile mapper1.py\n",
    "\n",
    "import sys\n",
    "import re\n",
    "\n",
    "reload(sys)\n",
    "sys.setdefaultencoding('utf-8')\n",
    "\n",
    "for line in sys.stdin:\n",
    "    try:\n",
    "        article_id, text = unicode(line.strip()).split('\\t', 1)\n",
    "    except ValueError as e:\n",
    "        continue\n",
    "    text = re.sub(\"^\\W+|\\W+$\", \"\", text, flags=re.UNICODE)\n",
    "    words = re.split(\"\\W*\\s+\\W*\", text, flags=re.UNICODE)\n",
    "    for word in words:\n",
    "        cond1 = word[0].isalpha()\n",
    "        cond2 = not word[0].islower() and word[1:].islower()      \n",
    "        if (cond1):\n",
    "            print \"%s\\t%d\\t%d\" % (word.lower(), cond2, 1)"
   ]
  },
  {
   "cell_type": "code",
   "execution_count": 165,
   "metadata": {},
   "outputs": [
    {
     "name": "stdout",
     "output_type": "stream",
     "text": [
      "for\t0\t1\r\n",
      "for\t1\t1\r\n",
      "for\t1\t1\r\n",
      "for\t1\t1\r\n",
      "for\t1\t1\r\n",
      "for\t1\t1\r\n",
      "for\t1\t1\r\n",
      "for\t1\t1\r\n",
      "for\t1\t1\r\n",
      "for\t1\t1\r\n"
     ]
    }
   ],
   "source": [
    "cat test.dat | python2 ./mapper1.py | sort | head"
   ]
  },
  {
   "cell_type": "code",
   "execution_count": 172,
   "metadata": {},
   "outputs": [
    {
     "name": "stdout",
     "output_type": "stream",
     "text": [
      "Overwriting reducer1.py\n"
     ]
    }
   ],
   "source": [
    "%%writefile reducer1.py\n",
    "\n",
    "import sys\n",
    "\n",
    "current_key=None\n",
    "total_sum = 0\n",
    "cond2_sum = 0\n",
    "cond3 = lambda total_sum, cond2_sum: float(total_sum-cond2_sum)/total_sum < 0.005\n",
    "\n",
    "for line in sys.stdin:\n",
    "    try:\n",
    "        word, cond2, count = line.strip().split('\\t', 2)\n",
    "        cond2 = int(cond2)\n",
    "        count = int(count)\n",
    "    except ValueError as e:\n",
    "        continue\n",
    "    \n",
    "    if current_key != word:        \n",
    "        if current_key and cond3(total_sum, cond2_sum):\n",
    "            print \"%s\\t%d\" % (current_key, cond2_sum)   \n",
    "        current_key = word\n",
    "        total_sum = 0\n",
    "        cond2_sum = 0         \n",
    "    total_sum += count\n",
    "    cond2_sum += cond2*count\n",
    "\n",
    "if current_key and cond3(total_sum, cond2_sum):\n",
    "    print \"%s\\t%d\" % (current_key, cond2_sum)"
   ]
  },
  {
   "cell_type": "code",
   "execution_count": 173,
   "metadata": {},
   "outputs": [
    {
     "name": "stdout",
     "output_type": "stream",
     "text": [
      "for\t252\r\n",
      "the\t245\r\n"
     ]
    }
   ],
   "source": [
    "cat test.dat | python2 ./mapper1.py | sort | python2 ./reducer1.py"
   ]
  },
  {
   "cell_type": "code",
   "execution_count": 184,
   "metadata": {},
   "outputs": [
    {
     "name": "stdout",
     "output_type": "stream",
     "text": [
      "Overwriting mapper2.py\n"
     ]
    }
   ],
   "source": [
    "%%writefile mapper2.py\n",
    "\n",
    "import sys\n",
    "\n",
    "for line in sys.stdin:\n",
    "    try:\n",
    "        key, value = line.strip().split('\\t', 1)\n",
    "        value = int(value)\n",
    "        print \"%d\\t%s\" % (value, key)\n",
    "    except ValueError as e:\n",
    "        continue        "
   ]
  },
  {
   "cell_type": "code",
   "execution_count": 185,
   "metadata": {},
   "outputs": [
    {
     "name": "stdout",
     "output_type": "stream",
     "text": [
      "252\tfor\r\n",
      "245\tthe\r\n"
     ]
    }
   ],
   "source": [
    "cat test.dat | python2 ./mapper1.py | sort | python2 ./reducer1.py | python2 ./mapper2.py"
   ]
  },
  {
   "cell_type": "code",
   "execution_count": 186,
   "metadata": {},
   "outputs": [
    {
     "name": "stdout",
     "output_type": "stream",
     "text": [
      "Overwriting reducer2.py\n"
     ]
    }
   ],
   "source": [
    "%%writefile reducer2.py\n",
    "\n",
    "import sys\n",
    "\n",
    "for line in sys.stdin:\n",
    "    try:\n",
    "        count, word = line.strip().split('\\t', 1)\n",
    "        count = int(count)\n",
    "        print \"%s\\t%d\" % (word, count)\n",
    "    except ValueError as e:\n",
    "        continue"
   ]
  },
  {
   "cell_type": "code",
   "execution_count": 188,
   "metadata": {},
   "outputs": [
    {
     "name": "stdout",
     "output_type": "stream",
     "text": [
      "for\t252\r\n",
      "the\t245\r\n"
     ]
    }
   ],
   "source": [
    "cat test.dat | python2 ./mapper1.py | sort | python2 ./reducer1.py | python2 ./mapper2.py | sort -nr | python2 ./reducer2.py"
   ]
  },
  {
   "cell_type": "code",
   "execution_count": 193,
   "metadata": {},
   "outputs": [
    {
     "name": "stdout",
     "output_type": "stream",
     "text": [
      "french\t5742\n"
     ]
    },
    {
     "name": "stderr",
     "output_type": "stream",
     "text": [
      "rm: `out_*': No such file or directory\n",
      "19/04/17 18:04:14 INFO client.RMProxy: Connecting to ResourceManager at /0.0.0.0:8032\n",
      "19/04/17 18:04:15 INFO client.RMProxy: Connecting to ResourceManager at /0.0.0.0:8032\n",
      "19/04/17 18:04:15 INFO mapred.FileInputFormat: Total input files to process : 1\n",
      "19/04/17 18:04:15 INFO mapreduce.JobSubmitter: number of splits:2\n",
      "19/04/17 18:04:15 INFO mapreduce.JobSubmitter: Submitting tokens for job: job_1555514672898_0004\n",
      "19/04/17 18:04:15 INFO impl.YarnClientImpl: Submitted application application_1555514672898_0004\n",
      "19/04/17 18:04:15 INFO mapreduce.Job: The url to track the job: http://91bfcd6a3d82:8088/proxy/application_1555514672898_0004/\n",
      "19/04/17 18:04:15 INFO mapreduce.Job: Running job: job_1555514672898_0004\n",
      "19/04/17 18:04:22 INFO mapreduce.Job: Job job_1555514672898_0004 running in uber mode : false\n",
      "19/04/17 18:04:22 INFO mapreduce.Job:  map 0% reduce 0%\n",
      "19/04/17 18:04:38 INFO mapreduce.Job:  map 41% reduce 0%\n",
      "19/04/17 18:04:44 INFO mapreduce.Job:  map 56% reduce 0%\n",
      "19/04/17 18:04:50 INFO mapreduce.Job:  map 70% reduce 0%\n",
      "19/04/17 18:04:52 INFO mapreduce.Job:  map 83% reduce 0%\n",
      "19/04/17 18:04:54 INFO mapreduce.Job:  map 100% reduce 0%\n",
      "19/04/17 18:05:01 INFO mapreduce.Job:  map 100% reduce 13%\n",
      "19/04/17 18:05:02 INFO mapreduce.Job:  map 100% reduce 25%\n",
      "19/04/17 18:05:03 INFO mapreduce.Job:  map 100% reduce 38%\n",
      "19/04/17 18:05:05 INFO mapreduce.Job:  map 100% reduce 75%\n",
      "19/04/17 18:05:08 INFO mapreduce.Job:  map 100% reduce 88%\n",
      "19/04/17 18:05:09 INFO mapreduce.Job:  map 100% reduce 100%\n",
      "19/04/17 18:05:10 INFO mapreduce.Job: Job job_1555514672898_0004 completed successfully\n",
      "19/04/17 18:05:10 INFO mapreduce.Job: Counters: 50\n",
      "\tFile System Counters\n",
      "\t\tFILE: Number of bytes read=281492453\n",
      "\t\tFILE: Number of bytes written=423552697\n",
      "\t\tFILE: Number of read operations=0\n",
      "\t\tFILE: Number of large read operations=0\n",
      "\t\tFILE: Number of write operations=0\n",
      "\t\tHDFS: Number of bytes read=76874501\n",
      "\t\tHDFS: Number of bytes written=1507457\n",
      "\t\tHDFS: Number of read operations=30\n",
      "\t\tHDFS: Number of large read operations=0\n",
      "\t\tHDFS: Number of write operations=16\n",
      "\tJob Counters \n",
      "\t\tKilled reduce tasks=1\n",
      "\t\tLaunched map tasks=2\n",
      "\t\tLaunched reduce tasks=8\n",
      "\t\tData-local map tasks=2\n",
      "\t\tTotal time spent by all maps in occupied slots (ms)=57684\n",
      "\t\tTotal time spent by all reduces in occupied slots (ms)=54825\n",
      "\t\tTotal time spent by all map tasks (ms)=57684\n",
      "\t\tTotal time spent by all reduce tasks (ms)=54825\n",
      "\t\tTotal vcore-milliseconds taken by all map tasks=57684\n",
      "\t\tTotal vcore-milliseconds taken by all reduce tasks=54825\n",
      "\t\tTotal megabyte-milliseconds taken by all map tasks=59068416\n",
      "\t\tTotal megabyte-milliseconds taken by all reduce tasks=56140800\n",
      "\tMap-Reduce Framework\n",
      "\t\tMap input records=4100\n",
      "\t\tMap output records=11493173\n",
      "\t\tMap output bytes=117732350\n",
      "\t\tMap output materialized bytes=140718801\n",
      "\t\tInput split bytes=228\n",
      "\t\tCombine input records=0\n",
      "\t\tCombine output records=0\n",
      "\t\tReduce input groups=373665\n",
      "\t\tReduce shuffle bytes=140718801\n",
      "\t\tReduce input records=11493173\n",
      "\t\tReduce output records=135179\n",
      "\t\tSpilled Records=34479519\n",
      "\t\tShuffled Maps =16\n",
      "\t\tFailed Shuffles=0\n",
      "\t\tMerged Map outputs=16\n",
      "\t\tGC time elapsed (ms)=976\n",
      "\t\tCPU time spent (ms)=101710\n",
      "\t\tPhysical memory (bytes) snapshot=2353324032\n",
      "\t\tVirtual memory (bytes) snapshot=20223021056\n",
      "\t\tTotal committed heap usage (bytes)=1568669696\n",
      "\tShuffle Errors\n",
      "\t\tBAD_ID=0\n",
      "\t\tCONNECTION=0\n",
      "\t\tIO_ERROR=0\n",
      "\t\tWRONG_LENGTH=0\n",
      "\t\tWRONG_MAP=0\n",
      "\t\tWRONG_REDUCE=0\n",
      "\tFile Input Format Counters \n",
      "\t\tBytes Read=76874273\n",
      "\tFile Output Format Counters \n",
      "\t\tBytes Written=1507457\n",
      "19/04/17 18:05:10 INFO streaming.StreamJob: Output directory: tmp_\n",
      "19/04/17 18:05:12 INFO client.RMProxy: Connecting to ResourceManager at /0.0.0.0:8032\n",
      "19/04/17 18:05:12 INFO client.RMProxy: Connecting to ResourceManager at /0.0.0.0:8032\n",
      "19/04/17 18:05:12 INFO mapred.FileInputFormat: Total input files to process : 8\n",
      "19/04/17 18:05:13 INFO mapreduce.JobSubmitter: number of splits:8\n",
      "19/04/17 18:05:13 INFO mapreduce.JobSubmitter: Submitting tokens for job: job_1555514672898_0005\n",
      "19/04/17 18:05:13 INFO impl.YarnClientImpl: Submitted application application_1555514672898_0005\n",
      "19/04/17 18:05:13 INFO mapreduce.Job: The url to track the job: http://91bfcd6a3d82:8088/proxy/application_1555514672898_0005/\n",
      "19/04/17 18:05:13 INFO mapreduce.Job: Running job: job_1555514672898_0005\n",
      "19/04/17 18:05:20 INFO mapreduce.Job: Job job_1555514672898_0005 running in uber mode : false\n",
      "19/04/17 18:05:20 INFO mapreduce.Job:  map 0% reduce 0%\n",
      "19/04/17 18:05:25 INFO mapreduce.Job:  map 50% reduce 0%\n",
      "19/04/17 18:05:26 INFO mapreduce.Job:  map 75% reduce 0%\n",
      "19/04/17 18:05:29 INFO mapreduce.Job:  map 100% reduce 0%\n",
      "19/04/17 18:05:31 INFO mapreduce.Job:  map 100% reduce 100%\n",
      "19/04/17 18:05:31 INFO mapreduce.Job: Job job_1555514672898_0005 completed successfully\n",
      "19/04/17 18:05:31 INFO mapreduce.Job: Counters: 49\n",
      "\tFile System Counters\n",
      "\t\tFILE: Number of bytes read=1777823\n",
      "\t\tFILE: Number of bytes written=4815588\n",
      "\t\tFILE: Number of read operations=0\n",
      "\t\tFILE: Number of large read operations=0\n",
      "\t\tFILE: Number of write operations=0\n",
      "\t\tHDFS: Number of bytes read=1508265\n",
      "\t\tHDFS: Number of bytes written=1507457\n",
      "\t\tHDFS: Number of read operations=27\n",
      "\t\tHDFS: Number of large read operations=0\n",
      "\t\tHDFS: Number of write operations=2\n",
      "\tJob Counters \n",
      "\t\tLaunched map tasks=8\n",
      "\t\tLaunched reduce tasks=1\n",
      "\t\tData-local map tasks=8\n",
      "\t\tTotal time spent by all maps in occupied slots (ms)=21906\n",
      "\t\tTotal time spent by all reduces in occupied slots (ms)=2729\n",
      "\t\tTotal time spent by all map tasks (ms)=21906\n",
      "\t\tTotal time spent by all reduce tasks (ms)=2729\n",
      "\t\tTotal vcore-milliseconds taken by all map tasks=21906\n",
      "\t\tTotal vcore-milliseconds taken by all reduce tasks=2729\n",
      "\t\tTotal megabyte-milliseconds taken by all map tasks=22431744\n",
      "\t\tTotal megabyte-milliseconds taken by all reduce tasks=2794496\n",
      "\tMap-Reduce Framework\n",
      "\t\tMap input records=135179\n",
      "\t\tMap output records=135179\n",
      "\t\tMap output bytes=1507458\n",
      "\t\tMap output materialized bytes=1777865\n",
      "\t\tInput split bytes=808\n",
      "\t\tCombine input records=0\n",
      "\t\tCombine output records=0\n",
      "\t\tReduce input groups=582\n",
      "\t\tReduce shuffle bytes=1777865\n",
      "\t\tReduce input records=135179\n",
      "\t\tReduce output records=135179\n",
      "\t\tSpilled Records=270358\n",
      "\t\tShuffled Maps =8\n",
      "\t\tFailed Shuffles=0\n",
      "\t\tMerged Map outputs=8\n",
      "\t\tGC time elapsed (ms)=943\n",
      "\t\tCPU time spent (ms)=11230\n",
      "\t\tPhysical memory (bytes) snapshot=2559356928\n",
      "\t\tVirtual memory (bytes) snapshot=18109743104\n",
      "\t\tTotal committed heap usage (bytes)=1752170496\n",
      "\tShuffle Errors\n",
      "\t\tBAD_ID=0\n",
      "\t\tCONNECTION=0\n",
      "\t\tIO_ERROR=0\n",
      "\t\tWRONG_LENGTH=0\n",
      "\t\tWRONG_MAP=0\n",
      "\t\tWRONG_REDUCE=0\n",
      "\tFile Input Format Counters \n",
      "\t\tBytes Read=1507457\n",
      "\tFile Output Format Counters \n",
      "\t\tBytes Written=1507457\n",
      "19/04/17 18:05:31 INFO streaming.StreamJob: Output directory: out_\n",
      "cat: Unable to write to output stream.\n"
     ]
    }
   ],
   "source": [
    "%%bash\n",
    "\n",
    "TMP_DIR=\"tmp_\"\n",
    "OUT_DIR=\"out_\"\n",
    "LOGS=\"logs.txt\"\n",
    "\n",
    "hdfs dfs -rm -r -skipTrash ${OUT_DIR}* > /dev/null\n",
    "hdfs dfs -rm -r -skipTrash ${TMP_DIR}* > /dev/null\n",
    "\n",
    "yarn jar /opt/cloudera/parcels/CDH/lib/hadoop-mapreduce/hadoop-streaming.jar \\\n",
    "    -D mapred.jab.name=\"NameCount Step1\" \\\n",
    "    -D mapreduce.job.reduces=8 \\\n",
    "    -files mapper1.py,reducer1.py \\\n",
    "    -mapper \"python mapper1.py\" \\\n",
    "    -reducer \"python reducer1.py\" \\\n",
    "    -input /data/wiki/en_articles_part \\\n",
    "    -output ${TMP_DIR} > /dev/null\n",
    "\n",
    "yarn jar /opt/cloudera/parcels/CDH/lib/hadoop-mapreduce/hadoop-streaming.jar \\\n",
    "    -D mapred.jab.name=\"NameCount Step2\" \\\n",
    "    -D mapreduce.job.reduces=1 \\\n",
    "    -D mapreduce.job.output.key.comparator.class=org.apache.hadoop.mapreduce.lib.partition.KeyFieldBasedComparator \\\n",
    "    -D mapreduce.partition.keycomparator.options=\"-nr\" \\\n",
    "    -files mapper2.py,reducer2.py \\\n",
    "    -mapper \"python mapper2.py\" \\\n",
    "    -reducer \"python reducer2.py\" \\\n",
    "    -input ${TMP_DIR} \\\n",
    "    -output ${OUT_DIR} > /dev/null\n",
    "    \n",
    "hdfs dfs -cat \"out_/*\" | head -5 | tail -1"
   ]
  }
 ],
 "metadata": {
  "kernelspec": {
   "display_name": "Python 2",
   "language": "python",
   "name": "python2"
  },
  "language_info": {
   "codemirror_mode": {
    "name": "ipython",
    "version": 2
   },
   "file_extension": ".py",
   "mimetype": "text/x-python",
   "name": "python",
   "nbconvert_exporter": "python",
   "pygments_lexer": "ipython2",
   "version": "2.7.12"
  }
 },
 "nbformat": 4,
 "nbformat_minor": 2
}
