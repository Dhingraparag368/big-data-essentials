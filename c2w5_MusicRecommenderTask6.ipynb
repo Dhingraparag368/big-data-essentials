{
 "cells": [
  {
   "cell_type": "markdown",
   "metadata": {},
   "source": [
    "# Graph based Music Recommender. Task 6\n",
    "For the user with Id 776748 print top-40 recommended tracks. Build music recommendations with the algorithm described in the lesson 3 of the fifth week. Initialize coordinates of vector x_0 corresponding to the user’s vertex and all the vertices from the task 5 with ones and all other coordinates with zeros. Do 5 iterations:\n",
    "\n",
    "<pre>img</pre>\n",
    "\n",
    "Take alpha = 0.15. and the next balancing functions:\n",
    "\n",
    "* beta(user, user → artist) = 0.5\n",
    "* beta(user, user → track) = 0.5\n",
    "* beta(track, track → track) = 1\n",
    "* beta(artist, artist → track) = 1\n",
    "\n",
    "You should receive a table with 3 columns: “name”, “artist” and “rank”. Sort the resulting dataframe in descending order by “rank”, select top 40 recommended tracks, select only the columns “name”, “artist” and “rank”, leave 5 digits after the decimal point in “rank” and print the resulting dataframe.\n",
    "\n",
    "<code>\n",
    "...\n",
    "Prayer Of The Refugee Artist: Rise Against 1.35278102029\n",
    "Eagle Artist: Gotthard 1.21412311013\n",
    "21 Guns Artist: Green Day 1.17301653219\n",
    "Wait And Bleed Artist: Slipknot 0.921552328559\n",
    "Beautiful disaster Artist: 311 0.921552328559\n",
    "...\n",
    "</code>"
   ]
  },
  {
   "cell_type": "markdown",
   "metadata": {},
   "source": [
    "## Data description\n",
    "There are two data sources for this assignment. They are DataFrames in parquet format.\n",
    "\n",
    "The first dataset captures the user’s playing history.\n",
    "\n",
    "Location - /data/sample264\n",
    "\n",
    "Fields: trackId, userId, timestamp, artistId\n",
    "\n",
    "* trackId - id of the track\n",
    "* userId - id of the user\n",
    "* artistId - id of the artist\n",
    "* timestamp - timestamp of the moment the user starts listening to a track\n",
    "\n",
    "The second is the meta data for track or artist.\n",
    "\n",
    "Location - /data/meta\n",
    "\n",
    "Fields: type, Name, Artist, Id\n",
    "\n",
    "* Type could be “track” or “artist”\n",
    "* Name is the title of the track, if the type == “track” and the name of the musician or group, if the type == “artist”.\n",
    "* Artist states for the creator of the track in case the type == “track” and for the name of the musician or group in case the type == “artist”.\n",
    "* Id - id of the item"
   ]
  },
  {
   "cell_type": "code",
   "execution_count": 1,
   "metadata": {},
   "outputs": [],
   "source": [
    "from pyspark.sql import SparkSession\n",
    "sparkSession = SparkSession.builder.enableHiveSupport().master(\"local\").getOrCreate()"
   ]
  },
  {
   "cell_type": "code",
   "execution_count": 2,
   "metadata": {},
   "outputs": [],
   "source": [
    "data = sparkSession.read.parquet(\"/data/sample264\")\n",
    "meta = sparkSession.read.parquet(\"/data/meta\")"
   ]
  },
  {
   "cell_type": "code",
   "execution_count": 3,
   "metadata": {},
   "outputs": [],
   "source": [
    "from pyspark.sql import Window\n",
    "import pyspark.sql.functions as f"
   ]
  },
  {
   "cell_type": "code",
   "execution_count": 4,
   "metadata": {},
   "outputs": [],
   "source": [
    "def normalize(df, key1, key2, field, n):    \n",
    "    window = Window.partitionBy(key1).orderBy(f.col(field).desc())\n",
    "    topsDF = df.withColumn(\"row_number\", f.row_number().over(window)) \\\n",
    "        .filter(f.col(\"row_number\") <= n) \\\n",
    "        .drop(f.col(\"row_number\"))\n",
    "    tmpDF = topsDF.groupBy(f.col(key1)).agg(f.col(key1), f.sum(f.col(field)).alias(\"sum_\" + field))\n",
    "    normalizedDF = topsDF.join(tmpDF, key1, \"inner\") \\\n",
    "        .withColumn(\"norm_\" + field, f.col(field) / f.col(\"sum_\" + field))\n",
    "    return normalizedDF"
   ]
  },
  {
   "cell_type": "code",
   "execution_count": 5,
   "metadata": {},
   "outputs": [],
   "source": [
    "# users, tracks and artists have different sets of ids => edge type is redundant\n",
    "\n",
    "def track_track():\n",
    "    A = data.select('userId', f.col('trackId').alias('track1'), f.col('timestamp').alias('ts1'))\n",
    "    B = data.select('userId',f.col('trackId').alias('track2'), f.col('timestamp').alias('ts2'))\n",
    "    AB = A.join(B, on=['userId']) \\\n",
    "        .filter((A['track1'] != B['track2']) & (f.abs(A['ts1']-B['ts2']) <= 7*60)) \\\n",
    "        .groupBy('track1', 'track2') \\\n",
    "        .agg(f.count(\"*\").alias('count')) \\\n",
    "        .cache()\n",
    "    df = normalize(AB, 'track1', 'track2', 'count', 1000) \\\n",
    "        .select(\n",
    "            f.col('track1').alias('from'), \n",
    "            f.col('track2').alias('to'), \n",
    "            f.col('norm_count').alias('prob')) \\\n",
    "        .cache()\n",
    "    return df\n",
    "\n",
    "def user_track():\n",
    "    X = data.select('userId', 'trackId').groupBy('userId', 'trackId').agg(f.count(\"*\").alias('count')).cache()\n",
    "    df = normalize(X, 'userId', 'trackId', 'count', 1000) \\\n",
    "        .select(\n",
    "            f.col('userId').alias('from'), \n",
    "            f.col('trackId').alias('to'), \n",
    "            (f.col('norm_count') * 0.5).alias('prob') # beta user->track\n",
    "        ) \\\n",
    "        .cache()\n",
    "    return df\n",
    "\n",
    "def user_artist():\n",
    "    X = data.select('userId', 'artistId').groupBy('userId', 'artistId').agg(f.count(\"*\").alias('count')).cache()\n",
    "    df = normalize(X, 'userId', 'artistId', 'count', 1000) \\\n",
    "        .select(\n",
    "            f.col('userId').alias('from'), \n",
    "            f.col('artistId').alias('to'), \n",
    "            (f.col('norm_count') * 0.5).alias('prob') # beta user->artist\n",
    "        ) \\\n",
    "        .cache()\n",
    "    return df\n",
    "\n",
    "def artist_track():\n",
    "    X = data.select('artistId', 'trackId').groupBy('artistId', 'trackId').agg(f.count(\"*\").alias('count')).cache()\n",
    "    df = normalize(X, 'artistId', 'trackId', 'count', 1000) \\\n",
    "        .select(\n",
    "            f.col('artistId').alias('from'), \n",
    "            f.col('trackId').alias('to'), \n",
    "            f.col('norm_count').alias('prob')) \\\n",
    "        .cache()\n",
    "    return df"
   ]
  },
  {
   "cell_type": "code",
   "execution_count": 6,
   "metadata": {},
   "outputs": [],
   "source": [
    "# edges\n",
    "E = track_track() \\\n",
    "    .union(user_track()) \\\n",
    "    .union(user_artist()) \\\n",
    "    .union(artist_track()) \\\n",
    "    .cache()"
   ]
  },
  {
   "cell_type": "code",
   "execution_count": 7,
   "metadata": {},
   "outputs": [],
   "source": [
    "userId = 776748\n",
    "\n",
    "def users():\n",
    "    users = data.select('userId').distinct() \\\n",
    "        .select(\n",
    "            f.col('userId').alias('id'), \n",
    "            f.when(f.col('userId') == userId, 1.0).otherwise(0.0).alias('rank'))\n",
    "    return users\n",
    "\n",
    "def tracks():\n",
    "    user_tracks = data.filter(f.col('userId') == userId).select('trackId', f.lit(1).alias('aux')).distinct()\n",
    "    tracks = data.select('trackId').distinct() \\\n",
    "        .join(user_tracks, on=['trackId'], how='left') \\\n",
    "        .select(\n",
    "            f.col('trackId').alias('id'), \n",
    "            f.when(f.col('aux').isNotNull(), 1.0).otherwise(0.0).alias('rank'))\n",
    "    return tracks\n",
    "\n",
    "def artists():\n",
    "    user_artsts = data.filter(f.col('userId') == userId).select('artistId', f.lit(1).alias('aux')).distinct()\n",
    "    artists = data.select('artistId').distinct() \\\n",
    "        .join(user_artsts, on=['artistId'], how='left') \\\n",
    "        .select(\n",
    "            f.col('artistId').alias('id'), \n",
    "            f.when(f.col('aux').isNotNull(), 1.0).otherwise(0.0).alias('rank'))\n",
    "    return artists"
   ]
  },
  {
   "cell_type": "code",
   "execution_count": 8,
   "metadata": {},
   "outputs": [],
   "source": [
    "# vertices\n",
    "X = users() \\\n",
    "    .union(tracks()) \\\n",
    "    .union(artists()) \\\n",
    "    .cache()"
   ]
  },
  {
   "cell_type": "code",
   "execution_count": null,
   "metadata": {},
   "outputs": [],
   "source": [
    "# [0,0...0,1,0...0,0]\n",
    "U = X.select('id', f.when(f.col('id') == userId, 1.0).otherwise(0.0).alias('u')).cache()\n",
    "\n",
    "for _ in range(5):\n",
    "    # summ of incomes from outgoing vertices (sigma)\n",
    "    S = X.join(E, X['id']==E['from'], how='left') \\\n",
    "        .na.fill(0.0, ['prob']) \\\n",
    "        .select('to', (f.col('prob') * f.col('rank')).alias('val')) \\\n",
    "        .groupBy(f.col('to').alias('id')).agg(f.sum('val').alias('sum'))\n",
    "\n",
    "    # x1 = next(x0)\n",
    "    X = U.join(S, on=['id'], how='left') \\\n",
    "        .na.fill(0.0, ['sum']) \\\n",
    "        .select('id', ((0.15 * f.col('u')) + (0.85 * f.col('sum'))).alias('rank')) \\\n",
    "        .cache()"
   ]
  },
  {
   "cell_type": "code",
   "execution_count": null,
   "metadata": {},
   "outputs": [
    {
     "name": "stdout",
     "output_type": "stream",
     "text": [
      "Kill The DJ Artist: Green Day 1.42809\n",
      "Come Out and Play Artist: The Offspring 1.37473\n",
      "I Hate Everything About You Artist: Three Days Grace 1.37362\n",
      "Prayer Of The Refugee Artist: Rise Against 1.35278\n",
      "Eagle Artist: Gotthard 1.21412\n",
      "21 Guns Artist: Green Day 1.17302\n",
      "Beautiful disaster Artist: 311 0.92155\n",
      "Wait And Bleed Artist: Slipknot 0.92155\n",
      "Here To Stay Artist: Korn 0.91653\n",
      "Hard Rock Hallelujah Artist: Lordi 0.91653\n",
      "Nothing Going On Artist: Clawfinger 0.80983\n",
      "Numb Artist: Linkin Park 0.80292\n",
      "In The End Artist: Linkin Park 0.80292\n",
      "Kryptonite Artist: 3 Doors Down 0.68799\n",
      "Sky is Over Artist: Serj Tankian 0.68799\n",
      "Take It Out On Me Artist: Thousand Foot Krutch 0.47024\n",
      "Girls and Boys Artist: Blur 0.40245\n",
      "Cocaine Artist: Nomy 0.20893\n",
      "Getting Away With Murder Artist: Papa Roach 0.20648\n",
      "Artist: Green Day Artist: Green Day 0.01181\n",
      "Artist: Linkin Park Artist: Linkin Park 0.00472\n",
      "Artist: The Offspring Artist: The Offspring 0.00472\n",
      "Artist: Clawfinger Artist: Clawfinger 0.00472\n",
      "She Keeps Me Up Artist: Nickelback 0.00437\n",
      "The Vengeful One Artist: Disturbed 0.00437\n",
      "Sunday Artist: Iggy Pop 0.00437\n",
      "Artist: Blur Artist: Blur 0.00236\n",
      "Artist: 311 Artist: 311 0.00236\n",
      "Artist: Gotthard Artist: Gotthard 0.00236\n",
      "Artist: Korn Artist: Korn 0.00236\n",
      "Artist: Thousand Foot Krutch Artist: Thousand Foot Krutch 0.00236\n",
      "Artist: Papa Roach Artist: Papa Roach 0.00236\n",
      "Artist: Three Days Grace Artist: Three Days Grace 0.00236\n",
      "Artist: Nomy Artist: Nomy 0.00236\n",
      "Artist: Rise Against Artist: Rise Against 0.00236\n",
      "Artist: Nickelback Artist: Nickelback 0.00236\n",
      "Artist: Serj Tankian Artist: Serj Tankian 0.00236\n",
      "Artist: Disturbed Artist: Disturbed 0.00236\n",
      "Artist: 3 Doors Down Artist: 3 Doors Down 0.00236\n",
      "Artist: Lordi Artist: Lordi 0.00236\n"
     ]
    }
   ],
   "source": [
    "# top 40 tracks = top 40 track and artists\n",
    "recommendations = X.join(meta, on=['id'], how='inner') \\\n",
    "    .select('Name', 'Artist', f.round(f.col('rank'), 5).alias('rank')) \\\n",
    "    .orderBy(f.desc('rank'))\n",
    "\n",
    "for name, artist, rank in recommendations.take(40):\n",
    "    print(\"{} {} {}\".format(name, artist, rank))"
   ]
  },
  {
   "cell_type": "code",
   "execution_count": null,
   "metadata": {},
   "outputs": [],
   "source": []
  }
 ],
 "metadata": {
  "kernelspec": {
   "display_name": "Python 2",
   "language": "python",
   "name": "python2"
  },
  "language_info": {
   "codemirror_mode": {
    "name": "ipython",
    "version": 2
   },
   "file_extension": ".py",
   "mimetype": "text/x-python",
   "name": "python",
   "nbconvert_exporter": "python",
   "pygments_lexer": "ipython2",
   "version": "2.7.12"
  }
 },
 "nbformat": 4,
 "nbformat_minor": 2
}
