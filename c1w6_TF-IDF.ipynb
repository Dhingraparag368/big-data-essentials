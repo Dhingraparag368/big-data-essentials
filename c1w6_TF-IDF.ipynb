{
 "cells": [
  {
   "cell_type": "markdown",
   "metadata": {},
   "source": [
    "# Real-World Applications: TF-IDF\n",
    "In this task Hadoop Streaming is used to process Wikipedia articles dump (/data/wiki/en_articles_part).\n",
    "\n",
    "The purpose of this task is to calculate <code>tf*idf</code> for each pair (word, article) from the Wikipedia dump. Apply the stop words filter to speed up calculations. Term frequency (tf) is a function depending on a term (word) and a document (article):\n",
    "\n",
    "<code>tf(term, doc_id) = Nt/N</code>,\n",
    "\n",
    "where Nt - quantity of particular term in the document, N - the total number of terms in the document (without stop words)\n",
    "\n",
    "Inverse document frequency (idf) is a function depends on a term:\n",
    "\n",
    "<code>idf(term) = 1/log(1 + Dt)</code>,\n",
    "\n",
    "where Dt - number of documents in the dataset with the particular term.\n",
    "\n",
    "You can find more information here: https://en.wikipedia.xn--org/wiki/Tfidf-q82h but use just the formulas mentioned above.\n",
    "\n",
    "Dataset location: /data/wiki/en_articles_part\n",
    "\n",
    "Stop words list is in ‘/datasets/stop_words_en.txt’ file.\n",
    "\n",
    "Format: article_id <i>tab</i> article_text\n",
    "\n",
    "To parse the articles don’t forget about Unicode (even though this is an English Wikipedia dump, there are many characters from other languages), remove punctuation marks and transform words to lowercase to get the correct quantities. To cope with Unicode we recommend to use the following tokenizer:\n",
    "\n",
    "Output: <code>tf*idf</code> for term=’labor’ and article_id=12\n",
    "\n",
    "The result on the sample dataset:\n",
    "\n",
    "<code>0.000351</code>"
   ]
  },
  {
   "cell_type": "code",
   "execution_count": 1,
   "metadata": {},
   "outputs": [
    {
     "name": "stdout",
     "output_type": "stream",
     "text": [
      "Overwriting test.dat\n"
     ]
    }
   ],
   "source": [
    "%%writefile test.dat\n",
    "\n",
    "1\tIn this task Hadoop Streaming is used to process Wikipedia articles dump calculations.\n",
    "2\tThe purpose of this task is to calculate tf*idf for each pair (word, article) from the Wikipedia dump calculations.\n",
    "3\tApply the stop words filter to speed up calculations calculations calculations calculations calculations. \n",
    "4\tTerm frequency (tf) is a function depending on a term (word) and a document (article)\n",
    "5\tTo parse the articles don’t forget about Unicode (even though this is an English Wikipedia dump, there are many characters from other languages), remove punctuation marks and transform words to lowercase to get the correct quantities."
   ]
  },
  {
   "cell_type": "code",
   "execution_count": 2,
   "metadata": {},
   "outputs": [],
   "source": [
    "%%bash\n",
    "cp '/datasets/stop_words_en.txt' 'stop_words_en.txt'"
   ]
  },
  {
   "cell_type": "code",
   "execution_count": 3,
   "metadata": {},
   "outputs": [
    {
     "name": "stdout",
     "output_type": "stream",
     "text": [
      "Overwriting mapper1.py\n"
     ]
    }
   ],
   "source": [
    "%%writefile mapper1.py\n",
    "\n",
    "import sys\n",
    "import re\n",
    "\n",
    "reload(sys)\n",
    "sys.setdefaultencoding('utf-8')\n",
    "\n",
    "with open('stop_words_en.txt', \"r\") as f:\n",
    "    stop_words = set(f.read().splitlines())\n",
    "    \n",
    "for line in sys.stdin:\n",
    "    try:\n",
    "        article_id, text = unicode(line.strip()).split('\\t', 1)\n",
    "    except ValueError as e:\n",
    "        continue\n",
    "\n",
    "    text= re.sub(\"^\\W+|\\W+$\", \"\", text, flags=re.UNICODE)\n",
    "    text = re.split(\"\\W*\\s+\\W*\", text, flags=re.UNICODE)   \n",
    "    \n",
    "    counter = dict()\n",
    "    for w in text:\n",
    "        w = w.lower()\n",
    "        if w in stop_words:\n",
    "            continue\n",
    "            \n",
    "        if w in counter:\n",
    "            counter[w] += 1\n",
    "        else:\n",
    "            counter[w] = 1\n",
    "    \n",
    "    total = sum(counter.values())\n",
    "    for term, cnt in counter.iteritems():\n",
    "        print \"%s\\t%s\\t%f\" % (term, article_id, float(cnt)/total) "
   ]
  },
  {
   "cell_type": "code",
   "execution_count": 4,
   "metadata": {},
   "outputs": [
    {
     "name": "stdout",
     "output_type": "stream",
     "text": [
      "transform\t5\t0.055556\r\n",
      "unicode\t5\t0.055556\r\n",
      "used\t1\t0.111111\r\n",
      "wikipedia\t1\t0.111111\r\n",
      "wikipedia\t2\t0.100000\r\n",
      "wikipedia\t5\t0.055556\r\n",
      "word\t2\t0.100000\r\n",
      "word\t4\t0.111111\r\n",
      "words\t3\t0.100000\r\n",
      "words\t5\t0.055556\r\n"
     ]
    }
   ],
   "source": [
    "cat test.dat | python2 ./mapper1.py | sort | tail"
   ]
  },
  {
   "cell_type": "code",
   "execution_count": 5,
   "metadata": {},
   "outputs": [
    {
     "name": "stdout",
     "output_type": "stream",
     "text": [
      "Overwriting reducer1.py\n"
     ]
    }
   ],
   "source": [
    "%%writefile reducer1.py\n",
    "\n",
    "import sys\n",
    "from math import log\n",
    "\n",
    "current_key = None\n",
    "cache = dict() # TODO avoid in-memory collection\n",
    "\n",
    "def process_record(term, cache):\n",
    "    idf = 1/log(1+len(cache))\n",
    "    for article_id, tf in cache.iteritems():\n",
    "        print \"%s\\t%d\\t%f\" % (term, article_id, tf*idf)\n",
    "\n",
    "for line in sys.stdin:\n",
    "    try:\n",
    "        term, article_id, tf = line.strip().split('\\t', 2)\n",
    "        article_id = int(article_id)\n",
    "        tf = float(tf)\n",
    "    except ValueError as e:\n",
    "        continue\n",
    "        \n",
    "    if current_key != term:\n",
    "        if current_key:            \n",
    "            process_record(current_key, cache)\n",
    "        current_key = term\n",
    "        cache.clear()\n",
    "    cache[article_id] = tf\n",
    "    \n",
    "if current_key:\n",
    "    process_record(current_key, cache)"
   ]
  },
  {
   "cell_type": "code",
   "execution_count": 6,
   "metadata": {},
   "outputs": [
    {
     "name": "stdout",
     "output_type": "stream",
     "text": [
      "transform\t5\t0.080150\r\n",
      "unicode\t5\t0.080150\r\n",
      "used\t1\t0.160299\r\n",
      "wikipedia\t1\t0.080150\r\n",
      "wikipedia\t2\t0.072135\r\n",
      "wikipedia\t5\t0.040075\r\n",
      "word\t2\t0.091024\r\n",
      "word\t4\t0.101138\r\n",
      "words\t3\t0.091024\r\n",
      "words\t5\t0.050569\r\n"
     ]
    }
   ],
   "source": [
    "cat test.dat | python2 ./mapper1.py | sort | python2 ./reducer1.py | tail"
   ]
  },
  {
   "cell_type": "code",
   "execution_count": 7,
   "metadata": {},
   "outputs": [
    {
     "name": "stdout",
     "output_type": "stream",
     "text": [
      "0.000351\n"
     ]
    },
    {
     "name": "stderr",
     "output_type": "stream",
     "text": [
      "19/04/30 16:07:29 INFO client.RMProxy: Connecting to ResourceManager at /0.0.0.0:8032\n",
      "19/04/30 16:07:29 INFO client.RMProxy: Connecting to ResourceManager at /0.0.0.0:8032\n",
      "19/04/30 16:07:30 INFO mapred.FileInputFormat: Total input files to process : 1\n",
      "19/04/30 16:07:30 INFO mapreduce.JobSubmitter: number of splits:2\n",
      "19/04/30 16:07:30 INFO mapreduce.JobSubmitter: Submitting tokens for job: job_1556631347566_0018\n",
      "19/04/30 16:07:31 INFO impl.YarnClientImpl: Submitted application application_1556631347566_0018\n",
      "19/04/30 16:07:31 INFO mapreduce.Job: The url to track the job: http://fd5b2ddce85e:8088/proxy/application_1556631347566_0018/\n",
      "19/04/30 16:07:31 INFO mapreduce.Job: Running job: job_1556631347566_0018\n",
      "19/04/30 16:07:37 INFO mapreduce.Job: Job job_1556631347566_0018 running in uber mode : false\n",
      "19/04/30 16:07:37 INFO mapreduce.Job:  map 0% reduce 0%\n",
      "19/04/30 16:07:53 INFO mapreduce.Job:  map 67% reduce 0%\n",
      "19/04/30 16:07:55 INFO mapreduce.Job:  map 83% reduce 0%\n",
      "19/04/30 16:07:56 INFO mapreduce.Job:  map 100% reduce 0%\n",
      "19/04/30 16:08:04 INFO mapreduce.Job:  map 100% reduce 25%\n",
      "19/04/30 16:08:06 INFO mapreduce.Job:  map 100% reduce 75%\n",
      "19/04/30 16:08:07 INFO mapreduce.Job:  map 100% reduce 100%\n",
      "19/04/30 16:08:07 INFO mapreduce.Job: Job job_1556631347566_0018 completed successfully\n",
      "19/04/30 16:08:07 INFO mapreduce.Job: Counters: 50\n",
      "\tFile System Counters\n",
      "\t\tFILE: Number of bytes read=83696834\n",
      "\t\tFILE: Number of bytes written=168233304\n",
      "\t\tFILE: Number of read operations=0\n",
      "\t\tFILE: Number of large read operations=0\n",
      "\t\tFILE: Number of write operations=0\n",
      "\t\tHDFS: Number of bytes read=76874501\n",
      "\t\tHDFS: Number of bytes written=76752215\n",
      "\t\tHDFS: Number of read operations=18\n",
      "\t\tHDFS: Number of large read operations=0\n",
      "\t\tHDFS: Number of write operations=8\n",
      "\tJob Counters \n",
      "\t\tKilled reduce tasks=1\n",
      "\t\tLaunched map tasks=2\n",
      "\t\tLaunched reduce tasks=4\n",
      "\t\tData-local map tasks=2\n",
      "\t\tTotal time spent by all maps in occupied slots (ms)=32438\n",
      "\t\tTotal time spent by all reduces in occupied slots (ms)=27450\n",
      "\t\tTotal time spent by all map tasks (ms)=32438\n",
      "\t\tTotal time spent by all reduce tasks (ms)=27450\n",
      "\t\tTotal vcore-milliseconds taken by all map tasks=32438\n",
      "\t\tTotal vcore-milliseconds taken by all reduce tasks=27450\n",
      "\t\tTotal megabyte-milliseconds taken by all map tasks=33216512\n",
      "\t\tTotal megabyte-milliseconds taken by all reduce tasks=28108800\n",
      "\tMap-Reduce Framework\n",
      "\t\tMap input records=4100\n",
      "\t\tMap output records=3472288\n",
      "\t\tMap output bytes=76752224\n",
      "\t\tMap output materialized bytes=83696858\n",
      "\t\tInput split bytes=228\n",
      "\t\tCombine input records=0\n",
      "\t\tCombine output records=0\n",
      "\t\tReduce input groups=426241\n",
      "\t\tReduce shuffle bytes=83696858\n",
      "\t\tReduce input records=3472288\n",
      "\t\tReduce output records=3472288\n",
      "\t\tSpilled Records=6944576\n",
      "\t\tShuffled Maps =8\n",
      "\t\tFailed Shuffles=0\n",
      "\t\tMerged Map outputs=8\n",
      "\t\tGC time elapsed (ms)=585\n",
      "\t\tCPU time spent (ms)=30360\n",
      "\t\tPhysical memory (bytes) snapshot=1404727296\n",
      "\t\tVirtual memory (bytes) snapshot=12120932352\n",
      "\t\tTotal committed heap usage (bytes)=985137152\n",
      "\tShuffle Errors\n",
      "\t\tBAD_ID=0\n",
      "\t\tCONNECTION=0\n",
      "\t\tIO_ERROR=0\n",
      "\t\tWRONG_LENGTH=0\n",
      "\t\tWRONG_MAP=0\n",
      "\t\tWRONG_REDUCE=0\n",
      "\tFile Input Format Counters \n",
      "\t\tBytes Read=76874273\n",
      "\tFile Output Format Counters \n",
      "\t\tBytes Written=76752215\n",
      "19/04/30 16:08:07 INFO streaming.StreamJob: Output directory: out_\n"
     ]
    }
   ],
   "source": [
    "%%bash\n",
    "\n",
    "OUT_DIR=\"out_\"\n",
    "\n",
    "hdfs dfs -rm -r -skipTrash ${OUT_DIR} > /dev/null\n",
    "\n",
    "yarn jar /opt/cloudera/parcels/CDH/lib/hadoop-mapreduce/hadoop-streaming.jar \\\n",
    "    -D mapred.jab.name=\"Streaming TF-IDF\" \\\n",
    "    -D mapreduce.job.reduces=4 \\\n",
    "    -files mapper1.py,reducer1.py,/datasets/stop_words_en.txt \\\n",
    "    -mapper \"python mapper1.py\" \\\n",
    "    -reducer \"python reducer1.py\" \\\n",
    "    -input /data/wiki/en_articles_part \\\n",
    "    -output ${OUT_DIR} > /dev/null\n",
    "\n",
    "hdfs dfs -cat ${OUT_DIR}/* |  grep -P 'labor\\t12\\t' | cut -f3"
   ]
  },
  {
   "cell_type": "code",
   "execution_count": null,
   "metadata": {},
   "outputs": [],
   "source": []
  }
 ],
 "metadata": {
  "kernelspec": {
   "display_name": "Python 2",
   "language": "python",
   "name": "python2"
  },
  "language_info": {
   "codemirror_mode": {
    "name": "ipython",
    "version": 2
   },
   "file_extension": ".py",
   "mimetype": "text/x-python",
   "name": "python",
   "nbconvert_exporter": "python",
   "pygments_lexer": "ipython2",
   "version": "2.7.12"
  }
 },
 "nbformat": 4,
 "nbformat_minor": 2
}
