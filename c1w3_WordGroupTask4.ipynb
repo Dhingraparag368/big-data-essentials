{
 "cells": [
  {
   "cell_type": "markdown",
   "metadata": {},
   "source": [
    "# Hadoop Streaming assignment 4: Word Groups\n",
    "\n",
    "Calculate statistics for groups of words which are equal up to permutations of letters. For example, ‘emit’, ‘item’ and ‘time’ are the same words up to a permutation of letters. Determine such groups of words and sum all their counts. Apply stop words filter. Filter out groups that consist of only one word.\n",
    "\n",
    "Output: count of occurrences for the group of words, number of unique words in the group, comma-separated list of the words in the group in lexicographical order:\n",
    "\n",
    "<code>sum <tab> group size <tab> word1,word2,...</code>\n",
    "\n",
    "Example: assume ‘emit’ occurred 3 times, 'item' -- 2 times, 'time' -- 5 times; 3 + 2 + 5 = 10, group contains 3 words, so for this group result is:\n",
    "\n",
    "10 3 emit,item,time\n",
    "\n",
    "The result of the task is the output line with word ‘english’.\n",
    "\n",
    "The result on the sample dataset:\n",
    "\n",
    "<code>7823    eghilns 5   english,helsing,hesling,shengli,shingle</code>\n",
    "\n",
    "NB: Do not forget about the lexicographical order of words in the group: 'emit,item,time' is OK, 'emit,time,item' is not."
   ]
  },
  {
   "cell_type": "code",
   "execution_count": 1,
   "metadata": {},
   "outputs": [
    {
     "name": "stdout",
     "output_type": "stream",
     "text": [
      "Overwriting test.dat\n"
     ]
    }
   ],
   "source": [
    "%%writefile test.dat\n",
    "\n",
    "1\tEmit occurred 3 times emit emiT, item 2 times item, time 5 times time time Time Time; \n",
    "2\tCalculate statistics for groups of words which are equal up to permutations of letters.\n",
    "3\tenglish, helsing, hesling, shengli, shingle"
   ]
  },
  {
   "cell_type": "code",
   "execution_count": 2,
   "metadata": {},
   "outputs": [
    {
     "name": "stdout",
     "output_type": "stream",
     "text": [
      "Overwriting mapper1.py\n"
     ]
    }
   ],
   "source": [
    "%%writefile mapper1.py\n",
    "\n",
    "import sys\n",
    "import re\n",
    "\n",
    "reload(sys)\n",
    "sys.setdefaultencoding('utf-8')\n",
    "\n",
    "for line in sys.stdin:\n",
    "    try:\n",
    "        article_id, text = unicode(line.strip()).split('\\t', 1)\n",
    "    except ValueError as e:\n",
    "        continue\n",
    "    text = re.sub(\"^\\W+|\\W+$\", \"\", text, flags=re.UNICODE)\n",
    "    words = re.split(\"\\W*\\s+\\W*\", text, flags=re.UNICODE)\n",
    "    \n",
    "    for word in words:\n",
    "        word = word.lower()        \n",
    "        if len(word) < 2:\n",
    "            continue        \n",
    "        permutation = ''.join(sorted(word))\n",
    "        print \"%s\\t%s\\t%d\" % (permutation, word, 1)"
   ]
  },
  {
   "cell_type": "code",
   "execution_count": 3,
   "metadata": {},
   "outputs": [
    {
     "name": "stdout",
     "output_type": "stream",
     "text": [
      "aaccelltu\tcalculate\t1\r\n",
      "aciisssttt\tstatistics\t1\r\n",
      "aeimnoprsttu\tpermutations\t1\r\n",
      "aelqu\tequal\t1\r\n",
      "aer\tare\t1\r\n",
      "ccdeorru\toccurred\t1\r\n",
      "chhiw\twhich\t1\r\n",
      "dorsw\twords\t1\r\n",
      "eelrstt\tletters\t1\r\n",
      "eghilns\tenglish\t1\r\n",
      "eghilns\thelsing\t1\r\n",
      "eghilns\thesling\t1\r\n",
      "eghilns\tshengli\t1\r\n",
      "eghilns\tshingle\t1\r\n",
      "eimst\ttimes\t1\r\n",
      "eimst\ttimes\t1\r\n",
      "eimst\ttimes\t1\r\n",
      "eimt\temit\t1\r\n",
      "eimt\temit\t1\r\n",
      "eimt\temit\t1\r\n",
      "eimt\titem\t1\r\n",
      "eimt\titem\t1\r\n",
      "eimt\ttime\t1\r\n",
      "eimt\ttime\t1\r\n",
      "eimt\ttime\t1\r\n",
      "eimt\ttime\t1\r\n",
      "eimt\ttime\t1\r\n",
      "fo\tof\t1\r\n",
      "fo\tof\t1\r\n",
      "for\tfor\t1\r\n",
      "goprsu\tgroups\t1\r\n",
      "ot\tto\t1\r\n",
      "pu\tup\t1\r\n"
     ]
    }
   ],
   "source": [
    "cat test.dat | python2 ./mapper1.py | sort"
   ]
  },
  {
   "cell_type": "code",
   "execution_count": 4,
   "metadata": {},
   "outputs": [
    {
     "name": "stdout",
     "output_type": "stream",
     "text": [
      "Overwriting combiner1.py\n"
     ]
    }
   ],
   "source": [
    "%%writefile combiner1.py\n",
    "\n",
    "import sys\n",
    "\n",
    "current_key=None\n",
    "current_permutation=None\n",
    "key_sum = 0  \n",
    "\n",
    "for line in sys.stdin:\n",
    "    try:\n",
    "        permutation, word, count = line.strip().split('\\t', 2)\n",
    "        count = int(count)\n",
    "    except ValueError as e:\n",
    "        continue\n",
    "    \n",
    "    if current_key != word:        \n",
    "        if current_key:\n",
    "            print \"%s\\t%s\\t%d\" % (current_permutation, current_key, key_sum)\n",
    "        current_key = word\n",
    "        current_permutation = permutation\n",
    "        key_sum = 0       \n",
    "    key_sum += count\n",
    "\n",
    "if current_key:\n",
    "    print \"%s\\t%s\\t%d\" % (current_permutation, current_key, key_sum)"
   ]
  },
  {
   "cell_type": "code",
   "execution_count": 5,
   "metadata": {},
   "outputs": [
    {
     "name": "stdout",
     "output_type": "stream",
     "text": [
      "aaccelltu\tcalculate\t1\r\n",
      "aciisssttt\tstatistics\t1\r\n",
      "aeimnoprsttu\tpermutations\t1\r\n",
      "aelqu\tequal\t1\r\n",
      "aer\tare\t1\r\n",
      "ccdeorru\toccurred\t1\r\n",
      "chhiw\twhich\t1\r\n",
      "dorsw\twords\t1\r\n",
      "eelrstt\tletters\t1\r\n",
      "eghilns\tenglish\t1\r\n",
      "eghilns\thelsing\t1\r\n",
      "eghilns\thesling\t1\r\n",
      "eghilns\tshengli\t1\r\n",
      "eghilns\tshingle\t1\r\n",
      "eimst\ttimes\t3\r\n",
      "eimt\temit\t3\r\n",
      "eimt\titem\t2\r\n",
      "eimt\ttime\t5\r\n",
      "fo\tof\t2\r\n",
      "for\tfor\t1\r\n",
      "goprsu\tgroups\t1\r\n",
      "ot\tto\t1\r\n",
      "pu\tup\t1\r\n"
     ]
    }
   ],
   "source": [
    "cat test.dat | python2 ./mapper1.py | sort | python2 ./combiner1.py"
   ]
  },
  {
   "cell_type": "code",
   "execution_count": 6,
   "metadata": {},
   "outputs": [
    {
     "name": "stdout",
     "output_type": "stream",
     "text": [
      "Overwriting reducer1.py\n"
     ]
    }
   ],
   "source": [
    "%%writefile reducer1.py\n",
    "\n",
    "import sys\n",
    "\n",
    "current_key=None\n",
    "key_sum = 0\n",
    "words = set()\n",
    "\n",
    "for line in sys.stdin:\n",
    "    try:\n",
    "        permutation, word, count = line.strip().split('\\t', 2)\n",
    "        count = int(count)\n",
    "    except ValueError as e:\n",
    "        continue\n",
    "    \n",
    "    if current_key != permutation:        \n",
    "        if current_key and len(words) > 1:\n",
    "            print \"%d\\t%d\\t%s\" % (key_sum, len(words), ','.join(sorted(words)))\n",
    "        current_key = permutation\n",
    "        key_sum = 0\n",
    "        words = set()\n",
    "    key_sum += count\n",
    "    words.add(word)\n",
    "    \n",
    "if current_key and len(words) > 1:    \n",
    "    print \"%d\\t%d\\t%s\" % (key_sum, len(words), ','.join(sorted(words)))"
   ]
  },
  {
   "cell_type": "code",
   "execution_count": 7,
   "metadata": {},
   "outputs": [
    {
     "name": "stdout",
     "output_type": "stream",
     "text": [
      "5\t5\tenglish,helsing,hesling,shengli,shingle\r\n",
      "10\t3\temit,item,time\r\n"
     ]
    }
   ],
   "source": [
    "cat test.dat | python2 ./mapper1.py | sort | python2 ./combiner1.py | python2 ./reducer1.py"
   ]
  },
  {
   "cell_type": "code",
   "execution_count": 8,
   "metadata": {},
   "outputs": [
    {
     "name": "stdout",
     "output_type": "stream",
     "text": [
      "7825\t5\tenglish,helsing,hesling,shengli,shingle\n"
     ]
    },
    {
     "name": "stderr",
     "output_type": "stream",
     "text": [
      "19/04/18 12:03:19 INFO client.RMProxy: Connecting to ResourceManager at /0.0.0.0:8032\n",
      "19/04/18 12:03:19 INFO client.RMProxy: Connecting to ResourceManager at /0.0.0.0:8032\n",
      "19/04/18 12:03:20 INFO mapred.FileInputFormat: Total input files to process : 1\n",
      "19/04/18 12:03:20 INFO mapreduce.JobSubmitter: number of splits:2\n",
      "19/04/18 12:03:20 INFO mapreduce.JobSubmitter: Submitting tokens for job: job_1555571073071_0004\n",
      "19/04/18 12:03:20 INFO impl.YarnClientImpl: Submitted application application_1555571073071_0004\n",
      "19/04/18 12:03:20 INFO mapreduce.Job: The url to track the job: http://28294daafed9:8088/proxy/application_1555571073071_0004/\n",
      "19/04/18 12:03:20 INFO mapreduce.Job: Running job: job_1555571073071_0004\n",
      "19/04/18 12:03:26 INFO mapreduce.Job: Job job_1555571073071_0004 running in uber mode : false\n",
      "19/04/18 12:03:26 INFO mapreduce.Job:  map 0% reduce 0%\n",
      "19/04/18 12:03:42 INFO mapreduce.Job:  map 33% reduce 0%\n",
      "19/04/18 12:03:48 INFO mapreduce.Job:  map 39% reduce 0%\n",
      "19/04/18 12:03:54 INFO mapreduce.Job:  map 54% reduce 0%\n",
      "19/04/18 12:04:01 INFO mapreduce.Job:  map 67% reduce 0%\n",
      "19/04/18 12:04:06 INFO mapreduce.Job:  map 83% reduce 0%\n",
      "19/04/18 12:04:07 INFO mapreduce.Job:  map 100% reduce 0%\n",
      "19/04/18 12:04:11 INFO mapreduce.Job:  map 100% reduce 13%\n",
      "19/04/18 12:04:12 INFO mapreduce.Job:  map 100% reduce 25%\n",
      "19/04/18 12:04:13 INFO mapreduce.Job:  map 100% reduce 38%\n",
      "19/04/18 12:04:15 INFO mapreduce.Job:  map 100% reduce 63%\n",
      "19/04/18 12:04:17 INFO mapreduce.Job:  map 100% reduce 75%\n",
      "19/04/18 12:04:18 INFO mapreduce.Job:  map 100% reduce 100%\n",
      "19/04/18 12:04:19 INFO mapreduce.Job: Job job_1555571073071_0004 completed successfully\n",
      "19/04/18 12:04:19 INFO mapreduce.Job: Counters: 50\n",
      "\tFile System Counters\n",
      "\t\tFILE: Number of bytes read=42709202\n",
      "\t\tFILE: Number of bytes written=63777043\n",
      "\t\tFILE: Number of read operations=0\n",
      "\t\tFILE: Number of large read operations=0\n",
      "\t\tFILE: Number of write operations=0\n",
      "\t\tHDFS: Number of bytes read=76874501\n",
      "\t\tHDFS: Number of bytes written=774763\n",
      "\t\tHDFS: Number of read operations=30\n",
      "\t\tHDFS: Number of large read operations=0\n",
      "\t\tHDFS: Number of write operations=16\n",
      "\tJob Counters \n",
      "\t\tKilled reduce tasks=1\n",
      "\t\tLaunched map tasks=2\n",
      "\t\tLaunched reduce tasks=8\n",
      "\t\tData-local map tasks=2\n",
      "\t\tTotal time spent by all maps in occupied slots (ms)=75357\n",
      "\t\tTotal time spent by all reduces in occupied slots (ms)=21327\n",
      "\t\tTotal time spent by all map tasks (ms)=75357\n",
      "\t\tTotal time spent by all reduce tasks (ms)=21327\n",
      "\t\tTotal vcore-milliseconds taken by all map tasks=75357\n",
      "\t\tTotal vcore-milliseconds taken by all reduce tasks=21327\n",
      "\t\tTotal megabyte-milliseconds taken by all map tasks=77165568\n",
      "\t\tTotal megabyte-milliseconds taken by all reduce tasks=21838848\n",
      "\tMap-Reduce Framework\n",
      "\t\tMap input records=4100\n",
      "\t\tMap output records=11567265\n",
      "\t\tMap output bytes=169576118\n",
      "\t\tMap output materialized bytes=19766849\n",
      "\t\tInput split bytes=228\n",
      "\t\tCombine input records=12698718\n",
      "\t\tCombine output records=2125082\n",
      "\t\tReduce input groups=369019\n",
      "\t\tReduce shuffle bytes=19766849\n",
      "\t\tReduce input records=993629\n",
      "\t\tReduce output records=32654\n",
      "\t\tSpilled Records=3118711\n",
      "\t\tShuffled Maps =16\n",
      "\t\tFailed Shuffles=0\n",
      "\t\tMerged Map outputs=16\n",
      "\t\tGC time elapsed (ms)=763\n",
      "\t\tCPU time spent (ms)=90310\n",
      "\t\tPhysical memory (bytes) snapshot=2288648192\n",
      "\t\tVirtual memory (bytes) snapshot=20198576128\n",
      "\t\tTotal committed heap usage (bytes)=1569193984\n",
      "\tShuffle Errors\n",
      "\t\tBAD_ID=0\n",
      "\t\tCONNECTION=0\n",
      "\t\tIO_ERROR=0\n",
      "\t\tWRONG_LENGTH=0\n",
      "\t\tWRONG_MAP=0\n",
      "\t\tWRONG_REDUCE=0\n",
      "\tFile Input Format Counters \n",
      "\t\tBytes Read=76874273\n",
      "\tFile Output Format Counters \n",
      "\t\tBytes Written=774763\n",
      "19/04/18 12:04:19 INFO streaming.StreamJob: Output directory: out_\n"
     ]
    }
   ],
   "source": [
    "%%bash\n",
    "\n",
    "OUT_DIR=\"out_\"\n",
    "\n",
    "hdfs dfs -rm -r -skipTrash ${OUT_DIR} > /dev/null\n",
    "\n",
    "yarn jar /opt/cloudera/parcels/CDH/lib/hadoop-mapreduce/hadoop-streaming.jar \\\n",
    "    -D mapred.jab.name=\"Streaming WordGroup\" \\\n",
    "    -D mapreduce.job.reduces=8 \\\n",
    "    -files mapper1.py,combiner1.py,reducer1.py \\\n",
    "    -mapper \"python mapper1.py\" \\\n",
    "    -combiner \"python combiner1.py\" \\\n",
    "    -reducer \"python reducer1.py\" \\\n",
    "    -input /data/wiki/en_articles_part \\\n",
    "    -output ${OUT_DIR} > /dev/null\n",
    "\n",
    "hdfs dfs -cat ${OUT_DIR}/* | grep -P '(,|\\t)english($|,)'"
   ]
  },
  {
   "cell_type": "code",
   "execution_count": null,
   "metadata": {},
   "outputs": [],
   "source": []
  }
 ],
 "metadata": {
  "kernelspec": {
   "display_name": "Python 2",
   "language": "python",
   "name": "python2"
  },
  "language_info": {
   "codemirror_mode": {
    "name": "ipython",
    "version": 2
   },
   "file_extension": ".py",
   "mimetype": "text/x-python",
   "name": "python",
   "nbconvert_exporter": "python",
   "pygments_lexer": "ipython2",
   "version": "2.7.12"
  }
 },
 "nbformat": 4,
 "nbformat_minor": 2
}
