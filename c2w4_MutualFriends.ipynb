{
 "cells": [
  {
   "cell_type": "markdown",
   "metadata": {},
   "source": [
    "# Counting number of the mutual friends\n",
    "For each user having ID in the column userId count the amount of his / her common friends with each other user having ID in the column userId.\n",
    "\n",
    "Print 49 pairs of the users having the largest amount of common friends, ordered in descending order first by the common friends count , then by id of user1 and finally by id of user 2. The format is following: \"count user1 user2\"7\n",
    "\n",
    "Example:\n",
    "<code>\n",
    "234\t54719\t767867\n",
    "120\t54719 767866\n",
    "97 50787 327676\n",
    "</code>\n",
    "\n",
    "To solve this task use the algorithm described in the last video of lesson 1. The overall plan could look like this:\n",
    "\n",
    "* Create a new column “friend” by exploding of column “friends” (like in the demo iPython notebook)\n",
    "* group the resulting dataframe by the column “friend” (like in the demo iPython notebook)\n",
    "* create a column “users” by collecting all users with the same id in the column “friend” together (like in the demo iPython notebook)\n",
    "* sort the elements in the column “users” by the function sort_array\n",
    "* filter only the rows which have more than 1 element in the column “users”\n",
    "* for each row emit all possible ordered pairs of users from the column “users” (tip: write a user defined function for this)\n",
    "* count the number of times each pair has appeared\n",
    "* with the help of the window function (like in the demo python notebook) select 49 pairs of users who have the biggest amount of common friends\n",
    "\n",
    "The sample dataset is located at /data/graphDFSample.\n",
    "\n",
    "The part of the result on the sample dataset:\n",
    "\n",
    "<code>...\n",
    "3044 21864412 51640390\n",
    "3021 17139850 51640390\n",
    "3010 14985079 51640390\n",
    "2970 17139850 21864412\n",
    "2913 20158643 27967558\n",
    "...</code>\n",
    "\n",
    "Notes\n",
    "\n",
    "The system grades standard output and error streams from the last non-empty cell.\n",
    "If you have clicked \"Open tool\" and received \"404\" or \"405\" error, please reload the page from the Coursera interface.\n",
    "If you want to deploy the environment on your own machine, please use bigdatateam/spark-course2 Docker container."
   ]
  },
  {
   "cell_type": "code",
   "execution_count": 1,
   "metadata": {},
   "outputs": [],
   "source": [
    "from pyspark.sql import SparkSession\n",
    "spark = SparkSession.builder.enableHiveSupport().master(\"local\").getOrCreate()"
   ]
  },
  {
   "cell_type": "code",
   "execution_count": 2,
   "metadata": {},
   "outputs": [
    {
     "name": "stdout",
     "output_type": "stream",
     "text": [
      "[4, 5]\n",
      "[2, 5]\n",
      "[1, 5]\n",
      "[3, 5]\n",
      "[2, 4]\n",
      "[1, 4]\n",
      "[3, 4]\n",
      "[1, 2]\n",
      "[2, 3]\n",
      "[1, 3]\n"
     ]
    }
   ],
   "source": [
    "def emit_internal(arr):  \n",
    "    l = len(arr)\n",
    "    for i in range(l):\n",
    "        for j in range(i+1,l):        \n",
    "            x, y = arr[i], arr[j]\n",
    "            yield [x,y] if x<y else [y,x]\n",
    "\n",
    "def emit(arr):\n",
    "    return list(emit_internal(arr))\n",
    "\n",
    "for i in emit([5,4,2,1,3]):\n",
    "    print i"
   ]
  },
  {
   "cell_type": "code",
   "execution_count": 3,
   "metadata": {},
   "outputs": [],
   "source": [
    "import pyspark.sql.functions as f\n",
    "import pyspark.sql.types as t\n",
    "\n",
    "emit_udf = f.udf(emit, t.ArrayType(t.ArrayType(t.IntegerType())))\n",
    "\n",
    "df = spark.read.parquet(\"/data/graphDFSample\") \\\n",
    "    .select(\"user\", f.explode(\"friends\").alias(\"friend\")) \\\n",
    "    .groupBy(\"friend\").agg(f.collect_list(\"user\").alias(\"users\")) \\\n",
    "    .where(f.size(\"users\") > 1) \\\n",
    "    .select(emit_udf(\"users\").alias(\"pairs\")) \\\n",
    "    .select(f.explode(\"pairs\").alias(\"pair\")) \\\n",
    "    .select(f.col(\"pair\").getItem(0).alias(\"user1\"), f.col(\"pair\").getItem(1).alias(\"user2\")) \\\n",
    "    .groupBy(\"user1\", \"user2\").agg(f.count(\"*\").alias(\"count\")) \\\n",
    "    .orderBy(f.desc(\"count\"), f.desc(\"user1\"), f.desc(\"user2\")) \\\n",
    "    .limit(49)"
   ]
  },
  {
   "cell_type": "code",
   "execution_count": null,
   "metadata": {},
   "outputs": [
    {
     "name": "stdout",
     "output_type": "stream",
     "text": [
      "3206 27967558 42973992\n",
      "3130 20158643 42973992\n",
      "3066 22582764 42973992\n",
      "3044 21864412 51640390\n",
      "3021 17139850 51640390\n",
      "3010 14985079 51640390\n",
      "2970 17139850 21864412\n",
      "2913 20158643 27967558\n",
      "2903 22280814 51151280\n",
      "2870 23848749 51640390\n",
      "2855 20158643 22582764\n",
      "2849 20158643 44996025\n",
      "2846 22280814 42973992\n",
      "2784 21864412 23848749\n",
      "2779 31964081 51640390\n",
      "2776 39205988 51640390\n",
      "2754 17139850 23848749\n",
      "2749 22582764 27967558\n",
      "2728 50561859 51640390\n",
      "2724 15485897 51640390\n",
      "2700 28135661 42973992\n",
      "2655 22280814 27967558\n",
      "2653 42973992 43548989\n",
      "2639 26755857 51640390\n",
      "2621 14635589 51640390\n",
      "2608 15485897 17139850\n",
      "2606 17139850 26755857\n",
      "2601 21864412 39205988\n",
      "2600 8406745 51640390\n",
      "2599 37735419 51640390\n",
      "2597 20158643 28135661\n",
      "2585 40003405 42973992\n",
      "2585 21864412 31964081\n",
      "2581 27967558 43548989\n",
      "2579 23848749 31964081\n",
      "2578 27967558 28135661\n",
      "2578 15485897 21864412\n",
      "2577 42973992 64755069\n",
      "2574 51151280 57077210\n",
      "2573 20158643 43548989\n",
      "2566 21864412 26755857\n",
      "2564 22280814 64755069\n",
      "2561 42973992 44996025\n",
      "2556 17139850 39205988\n",
      "2543 23848749 39205988\n",
      "2521 17139850 31964081\n",
      "2515 27967558 44996025\n",
      "2506 41629539 51640390\n",
      "2505 51151280 64755069\n"
     ]
    }
   ],
   "source": [
    "for u1, u2, cnt in df.collect():\n",
    "    print \"%s %s %s\" % (cnt, u1, u2)"
   ]
  },
  {
   "cell_type": "code",
   "execution_count": null,
   "metadata": {},
   "outputs": [],
   "source": []
  }
 ],
 "metadata": {
  "kernelspec": {
   "display_name": "Python 2",
   "language": "python",
   "name": "python2"
  },
  "language_info": {
   "codemirror_mode": {
    "name": "ipython",
    "version": 2
   },
   "file_extension": ".py",
   "mimetype": "text/x-python",
   "name": "python",
   "nbconvert_exporter": "python",
   "pygments_lexer": "ipython2",
   "version": "2.7.12"
  }
 },
 "nbformat": 4,
 "nbformat_minor": 2
}
