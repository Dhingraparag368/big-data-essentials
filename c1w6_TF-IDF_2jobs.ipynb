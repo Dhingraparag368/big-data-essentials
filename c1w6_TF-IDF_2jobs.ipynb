{
 "cells": [
  {
   "cell_type": "markdown",
   "metadata": {},
   "source": [
    "# Real-World Applications: TF-IDF\n",
    "In this task Hadoop Streaming is used to process Wikipedia articles dump (/data/wiki/en_articles_part).\n",
    "\n",
    "The purpose of this task is to calculate <code>tf*idf</code> for each pair (word, article) from the Wikipedia dump. Apply the stop words filter to speed up calculations. Term frequency (tf) is a function depending on a term (word) and a document (article):\n",
    "\n",
    "<code>tf(term, doc_id) = Nt/N</code>,\n",
    "\n",
    "where Nt - quantity of particular term in the document, N - the total number of terms in the document (without stop words)\n",
    "\n",
    "Inverse document frequency (idf) is a function depends on a term:\n",
    "\n",
    "<code>idf(term) = 1/log(1 + Dt)</code>,\n",
    "\n",
    "where Dt - number of documents in the dataset with the particular term.\n",
    "\n",
    "You can find more information here: https://en.wikipedia.xn--org/wiki/Tfidf-q82h but use just the formulas mentioned above.\n",
    "\n",
    "Dataset location: /data/wiki/en_articles_part\n",
    "\n",
    "Stop words list is in ‘/datasets/stop_words_en.txt’ file.\n",
    "\n",
    "Format: article_id <i>tab</i> article_text\n",
    "\n",
    "To parse the articles don’t forget about Unicode (even though this is an English Wikipedia dump, there are many characters from other languages), remove punctuation marks and transform words to lowercase to get the correct quantities. To cope with Unicode we recommend to use the following tokenizer:\n",
    "\n",
    "Output: <code>tf*idf</code> for term=’labor’ and article_id=12\n",
    "\n",
    "The result on the sample dataset:\n",
    "\n",
    "<code>0.000351</code>\n",
    "\n",
    "<i>Hint: all Wikipedia article_ids are greater than 0. So you can use a dummy article_id=0 to calculate the number of documents with each term.</i>"
   ]
  },
  {
   "cell_type": "code",
   "execution_count": 1,
   "metadata": {},
   "outputs": [
    {
     "name": "stdout",
     "output_type": "stream",
     "text": [
      "Overwriting wiki.dat\n"
     ]
    }
   ],
   "source": [
    "%%writefile wiki.dat\n",
    "\n",
    "1\tIn this task Hadoop Streaming is used to process Wikipedia articles dump calculations.\n",
    "2\tThe purpose of this task is to calculate tf*idf for each pair (word, article) from the Wikipedia dump calculations.\n",
    "3\tApply the stop words filter to speed up calculations calculations calculations calculations calculations. \n",
    "4\tTerm frequency (tf) is a function depending on a term (word) and a document (article)\n",
    "5\tTo parse the articles don’t forget about Unicode (even though this is an English Wikipedia dump\n",
    "\n"
   ]
  },
  {
   "cell_type": "code",
   "execution_count": 2,
   "metadata": {},
   "outputs": [],
   "source": [
    "%%bash\n",
    "cp '/datasets/stop_words_en.txt' 'stop_words_en.txt'"
   ]
  },
  {
   "cell_type": "code",
   "execution_count": 3,
   "metadata": {},
   "outputs": [
    {
     "name": "stdout",
     "output_type": "stream",
     "text": [
      "Overwriting mapper1.py\n"
     ]
    }
   ],
   "source": [
    "%%writefile mapper1.py\n",
    "\n",
    "import sys\n",
    "import re\n",
    "\n",
    "reload(sys)\n",
    "sys.setdefaultencoding('utf-8')\n",
    "\n",
    "with open('stop_words_en.txt', \"r\") as f:\n",
    "    stop_words = set(f.read().splitlines()) \n",
    "\n",
    "for line in sys.stdin:\n",
    "    try:\n",
    "        article_id, text = unicode(line.strip()).split('\\t', 1)\n",
    "    except ValueError as e:\n",
    "        continue\n",
    "\n",
    "    text= re.sub(\"^\\W+|\\W+$\", \"\", text, flags=re.UNICODE)\n",
    "    text = re.split(\"\\W*\\s+\\W*\", text, flags=re.UNICODE)    \n",
    "    text = {w.lower() for w in text if w.lower() not in stop_words}\n",
    "    for term in text:\n",
    "        print \"%s\\t%s\" % (term, article_id) "
   ]
  },
  {
   "cell_type": "code",
   "execution_count": 4,
   "metadata": {},
   "outputs": [
    {
     "name": "stdout",
     "output_type": "stream",
     "text": [
      "apply\t3\r\n",
      "article\t2\r\n",
      "article\t4\r\n",
      "articles\t1\r\n",
      "articles\t5\r\n",
      "calculate\t2\r\n",
      "calculations\t1\r\n",
      "calculations\t2\r\n",
      "calculations\t3\r\n",
      "depending\t4\r\n"
     ]
    }
   ],
   "source": [
    "cat wiki.dat | python2 ./mapper1.py | sort | head"
   ]
  },
  {
   "cell_type": "code",
   "execution_count": 5,
   "metadata": {},
   "outputs": [
    {
     "name": "stdout",
     "output_type": "stream",
     "text": [
      "Overwriting reducer1.py\n"
     ]
    }
   ],
   "source": [
    "%%writefile reducer1.py\n",
    "\n",
    "import sys\n",
    "from math import log\n",
    "\n",
    "current_key = None\n",
    "key_sum = 0\n",
    "idf = lambda x: 1/log(1+x)\n",
    "\n",
    "for line in sys.stdin:\n",
    "    try:\n",
    "        term, article_id = line.strip().split('\\t', 1)\n",
    "    except ValueError as e:\n",
    "        continue\n",
    "        \n",
    "    if current_key != term:\n",
    "        if current_key:            \n",
    "            print \"%d\\t%s\\t%f\" % (0, current_key, idf(key_sum)) # dummy article_id=0\n",
    "        current_key = term\n",
    "        key_sum = 0\n",
    "    key_sum += 1\n",
    "    \n",
    "if current_key:\n",
    "    print \"%d\\t%s\\t%f\" % (0, current_key, idf(key_sum))"
   ]
  },
  {
   "cell_type": "code",
   "execution_count": 6,
   "metadata": {},
   "outputs": [],
   "source": [
    "cat wiki.dat | python2 ./mapper1.py | sort | python2 ./reducer1.py >> wiki.dat"
   ]
  },
  {
   "cell_type": "code",
   "execution_count": 7,
   "metadata": {},
   "outputs": [
    {
     "name": "stdout",
     "output_type": "stream",
     "text": [
      "\r\n",
      "1\tIn this task Hadoop Streaming is used to process Wikipedia articles dump calculations.\r\n",
      "2\tThe purpose of this task is to calculate tf*idf for each pair (word, article) from the Wikipedia dump calculations.\r\n",
      "3\tApply the stop words filter to speed up calculations calculations calculations calculations calculations. \r\n",
      "4\tTerm frequency (tf) is a function depending on a term (word) and a document (article)\r\n",
      "5\tTo parse the articles don’t forget about Unicode (even though this is an English Wikipedia dump\r\n",
      "0\tapply\t1.442695\r\n",
      "0\tarticle\t0.910239\r\n",
      "0\tarticles\t0.910239\r\n",
      "0\tcalculate\t1.442695\r\n"
     ]
    }
   ],
   "source": [
    "cat wiki.dat | head"
   ]
  },
  {
   "cell_type": "code",
   "execution_count": 8,
   "metadata": {},
   "outputs": [
    {
     "name": "stdout",
     "output_type": "stream",
     "text": [
      "Overwriting mapper2.py\n"
     ]
    }
   ],
   "source": [
    "%%writefile mapper2.py\n",
    "\n",
    "import sys\n",
    "import re\n",
    "\n",
    "reload(sys)\n",
    "sys.setdefaultencoding('utf-8')\n",
    "\n",
    "with open('stop_words_en.txt', \"r\") as f:\n",
    "    stop_words = set(f.read().splitlines())\n",
    "    \n",
    "for line in sys.stdin:\n",
    "    try:\n",
    "        article_id, text = unicode(line.strip()).split('\\t', 1)\n",
    "    except ValueError as e:\n",
    "        continue\n",
    "    \n",
    "    article_id = int(article_id)\n",
    "    \n",
    "    if article_id == 0:\n",
    "        term, idf = text.split('\\t', 1)\n",
    "        print \"%s\\t%d\\t%s\" % (term, article_id, idf)\n",
    "        continue\n",
    "    \n",
    "    text= re.sub(\"^\\W+|\\W+$\", \"\", text, flags=re.UNICODE)\n",
    "    text = re.split(\"\\W*\\s+\\W*\", text, flags=re.UNICODE)   \n",
    "    \n",
    "    counter = dict()\n",
    "    for w in text:\n",
    "        w = w.lower()\n",
    "        if w in stop_words:\n",
    "            continue\n",
    "            \n",
    "        if w in counter:\n",
    "            counter[w] += 1\n",
    "        else:\n",
    "            counter[w] = 1\n",
    "    \n",
    "    total = sum(counter.values())\n",
    "    \n",
    "    for term, cnt in counter.iteritems():\n",
    "        print \"%s\\t%d\\t%f\" % (term, article_id, float(cnt)/total) "
   ]
  },
  {
   "cell_type": "code",
   "execution_count": 9,
   "metadata": {},
   "outputs": [
    {
     "name": "stdout",
     "output_type": "stream",
     "text": [
      "apply\t0\t1.442695\r\n",
      "apply\t3\t0.100000\r\n",
      "article\t0\t0.910239\r\n",
      "article\t2\t0.100000\r\n",
      "article\t4\t0.111111\r\n",
      "articles\t0\t0.910239\r\n",
      "articles\t1\t0.111111\r\n",
      "articles\t5\t0.125000\r\n",
      "calculate\t0\t1.442695\r\n",
      "calculate\t2\t0.100000\r\n"
     ]
    }
   ],
   "source": [
    "cat wiki.dat | python2 ./mapper2.py | sort | head"
   ]
  },
  {
   "cell_type": "code",
   "execution_count": 10,
   "metadata": {},
   "outputs": [
    {
     "name": "stdout",
     "output_type": "stream",
     "text": [
      "Overwriting reducer2.py\n"
     ]
    }
   ],
   "source": [
    "%%writefile reducer2.py\n",
    "\n",
    "import sys\n",
    "\n",
    "idf = None\n",
    "\n",
    "for line in sys.stdin:\n",
    "    try:\n",
    "        term, article_id, tf = line.strip().split('\\t', 2)        \n",
    "    except ValueError as e:\n",
    "        continue\n",
    "        \n",
    "    article_id = int(article_id)\n",
    "    tf = float(tf)\n",
    "            \n",
    "    if article_id == 0:\n",
    "        idf = tf\n",
    "        continue\n",
    "    \n",
    "    print \"%s\\t%d\\t%f\" % (term, article_id, tf*idf)"
   ]
  },
  {
   "cell_type": "code",
   "execution_count": 11,
   "metadata": {},
   "outputs": [
    {
     "name": "stdout",
     "output_type": "stream",
     "text": [
      "apply\t3\t0.144270\r\n",
      "article\t2\t0.091024\r\n",
      "article\t4\t0.101138\r\n",
      "articles\t1\t0.101138\r\n",
      "articles\t5\t0.113780\r\n",
      "calculate\t2\t0.144270\r\n",
      "calculations\t1\t0.080150\r\n",
      "calculations\t2\t0.072135\r\n",
      "calculations\t3\t0.360674\r\n",
      "depending\t4\t0.160299\r\n"
     ]
    }
   ],
   "source": [
    "cat wiki.dat | python2 ./mapper2.py | sort  | python2 ./reducer2.py | head"
   ]
  },
  {
   "cell_type": "code",
   "execution_count": 12,
   "metadata": {},
   "outputs": [
    {
     "name": "stdout",
     "output_type": "stream",
     "text": [
      "0.000351\n"
     ]
    },
    {
     "name": "stderr",
     "output_type": "stream",
     "text": [
      "19/05/02 14:26:06 INFO client.RMProxy: Connecting to ResourceManager at /0.0.0.0:8032\n",
      "19/05/02 14:26:06 INFO client.RMProxy: Connecting to ResourceManager at /0.0.0.0:8032\n",
      "19/05/02 14:26:07 INFO mapred.FileInputFormat: Total input files to process : 1\n",
      "19/05/02 14:26:07 INFO mapreduce.JobSubmitter: number of splits:2\n",
      "19/05/02 14:26:07 INFO mapreduce.JobSubmitter: Submitting tokens for job: job_1556715347669_0006\n",
      "19/05/02 14:26:07 INFO impl.YarnClientImpl: Submitted application application_1556715347669_0006\n",
      "19/05/02 14:26:07 INFO mapreduce.Job: The url to track the job: http://5e7e19746200:8088/proxy/application_1556715347669_0006/\n",
      "19/05/02 14:26:07 INFO mapreduce.Job: Running job: job_1556715347669_0006\n",
      "19/05/02 14:26:13 INFO mapreduce.Job: Job job_1556715347669_0006 running in uber mode : false\n",
      "19/05/02 14:26:13 INFO mapreduce.Job:  map 0% reduce 0%\n",
      "19/05/02 14:26:29 INFO mapreduce.Job:  map 83% reduce 0%\n",
      "19/05/02 14:26:30 INFO mapreduce.Job:  map 100% reduce 0%\n",
      "19/05/02 14:26:36 INFO mapreduce.Job:  map 100% reduce 25%\n",
      "19/05/02 14:26:37 INFO mapreduce.Job:  map 100% reduce 50%\n",
      "19/05/02 14:26:38 INFO mapreduce.Job:  map 100% reduce 75%\n",
      "19/05/02 14:26:39 INFO mapreduce.Job:  map 100% reduce 100%\n",
      "19/05/02 14:26:39 INFO mapreduce.Job: Job job_1556715347669_0006 completed successfully\n",
      "19/05/02 14:26:39 INFO mapreduce.Job: Counters: 50\n",
      "\tFile System Counters\n",
      "\t\tFILE: Number of bytes read=52446242\n",
      "\t\tFILE: Number of bytes written=105732102\n",
      "\t\tFILE: Number of read operations=0\n",
      "\t\tFILE: Number of large read operations=0\n",
      "\t\tFILE: Number of write operations=0\n",
      "\t\tHDFS: Number of bytes read=76874501\n",
      "\t\tHDFS: Number of bytes written=9139759\n",
      "\t\tHDFS: Number of read operations=18\n",
      "\t\tHDFS: Number of large read operations=0\n",
      "\t\tHDFS: Number of write operations=8\n",
      "\tJob Counters \n",
      "\t\tKilled reduce tasks=1\n",
      "\t\tLaunched map tasks=2\n",
      "\t\tLaunched reduce tasks=4\n",
      "\t\tData-local map tasks=2\n",
      "\t\tTotal time spent by all maps in occupied slots (ms)=29074\n",
      "\t\tTotal time spent by all reduces in occupied slots (ms)=17505\n",
      "\t\tTotal time spent by all map tasks (ms)=29074\n",
      "\t\tTotal time spent by all reduce tasks (ms)=17505\n",
      "\t\tTotal vcore-milliseconds taken by all map tasks=29074\n",
      "\t\tTotal vcore-milliseconds taken by all reduce tasks=17505\n",
      "\t\tTotal megabyte-milliseconds taken by all map tasks=29771776\n",
      "\t\tTotal megabyte-milliseconds taken by all reduce tasks=17925120\n",
      "\tMap-Reduce Framework\n",
      "\t\tMap input records=4100\n",
      "\t\tMap output records=3472288\n",
      "\t\tMap output bytes=45501632\n",
      "\t\tMap output materialized bytes=52446266\n",
      "\t\tInput split bytes=228\n",
      "\t\tCombine input records=0\n",
      "\t\tCombine output records=0\n",
      "\t\tReduce input groups=426241\n",
      "\t\tReduce shuffle bytes=52446266\n",
      "\t\tReduce input records=3472288\n",
      "\t\tReduce output records=426241\n",
      "\t\tSpilled Records=6944576\n",
      "\t\tShuffled Maps =8\n",
      "\t\tFailed Shuffles=0\n",
      "\t\tMerged Map outputs=8\n",
      "\t\tGC time elapsed (ms)=466\n",
      "\t\tCPU time spent (ms)=26310\n",
      "\t\tPhysical memory (bytes) snapshot=1458245632\n",
      "\t\tVirtual memory (bytes) snapshot=12144746496\n",
      "\t\tTotal committed heap usage (bytes)=980942848\n",
      "\tShuffle Errors\n",
      "\t\tBAD_ID=0\n",
      "\t\tCONNECTION=0\n",
      "\t\tIO_ERROR=0\n",
      "\t\tWRONG_LENGTH=0\n",
      "\t\tWRONG_MAP=0\n",
      "\t\tWRONG_REDUCE=0\n",
      "\tFile Input Format Counters \n",
      "\t\tBytes Read=76874273\n",
      "\tFile Output Format Counters \n",
      "\t\tBytes Written=9139759\n",
      "19/05/02 14:26:39 INFO streaming.StreamJob: Output directory: idf\n",
      "19/05/02 14:26:41 INFO client.RMProxy: Connecting to ResourceManager at /0.0.0.0:8032\n",
      "19/05/02 14:26:42 INFO client.RMProxy: Connecting to ResourceManager at /0.0.0.0:8032\n",
      "19/05/02 14:26:42 INFO mapred.FileInputFormat: Total input files to process : 5\n",
      "19/05/02 14:26:42 INFO mapreduce.JobSubmitter: number of splits:6\n",
      "19/05/02 14:26:42 INFO mapreduce.JobSubmitter: Submitting tokens for job: job_1556715347669_0007\n",
      "19/05/02 14:26:42 INFO impl.YarnClientImpl: Submitted application application_1556715347669_0007\n",
      "19/05/02 14:26:42 INFO mapreduce.Job: The url to track the job: http://5e7e19746200:8088/proxy/application_1556715347669_0007/\n",
      "19/05/02 14:26:42 INFO mapreduce.Job: Running job: job_1556715347669_0007\n",
      "19/05/02 14:26:52 INFO mapreduce.Job: Job job_1556715347669_0007 running in uber mode : false\n",
      "19/05/02 14:26:52 INFO mapreduce.Job:  map 0% reduce 0%\n",
      "19/05/02 14:26:58 INFO mapreduce.Job:  map 67% reduce 0%\n",
      "19/05/02 14:27:08 INFO mapreduce.Job:  map 76% reduce 0%\n",
      "19/05/02 14:27:09 INFO mapreduce.Job:  map 87% reduce 0%\n",
      "19/05/02 14:27:11 INFO mapreduce.Job:  map 92% reduce 0%\n",
      "19/05/02 14:27:14 INFO mapreduce.Job:  map 94% reduce 7%\n",
      "19/05/02 14:27:15 INFO mapreduce.Job:  map 100% reduce 14%\n",
      "19/05/02 14:27:16 INFO mapreduce.Job:  map 100% reduce 31%\n",
      "19/05/02 14:27:17 INFO mapreduce.Job:  map 100% reduce 48%\n",
      "19/05/02 14:27:19 INFO mapreduce.Job:  map 100% reduce 56%\n",
      "19/05/02 14:27:20 INFO mapreduce.Job:  map 100% reduce 100%\n",
      "19/05/02 14:27:21 INFO mapreduce.Job: Job job_1556715347669_0007 completed successfully\n",
      "19/05/02 14:27:21 INFO mapreduce.Job: Counters: 50\n",
      "\tFile System Counters\n",
      "\t\tFILE: Number of bytes read=93689103\n",
      "\t\tFILE: Number of bytes written=188783258\n",
      "\t\tFILE: Number of read operations=0\n",
      "\t\tFILE: Number of large read operations=0\n",
      "\t\tFILE: Number of write operations=0\n",
      "\t\tHDFS: Number of bytes read=86055620\n",
      "\t\tHDFS: Number of bytes written=76752215\n",
      "\t\tHDFS: Number of read operations=30\n",
      "\t\tHDFS: Number of large read operations=0\n",
      "\t\tHDFS: Number of write operations=8\n",
      "\tJob Counters \n",
      "\t\tKilled map tasks=1\n",
      "\t\tLaunched map tasks=6\n",
      "\t\tLaunched reduce tasks=4\n",
      "\t\tData-local map tasks=6\n",
      "\t\tTotal time spent by all maps in occupied slots (ms)=53788\n",
      "\t\tTotal time spent by all reduces in occupied slots (ms)=74245\n",
      "\t\tTotal time spent by all map tasks (ms)=53788\n",
      "\t\tTotal time spent by all reduce tasks (ms)=74245\n",
      "\t\tTotal vcore-milliseconds taken by all map tasks=53788\n",
      "\t\tTotal vcore-milliseconds taken by all reduce tasks=74245\n",
      "\t\tTotal megabyte-milliseconds taken by all map tasks=55078912\n",
      "\t\tTotal megabyte-milliseconds taken by all reduce tasks=76026880\n",
      "\tMap-Reduce Framework\n",
      "\t\tMap input records=430341\n",
      "\t\tMap output records=3898529\n",
      "\t\tMap output bytes=85891997\n",
      "\t\tMap output materialized bytes=93689223\n",
      "\t\tInput split bytes=628\n",
      "\t\tCombine input records=0\n",
      "\t\tCombine output records=0\n",
      "\t\tReduce input groups=3898529\n",
      "\t\tReduce shuffle bytes=93689223\n",
      "\t\tReduce input records=3898529\n",
      "\t\tReduce output records=3472288\n",
      "\t\tSpilled Records=7797058\n",
      "\t\tShuffled Maps =24\n",
      "\t\tFailed Shuffles=0\n",
      "\t\tMerged Map outputs=24\n",
      "\t\tGC time elapsed (ms)=1286\n",
      "\t\tCPU time spent (ms)=57110\n",
      "\t\tPhysical memory (bytes) snapshot=2544623616\n",
      "\t\tVirtual memory (bytes) snapshot=20162519040\n",
      "\t\tTotal committed heap usage (bytes)=1752170496\n",
      "\tShuffle Errors\n",
      "\t\tBAD_ID=0\n",
      "\t\tCONNECTION=0\n",
      "\t\tIO_ERROR=0\n",
      "\t\tWRONG_LENGTH=0\n",
      "\t\tWRONG_MAP=0\n",
      "\t\tWRONG_REDUCE=0\n",
      "\tFile Input Format Counters \n",
      "\t\tBytes Read=86054992\n",
      "\tFile Output Format Counters \n",
      "\t\tBytes Written=76752215\n",
      "19/05/02 14:27:21 INFO streaming.StreamJob: Output directory: tf_idf\n"
     ]
    }
   ],
   "source": [
    "%%bash\n",
    "\n",
    "WIKI_DIR=\"/data/wiki/en_articles_part\"\n",
    "IDF_DIR=\"idf\"\n",
    "TFIDF_DIR=\"tf_idf\"\n",
    "\n",
    "hdfs dfs -rm -r -skipTrash ${IDF_DIR} > /dev/null\n",
    "hdfs dfs -rm -r -skipTrash ${TFIDF_DIR} > /dev/null\n",
    "\n",
    "yarn jar /opt/cloudera/parcels/CDH/lib/hadoop-mapreduce/hadoop-streaming.jar \\\n",
    "    -D mapred.jab.name=\"Calculate IDF\" \\\n",
    "    -D mapreduce.job.reduces=4 \\\n",
    "    -files mapper1.py,reducer1.py,/datasets/stop_words_en.txt \\\n",
    "    -mapper \"python mapper1.py\" \\\n",
    "    -reducer \"python reducer1.py\" \\\n",
    "    -input ${WIKI_DIR} \\\n",
    "    -output ${IDF_DIR} > /dev/null\n",
    "    \n",
    "yarn jar /opt/cloudera/parcels/CDH/lib/hadoop-mapreduce/hadoop-streaming.jar \\\n",
    "    -D mapred.jab.name=\"Calculate TF-IDF\" \\\n",
    "    -D mapreduce.job.reduces=4 \\\n",
    "    -D mapreduce.partition.keypartitioner.options=\"-k1,1\"\\\n",
    "    -D stream.num.map.output.key.fields=2 \\\n",
    "    -files mapper2.py,reducer2.py,/datasets/stop_words_en.txt \\\n",
    "    -mapper \"python mapper2.py\" \\\n",
    "    -reducer \"python reducer2.py\" \\\n",
    "    -input ${WIKI_DIR},${IDF_DIR} \\\n",
    "    -output ${TFIDF_DIR} \\\n",
    "    -partitioner org.apache.hadoop.mapred.lib.KeyFieldBasedPartitioner > /dev/null\n",
    "\n",
    "hdfs dfs -cat ${TFIDF_DIR}/* |  grep -P 'labor\\t12\\t' | cut -f3"
   ]
  },
  {
   "cell_type": "code",
   "execution_count": null,
   "metadata": {},
   "outputs": [],
   "source": []
  }
 ],
 "metadata": {
  "kernelspec": {
   "display_name": "Python 2",
   "language": "python",
   "name": "python2"
  },
  "language_info": {
   "codemirror_mode": {
    "name": "ipython",
    "version": 2
   },
   "file_extension": ".py",
   "mimetype": "text/x-python",
   "name": "python",
   "nbconvert_exporter": "python",
   "pygments_lexer": "ipython2",
   "version": "2.7.12"
  }
 },
 "nbformat": 4,
 "nbformat_minor": 2
}
